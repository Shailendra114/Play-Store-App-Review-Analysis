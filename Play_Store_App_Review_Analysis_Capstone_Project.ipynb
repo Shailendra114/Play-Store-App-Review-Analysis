{
  "nbformat": 4,
  "nbformat_minor": 0,
  "metadata": {
    "colab": {
      "name": "Play Store App Review Analysis - Capstone Project.ipynb",
      "provenance": [],
      "collapsed_sections": [],
      "include_colab_link": true
    },
    "kernelspec": {
      "display_name": "Python 3",
      "language": "python",
      "name": "python3"
    },
    "language_info": {
      "codemirror_mode": {
        "name": "ipython",
        "version": 3
      },
      "file_extension": ".py",
      "mimetype": "text/x-python",
      "name": "python",
      "nbconvert_exporter": "python",
      "pygments_lexer": "ipython3",
      "version": "3.6.6"
    }
  },
  "cells": [
    {
      "cell_type": "markdown",
      "metadata": {
        "id": "view-in-github",
        "colab_type": "text"
      },
      "source": [
        "<a href=\"https://colab.research.google.com/github/Shailendra114/Play-Store-App-Review-Analysis/blob/main/Play_Store_App_Review_Analysis_Capstone_Project.ipynb\" target=\"_parent\"><img src=\"https://colab.research.google.com/assets/colab-badge.svg\" alt=\"Open In Colab\"/></a>"
      ]
    },
    {
      "cell_type": "markdown",
      "metadata": {
        "id": "Y06xIdG26kRF"
      },
      "source": [
        "## <b> The Play Store apps data has enormous potential to drive app-making businesses to success. Actionable insights can be drawn for developers to work on and capture the Android market. </b>\n",
        "\n",
        "## <b> Each app (row) has values for catergory, rating, size, and more. Another dataset contains customer reviews of the android apps.</b>\n",
        "\n",
        "## <b> Explore and analyze the data to discover key factors responsible for app engagement and success. </b>"
      ]
    },
    {
      "cell_type": "markdown",
      "metadata": {
        "id": "NOMEsuikNwvX"
      },
      "source": [
        "# The objective of this project is to deliver insights to understand customer demands better and thus help developers to popularize the product. It is of 10k Play Store apps for analyzing the Android market. This dataset contains details of different applications and reviews from different users.\n"
      ]
    },
    {
      "cell_type": "markdown",
      "metadata": {
        "id": "Z1VmdIEgiyjd"
      },
      "source": [
        "# Part 1--(Play store Data of Apps and Features)"
      ]
    },
    {
      "cell_type": "markdown",
      "metadata": {
        "id": "dobzoSBBN--S"
      },
      "source": [
        "Discussion of Google play store dataset will involve various steps such as:\n",
        "\n",
        "1. Loading the data into data frame\n",
        "2. Cleaning the data\n",
        "3. Extracting statistics from the dataset\n",
        "4. Exploratory Analysis and Visualizations\n",
        "5. Questions that can be asked from the dataset\n",
        "6. Conclusion\n",
        "\n",
        "Now we are good to go and have fun-----\n",
        "\n",
        "\n",
        "\n",
        "\n"
      ]
    },
    {
      "cell_type": "code",
      "metadata": {
        "id": "MM2wrtWGRh2k"
      },
      "source": [
        "#important libraries which we wil be using in our project\n",
        "import pandas as pd\n",
        "import numpy as np\n",
        "import matplotlib.pyplot as plt\n",
        "%matplotlib inline\n",
        "import seaborn as sns\n",
        "import pandas_profiling as pp\n",
        "import warnings\n",
        "warnings.filterwarnings(\"ignore\")\n",
        "import plotly.express as px\n",
        "\n"
      ],
      "execution_count": null,
      "outputs": []
    },
    {
      "cell_type": "markdown",
      "metadata": {
        "id": "ct5ttbJyU9B2"
      },
      "source": [
        "#Step 1. Loading data into Dataframe"
      ]
    },
    {
      "cell_type": "code",
      "metadata": {
        "colab": {
          "base_uri": "https://localhost:8080/"
        },
        "id": "gX4gjR168Pyj",
        "outputId": "8b81dd5c-3d5f-4300-d54a-4ca130d892e1"
      },
      "source": [
        "#Lets mount our drive\n",
        "from google.colab import drive\n",
        "drive.mount('/content/drive')"
      ],
      "execution_count": null,
      "outputs": [
        {
          "output_type": "stream",
          "name": "stdout",
          "text": [
            "Drive already mounted at /content/drive; to attempt to forcibly remount, call drive.mount(\"/content/drive\", force_remount=True).\n"
          ]
        }
      ]
    },
    {
      "cell_type": "code",
      "metadata": {
        "id": "1I_L2aEN80Wq"
      },
      "source": [
        "#Lets upload our file\n",
        "df= pd.read_csv('/content/drive/MyDrive/Play Store Data.csv')"
      ],
      "execution_count": null,
      "outputs": []
    },
    {
      "cell_type": "code",
      "metadata": {
        "colab": {
          "base_uri": "https://localhost:8080/"
        },
        "id": "C0jm-A-BFMnW",
        "outputId": "49350d86-20bd-4274-df59-6f76e7ec98a9"
      },
      "source": [
        "#since we have uploaded our data lets check type of our data\n",
        "type(df)"
      ],
      "execution_count": null,
      "outputs": [
        {
          "output_type": "execute_result",
          "data": {
            "text/plain": [
              "pandas.core.frame.DataFrame"
            ]
          },
          "metadata": {},
          "execution_count": 47
        }
      ]
    },
    {
      "cell_type": "code",
      "metadata": {
        "colab": {
          "base_uri": "https://localhost:8080/",
          "height": 287
        },
        "id": "vejlU5tYcyEv",
        "outputId": "99fb32bd-cc42-4f92-d621-c8ef0ff4df03"
      },
      "source": [
        "# lets check how our data look from top\n",
        "df.head()\n"
      ],
      "execution_count": null,
      "outputs": [
        {
          "output_type": "execute_result",
          "data": {
            "text/html": [
              "<div>\n",
              "<style scoped>\n",
              "    .dataframe tbody tr th:only-of-type {\n",
              "        vertical-align: middle;\n",
              "    }\n",
              "\n",
              "    .dataframe tbody tr th {\n",
              "        vertical-align: top;\n",
              "    }\n",
              "\n",
              "    .dataframe thead th {\n",
              "        text-align: right;\n",
              "    }\n",
              "</style>\n",
              "<table border=\"1\" class=\"dataframe\">\n",
              "  <thead>\n",
              "    <tr style=\"text-align: right;\">\n",
              "      <th></th>\n",
              "      <th>App</th>\n",
              "      <th>Category</th>\n",
              "      <th>Rating</th>\n",
              "      <th>Reviews</th>\n",
              "      <th>Size</th>\n",
              "      <th>Installs</th>\n",
              "      <th>Type</th>\n",
              "      <th>Price</th>\n",
              "      <th>Content Rating</th>\n",
              "      <th>Genres</th>\n",
              "      <th>Last Updated</th>\n",
              "      <th>Current Ver</th>\n",
              "      <th>Android Ver</th>\n",
              "    </tr>\n",
              "  </thead>\n",
              "  <tbody>\n",
              "    <tr>\n",
              "      <th>0</th>\n",
              "      <td>Photo Editor &amp; Candy Camera &amp; Grid &amp; ScrapBook</td>\n",
              "      <td>ART_AND_DESIGN</td>\n",
              "      <td>4.1</td>\n",
              "      <td>159</td>\n",
              "      <td>19M</td>\n",
              "      <td>10,000+</td>\n",
              "      <td>Free</td>\n",
              "      <td>0</td>\n",
              "      <td>Everyone</td>\n",
              "      <td>Art &amp; Design</td>\n",
              "      <td>January 7, 2018</td>\n",
              "      <td>1.0.0</td>\n",
              "      <td>4.0.3 and up</td>\n",
              "    </tr>\n",
              "    <tr>\n",
              "      <th>1</th>\n",
              "      <td>Coloring book moana</td>\n",
              "      <td>ART_AND_DESIGN</td>\n",
              "      <td>3.9</td>\n",
              "      <td>967</td>\n",
              "      <td>14M</td>\n",
              "      <td>500,000+</td>\n",
              "      <td>Free</td>\n",
              "      <td>0</td>\n",
              "      <td>Everyone</td>\n",
              "      <td>Art &amp; Design;Pretend Play</td>\n",
              "      <td>January 15, 2018</td>\n",
              "      <td>2.0.0</td>\n",
              "      <td>4.0.3 and up</td>\n",
              "    </tr>\n",
              "    <tr>\n",
              "      <th>2</th>\n",
              "      <td>U Launcher Lite – FREE Live Cool Themes, Hide ...</td>\n",
              "      <td>ART_AND_DESIGN</td>\n",
              "      <td>4.7</td>\n",
              "      <td>87510</td>\n",
              "      <td>8.7M</td>\n",
              "      <td>5,000,000+</td>\n",
              "      <td>Free</td>\n",
              "      <td>0</td>\n",
              "      <td>Everyone</td>\n",
              "      <td>Art &amp; Design</td>\n",
              "      <td>August 1, 2018</td>\n",
              "      <td>1.2.4</td>\n",
              "      <td>4.0.3 and up</td>\n",
              "    </tr>\n",
              "    <tr>\n",
              "      <th>3</th>\n",
              "      <td>Sketch - Draw &amp; Paint</td>\n",
              "      <td>ART_AND_DESIGN</td>\n",
              "      <td>4.5</td>\n",
              "      <td>215644</td>\n",
              "      <td>25M</td>\n",
              "      <td>50,000,000+</td>\n",
              "      <td>Free</td>\n",
              "      <td>0</td>\n",
              "      <td>Teen</td>\n",
              "      <td>Art &amp; Design</td>\n",
              "      <td>June 8, 2018</td>\n",
              "      <td>Varies with device</td>\n",
              "      <td>4.2 and up</td>\n",
              "    </tr>\n",
              "    <tr>\n",
              "      <th>4</th>\n",
              "      <td>Pixel Draw - Number Art Coloring Book</td>\n",
              "      <td>ART_AND_DESIGN</td>\n",
              "      <td>4.3</td>\n",
              "      <td>967</td>\n",
              "      <td>2.8M</td>\n",
              "      <td>100,000+</td>\n",
              "      <td>Free</td>\n",
              "      <td>0</td>\n",
              "      <td>Everyone</td>\n",
              "      <td>Art &amp; Design;Creativity</td>\n",
              "      <td>June 20, 2018</td>\n",
              "      <td>1.1</td>\n",
              "      <td>4.4 and up</td>\n",
              "    </tr>\n",
              "  </tbody>\n",
              "</table>\n",
              "</div>"
            ],
            "text/plain": [
              "                                                 App  ...   Android Ver\n",
              "0     Photo Editor & Candy Camera & Grid & ScrapBook  ...  4.0.3 and up\n",
              "1                                Coloring book moana  ...  4.0.3 and up\n",
              "2  U Launcher Lite – FREE Live Cool Themes, Hide ...  ...  4.0.3 and up\n",
              "3                              Sketch - Draw & Paint  ...    4.2 and up\n",
              "4              Pixel Draw - Number Art Coloring Book  ...    4.4 and up\n",
              "\n",
              "[5 rows x 13 columns]"
            ]
          },
          "metadata": {},
          "execution_count": 48
        }
      ]
    },
    {
      "cell_type": "code",
      "metadata": {
        "colab": {
          "base_uri": "https://localhost:8080/",
          "height": 270
        },
        "id": "HxLNfsizFvlO",
        "outputId": "761e4b67-0585-4258-e2f0-8138ec406758"
      },
      "source": [
        "#lets check it from bottom\n",
        "df.tail()"
      ],
      "execution_count": null,
      "outputs": [
        {
          "output_type": "execute_result",
          "data": {
            "text/html": [
              "<div>\n",
              "<style scoped>\n",
              "    .dataframe tbody tr th:only-of-type {\n",
              "        vertical-align: middle;\n",
              "    }\n",
              "\n",
              "    .dataframe tbody tr th {\n",
              "        vertical-align: top;\n",
              "    }\n",
              "\n",
              "    .dataframe thead th {\n",
              "        text-align: right;\n",
              "    }\n",
              "</style>\n",
              "<table border=\"1\" class=\"dataframe\">\n",
              "  <thead>\n",
              "    <tr style=\"text-align: right;\">\n",
              "      <th></th>\n",
              "      <th>App</th>\n",
              "      <th>Category</th>\n",
              "      <th>Rating</th>\n",
              "      <th>Reviews</th>\n",
              "      <th>Size</th>\n",
              "      <th>Installs</th>\n",
              "      <th>Type</th>\n",
              "      <th>Price</th>\n",
              "      <th>Content Rating</th>\n",
              "      <th>Genres</th>\n",
              "      <th>Last Updated</th>\n",
              "      <th>Current Ver</th>\n",
              "      <th>Android Ver</th>\n",
              "    </tr>\n",
              "  </thead>\n",
              "  <tbody>\n",
              "    <tr>\n",
              "      <th>10836</th>\n",
              "      <td>Sya9a Maroc - FR</td>\n",
              "      <td>FAMILY</td>\n",
              "      <td>4.5</td>\n",
              "      <td>38</td>\n",
              "      <td>53M</td>\n",
              "      <td>5,000+</td>\n",
              "      <td>Free</td>\n",
              "      <td>0</td>\n",
              "      <td>Everyone</td>\n",
              "      <td>Education</td>\n",
              "      <td>July 25, 2017</td>\n",
              "      <td>1.48</td>\n",
              "      <td>4.1 and up</td>\n",
              "    </tr>\n",
              "    <tr>\n",
              "      <th>10837</th>\n",
              "      <td>Fr. Mike Schmitz Audio Teachings</td>\n",
              "      <td>FAMILY</td>\n",
              "      <td>5.0</td>\n",
              "      <td>4</td>\n",
              "      <td>3.6M</td>\n",
              "      <td>100+</td>\n",
              "      <td>Free</td>\n",
              "      <td>0</td>\n",
              "      <td>Everyone</td>\n",
              "      <td>Education</td>\n",
              "      <td>July 6, 2018</td>\n",
              "      <td>1.0</td>\n",
              "      <td>4.1 and up</td>\n",
              "    </tr>\n",
              "    <tr>\n",
              "      <th>10838</th>\n",
              "      <td>Parkinson Exercices FR</td>\n",
              "      <td>MEDICAL</td>\n",
              "      <td>NaN</td>\n",
              "      <td>3</td>\n",
              "      <td>9.5M</td>\n",
              "      <td>1,000+</td>\n",
              "      <td>Free</td>\n",
              "      <td>0</td>\n",
              "      <td>Everyone</td>\n",
              "      <td>Medical</td>\n",
              "      <td>January 20, 2017</td>\n",
              "      <td>1.0</td>\n",
              "      <td>2.2 and up</td>\n",
              "    </tr>\n",
              "    <tr>\n",
              "      <th>10839</th>\n",
              "      <td>The SCP Foundation DB fr nn5n</td>\n",
              "      <td>BOOKS_AND_REFERENCE</td>\n",
              "      <td>4.5</td>\n",
              "      <td>114</td>\n",
              "      <td>Varies with device</td>\n",
              "      <td>1,000+</td>\n",
              "      <td>Free</td>\n",
              "      <td>0</td>\n",
              "      <td>Mature 17+</td>\n",
              "      <td>Books &amp; Reference</td>\n",
              "      <td>January 19, 2015</td>\n",
              "      <td>Varies with device</td>\n",
              "      <td>Varies with device</td>\n",
              "    </tr>\n",
              "    <tr>\n",
              "      <th>10840</th>\n",
              "      <td>iHoroscope - 2018 Daily Horoscope &amp; Astrology</td>\n",
              "      <td>LIFESTYLE</td>\n",
              "      <td>4.5</td>\n",
              "      <td>398307</td>\n",
              "      <td>19M</td>\n",
              "      <td>10,000,000+</td>\n",
              "      <td>Free</td>\n",
              "      <td>0</td>\n",
              "      <td>Everyone</td>\n",
              "      <td>Lifestyle</td>\n",
              "      <td>July 25, 2018</td>\n",
              "      <td>Varies with device</td>\n",
              "      <td>Varies with device</td>\n",
              "    </tr>\n",
              "  </tbody>\n",
              "</table>\n",
              "</div>"
            ],
            "text/plain": [
              "                                                 App  ...         Android Ver\n",
              "10836                               Sya9a Maroc - FR  ...          4.1 and up\n",
              "10837               Fr. Mike Schmitz Audio Teachings  ...          4.1 and up\n",
              "10838                         Parkinson Exercices FR  ...          2.2 and up\n",
              "10839                  The SCP Foundation DB fr nn5n  ...  Varies with device\n",
              "10840  iHoroscope - 2018 Daily Horoscope & Astrology  ...  Varies with device\n",
              "\n",
              "[5 rows x 13 columns]"
            ]
          },
          "metadata": {},
          "execution_count": 49
        }
      ]
    },
    {
      "cell_type": "markdown",
      "metadata": {
        "id": "fDwasYQDGdMo"
      },
      "source": [
        "Wow! how beautiful it is\n",
        "\n"
      ]
    },
    {
      "cell_type": "code",
      "metadata": {
        "colab": {
          "base_uri": "https://localhost:8080/"
        },
        "id": "sBVnTkeYG2q6",
        "outputId": "6202a0ec-8964-49f6-af64-70b1f568aaa4"
      },
      "source": [
        "#lets check shape of our data\n",
        "df.shape"
      ],
      "execution_count": null,
      "outputs": [
        {
          "output_type": "execute_result",
          "data": {
            "text/plain": [
              "(10841, 13)"
            ]
          },
          "metadata": {},
          "execution_count": 50
        }
      ]
    },
    {
      "cell_type": "code",
      "metadata": {
        "colab": {
          "base_uri": "https://localhost:8080/",
          "height": 295
        },
        "id": "-YsmhsvxIGaw",
        "outputId": "fdf29f64-adc9-4099-ef6c-f5182cdf49f6"
      },
      "source": [
        "#lets explore statistical things of our data\n",
        "df.describe()"
      ],
      "execution_count": null,
      "outputs": [
        {
          "output_type": "execute_result",
          "data": {
            "text/html": [
              "<div>\n",
              "<style scoped>\n",
              "    .dataframe tbody tr th:only-of-type {\n",
              "        vertical-align: middle;\n",
              "    }\n",
              "\n",
              "    .dataframe tbody tr th {\n",
              "        vertical-align: top;\n",
              "    }\n",
              "\n",
              "    .dataframe thead th {\n",
              "        text-align: right;\n",
              "    }\n",
              "</style>\n",
              "<table border=\"1\" class=\"dataframe\">\n",
              "  <thead>\n",
              "    <tr style=\"text-align: right;\">\n",
              "      <th></th>\n",
              "      <th>Rating</th>\n",
              "    </tr>\n",
              "  </thead>\n",
              "  <tbody>\n",
              "    <tr>\n",
              "      <th>count</th>\n",
              "      <td>9367.000000</td>\n",
              "    </tr>\n",
              "    <tr>\n",
              "      <th>mean</th>\n",
              "      <td>4.193338</td>\n",
              "    </tr>\n",
              "    <tr>\n",
              "      <th>std</th>\n",
              "      <td>0.537431</td>\n",
              "    </tr>\n",
              "    <tr>\n",
              "      <th>min</th>\n",
              "      <td>1.000000</td>\n",
              "    </tr>\n",
              "    <tr>\n",
              "      <th>25%</th>\n",
              "      <td>4.000000</td>\n",
              "    </tr>\n",
              "    <tr>\n",
              "      <th>50%</th>\n",
              "      <td>4.300000</td>\n",
              "    </tr>\n",
              "    <tr>\n",
              "      <th>75%</th>\n",
              "      <td>4.500000</td>\n",
              "    </tr>\n",
              "    <tr>\n",
              "      <th>max</th>\n",
              "      <td>19.000000</td>\n",
              "    </tr>\n",
              "  </tbody>\n",
              "</table>\n",
              "</div>"
            ],
            "text/plain": [
              "            Rating\n",
              "count  9367.000000\n",
              "mean      4.193338\n",
              "std       0.537431\n",
              "min       1.000000\n",
              "25%       4.000000\n",
              "50%       4.300000\n",
              "75%       4.500000\n",
              "max      19.000000"
            ]
          },
          "metadata": {},
          "execution_count": 51
        }
      ]
    },
    {
      "cell_type": "code",
      "metadata": {
        "colab": {
          "base_uri": "https://localhost:8080/",
          "height": 282
        },
        "id": "FzO_VzLUlwga",
        "outputId": "6cae4822-2050-48cd-9cc2-19b83abc05f5"
      },
      "source": [
        "#lets check is there any outliner or not\n",
        "df.boxplot()"
      ],
      "execution_count": null,
      "outputs": [
        {
          "output_type": "execute_result",
          "data": {
            "text/plain": [
              "<matplotlib.axes._subplots.AxesSubplot at 0x7f6329faf110>"
            ]
          },
          "metadata": {},
          "execution_count": 52
        },
        {
          "output_type": "display_data",
          "data": {
            "image/png": "[encoded data removed]",
            "text/plain": [
              "<Figure size 432x288 with 1 Axes>"
            ]
          },
          "metadata": {
            "needs_background": "light"
          }
        }
      ]
    },
    {
      "cell_type": "markdown",
      "metadata": {
        "id": "nqMRsyX5vbXp"
      },
      "source": [
        "**So, in our data there is outliner as well.Outliers are data points that are far from other data points. In other words, they're unusual values in a dataset.Since ratings cannot be more than 5 therefore there is outlier in our data**"
      ]
    },
    {
      "cell_type": "code",
      "metadata": {
        "colab": {
          "base_uri": "https://localhost:8080/"
        },
        "id": "SeAuqLxzzwe-",
        "outputId": "57cb9200-c2fb-4c8b-f804-9090838366e4"
      },
      "source": [
        "#lets check information of our data\n",
        "df.info()"
      ],
      "execution_count": null,
      "outputs": [
        {
          "output_type": "stream",
          "name": "stdout",
          "text": [
            "<class 'pandas.core.frame.DataFrame'>\n",
            "RangeIndex: 10841 entries, 0 to 10840\n",
            "Data columns (total 13 columns):\n",
            " #   Column          Non-Null Count  Dtype  \n",
            "---  ------          --------------  -----  \n",
            " 0   App             10841 non-null  object \n",
            " 1   Category        10841 non-null  object \n",
            " 2   Rating          9367 non-null   float64\n",
            " 3   Reviews         10841 non-null  object \n",
            " 4   Size            10841 non-null  object \n",
            " 5   Installs        10841 non-null  object \n",
            " 6   Type            10840 non-null  object \n",
            " 7   Price           10841 non-null  object \n",
            " 8   Content Rating  10840 non-null  object \n",
            " 9   Genres          10841 non-null  object \n",
            " 10  Last Updated    10841 non-null  object \n",
            " 11  Current Ver     10833 non-null  object \n",
            " 12  Android Ver     10838 non-null  object \n",
            "dtypes: float64(1), object(12)\n",
            "memory usage: 1.1+ MB\n"
          ]
        }
      ]
    },
    {
      "cell_type": "markdown",
      "metadata": {
        "id": "CynMyvMih0vi"
      },
      "source": [
        "So,these are the different data types whcich are present in our data.Since Reviews contains numerical values so it should be in float,similiarly Size,installs,price should also be float data type and last update should be datetime datatype.We will correct it in second step."
      ]
    },
    {
      "cell_type": "code",
      "metadata": {
        "colab": {
          "base_uri": "https://localhost:8080/"
        },
        "id": "_Db2xihgymAQ",
        "outputId": "0cc3c587-7442-4da5-ef44-3c70647dbe51"
      },
      "source": [
        "#lets check is there any missing value or not in our Data\n",
        "df.isnull().sum()"
      ],
      "execution_count": null,
      "outputs": [
        {
          "output_type": "execute_result",
          "data": {
            "text/plain": [
              "App                  0\n",
              "Category             0\n",
              "Rating            1474\n",
              "Reviews              0\n",
              "Size                 0\n",
              "Installs             0\n",
              "Type                 1\n",
              "Price                0\n",
              "Content Rating       1\n",
              "Genres               0\n",
              "Last Updated         0\n",
              "Current Ver          8\n",
              "Android Ver          3\n",
              "dtype: int64"
            ]
          },
          "metadata": {},
          "execution_count": 54
        }
      ]
    },
    {
      "cell_type": "markdown",
      "metadata": {
        "id": "pxzfA6s-iDWw"
      },
      "source": [
        "So,there are null values in our data.\n",
        "Rating has 1474 null values,type has 1 null value,current ver has 8 and Android Ver has 3 null values."
      ]
    },
    {
      "cell_type": "markdown",
      "metadata": {
        "id": "J7CU3ZcSxDJE"
      },
      "source": [
        "#Step 2. Cleaning the Data\n",
        "\n",
        "Since we have taken an overwiew of our data.Now lets clean it. "
      ]
    },
    {
      "cell_type": "markdown",
      "metadata": {
        "id": "WABn6_4PpuZp"
      },
      "source": [
        "**1. Cleaning outliers**"
      ]
    },
    {
      "cell_type": "code",
      "metadata": {
        "colab": {
          "base_uri": "https://localhost:8080/",
          "height": 80
        },
        "id": "99nE8o5bwizQ",
        "outputId": "f1d69f6a-2c3e-4ff5-925c-0866843ec092"
      },
      "source": [
        "#lets check how many outliners are there\n",
        "df[df.Rating>5]"
      ],
      "execution_count": null,
      "outputs": [
        {
          "output_type": "execute_result",
          "data": {
            "text/html": [
              "<div>\n",
              "<style scoped>\n",
              "    .dataframe tbody tr th:only-of-type {\n",
              "        vertical-align: middle;\n",
              "    }\n",
              "\n",
              "    .dataframe tbody tr th {\n",
              "        vertical-align: top;\n",
              "    }\n",
              "\n",
              "    .dataframe thead th {\n",
              "        text-align: right;\n",
              "    }\n",
              "</style>\n",
              "<table border=\"1\" class=\"dataframe\">\n",
              "  <thead>\n",
              "    <tr style=\"text-align: right;\">\n",
              "      <th></th>\n",
              "      <th>App</th>\n",
              "      <th>Category</th>\n",
              "      <th>Rating</th>\n",
              "      <th>Reviews</th>\n",
              "      <th>Size</th>\n",
              "      <th>Installs</th>\n",
              "      <th>Type</th>\n",
              "      <th>Price</th>\n",
              "      <th>Content Rating</th>\n",
              "      <th>Genres</th>\n",
              "      <th>Last Updated</th>\n",
              "      <th>Current Ver</th>\n",
              "      <th>Android Ver</th>\n",
              "    </tr>\n",
              "  </thead>\n",
              "  <tbody>\n",
              "    <tr>\n",
              "      <th>10472</th>\n",
              "      <td>Life Made WI-Fi Touchscreen Photo Frame</td>\n",
              "      <td>1.9</td>\n",
              "      <td>19.0</td>\n",
              "      <td>3.0M</td>\n",
              "      <td>1,000+</td>\n",
              "      <td>Free</td>\n",
              "      <td>0</td>\n",
              "      <td>Everyone</td>\n",
              "      <td>NaN</td>\n",
              "      <td>February 11, 2018</td>\n",
              "      <td>1.0.19</td>\n",
              "      <td>4.0 and up</td>\n",
              "      <td>NaN</td>\n",
              "    </tr>\n",
              "  </tbody>\n",
              "</table>\n",
              "</div>"
            ],
            "text/plain": [
              "                                           App Category  ...  Current Ver Android Ver\n",
              "10472  Life Made WI-Fi Touchscreen Photo Frame      1.9  ...   4.0 and up         NaN\n",
              "\n",
              "[1 rows x 13 columns]"
            ]
          },
          "metadata": {},
          "execution_count": 55
        }
      ]
    },
    {
      "cell_type": "markdown",
      "metadata": {
        "id": "KUrxysfsq4Wo"
      },
      "source": [
        "So,there is only one outlier that is on row no.10472.So we have to drop it."
      ]
    },
    {
      "cell_type": "code",
      "metadata": {
        "id": "Zt6fHxsXqVpm"
      },
      "source": [
        "#lets drop outliner\n",
        "df.drop([10472],inplace=True)"
      ],
      "execution_count": null,
      "outputs": []
    },
    {
      "cell_type": "code",
      "metadata": {
        "colab": {
          "base_uri": "https://localhost:8080/"
        },
        "id": "F3pUSLufrlWQ",
        "outputId": "5b3ae38c-e75b-4dac-af40-b2cd111536eb"
      },
      "source": [
        "#lets check whether row no.10472 is in our data or dropped\n",
        "10472 in df\n"
      ],
      "execution_count": null,
      "outputs": [
        {
          "output_type": "execute_result",
          "data": {
            "text/plain": [
              "False"
            ]
          },
          "metadata": {},
          "execution_count": 57
        }
      ]
    },
    {
      "cell_type": "markdown",
      "metadata": {
        "id": "roJWuzHcsGRa"
      },
      "source": [
        "Great guys,I have removed outlier successfully.lets see it graphically as\n",
        "\n",
        "\n",
        "---\n",
        "\n"
      ]
    },
    {
      "cell_type": "code",
      "metadata": {
        "colab": {
          "base_uri": "https://localhost:8080/",
          "height": 282
        },
        "id": "LTVd0QvKsc-F",
        "outputId": "d933fdf3-35f5-4728-acc6-618755713faa"
      },
      "source": [
        "df.boxplot()"
      ],
      "execution_count": null,
      "outputs": [
        {
          "output_type": "execute_result",
          "data": {
            "text/plain": [
              "<matplotlib.axes._subplots.AxesSubplot at 0x7f6329d4ba90>"
            ]
          },
          "metadata": {},
          "execution_count": 58
        },
        {
          "output_type": "display_data",
          "data": {
            "image/png": "[encoded data removed]",
            "text/plain": [
              "<Figure size 432x288 with 1 Axes>"
            ]
          },
          "metadata": {
            "needs_background": "light"
          }
        }
      ]
    },
    {
      "cell_type": "markdown",
      "metadata": {
        "id": "RZMsPlj4tS7Q"
      },
      "source": [
        "**2. Converting data into proper data structures.**"
      ]
    },
    {
      "cell_type": "code",
      "metadata": {
        "id": "CtIIDF68s6z1"
      },
      "source": [
        "#since reviews are showing as object datatype in info so we need to convert it into inter datatype.\n",
        "df['Reviews']=df['Reviews'].apply(lambda x:x.replace(\"3.0M\",\"3000000\"))\n",
        "df['Reviews']=df['Reviews'].apply(lambda x: int(x))"
      ],
      "execution_count": null,
      "outputs": []
    },
    {
      "cell_type": "code",
      "metadata": {
        "id": "EH3NwTalwtVG"
      },
      "source": [
        "#convert price into float datatype\n",
        "df['Price']=df['Price'].apply(lambda x: x.replace(\"$\",\"\") if \"$\" in str(x) else x)\n",
        "df['Price']=df['Price'].apply(lambda x:float(x))"
      ],
      "execution_count": null,
      "outputs": []
    },
    {
      "cell_type": "code",
      "metadata": {
        "id": "EGUReljGy2Qq"
      },
      "source": [
        "#convert size into proper datatype\n",
        "df['Size']=df['Size'].apply(lambda x : str(x).replace(\"Varies with device\",\"NaN\") if \"Varies with device\" in str(x) else x)\n",
        "df['Size']=df['Size'].apply(lambda x:  str(x).replace(\"M\",\"\") if \"M\" in str(x) else x)\n",
        "df['Size']=df['Size'].apply(lambda x:  float(str(x).replace(\"k\",\"\"))/1000 if \"k\" in str(x) else x)\n",
        "df['Size']=df['Size'].apply(lambda x:  float(x))"
      ],
      "execution_count": null,
      "outputs": []
    },
    {
      "cell_type": "code",
      "metadata": {
        "id": "rbKFEFUOw4uZ"
      },
      "source": [
        "#convert Installs into proper datatype\n",
        "df['Installs']=df['Installs'].apply(lambda x : x.replace(\"+\",\"\")if \"+\" in str(x) else x)\n",
        "df['Installs']=df['Installs'].apply(lambda x: x.replace(\",\",\"\") if \",\" in str(x) else x)\n",
        "df['Installs']=df['Installs'].apply(lambda x: int(x))"
      ],
      "execution_count": null,
      "outputs": []
    },
    {
      "cell_type": "code",
      "metadata": {
        "id": "7ZqG2jpXzwXU"
      },
      "source": [
        "#convert last updated into datetime datatype\n",
        "df['Last Updated'].unique()\n",
        "df['Last Updated']=pd.to_datetime(df['Last Updated'])"
      ],
      "execution_count": null,
      "outputs": []
    },
    {
      "cell_type": "code",
      "metadata": {
        "colab": {
          "base_uri": "https://localhost:8080/"
        },
        "id": "k5sQvIL_0ooQ",
        "outputId": "eff74900-df8f-47f6-ffa6-971c44ceb0d4"
      },
      "source": [
        "#unique category\n",
        "len(df['Category'].unique())"
      ],
      "execution_count": null,
      "outputs": [
        {
          "output_type": "execute_result",
          "data": {
            "text/plain": [
              "33"
            ]
          },
          "metadata": {},
          "execution_count": 65
        }
      ]
    },
    {
      "cell_type": "markdown",
      "metadata": {
        "id": "5XuQuz6N2CK7"
      },
      "source": [
        "So,great has happened that we have converted our data into proper datatype"
      ]
    },
    {
      "cell_type": "markdown",
      "metadata": {
        "id": "c4eUHK0B2dZD"
      },
      "source": [
        "**3. Removing null values**"
      ]
    },
    {
      "cell_type": "markdown",
      "metadata": {
        "id": "8ibmzFhQ3UmU"
      },
      "source": [
        "Since our data has null values as well,lets remove it\n"
      ]
    },
    {
      "cell_type": "code",
      "metadata": {
        "id": "SpMcx5zp2r5_"
      },
      "source": [
        "#lets remove null values\n",
        "df.interpolate(method='linear',limit_direction='forward',inplace=True)"
      ],
      "execution_count": null,
      "outputs": []
    },
    {
      "cell_type": "code",
      "metadata": {
        "colab": {
          "base_uri": "https://localhost:8080/"
        },
        "id": "MVgkzB9e3mux",
        "outputId": "90c24f7d-b492-4cc9-c372-d8c492a69634"
      },
      "source": [
        "#lets check null values again\n",
        "df.isnull().sum()"
      ],
      "execution_count": null,
      "outputs": [
        {
          "output_type": "execute_result",
          "data": {
            "text/plain": [
              "App               0\n",
              "Category          0\n",
              "Rating            0\n",
              "Reviews           0\n",
              "Size              0\n",
              "Installs          0\n",
              "Type              1\n",
              "Price             0\n",
              "Content Rating    0\n",
              "Genres            0\n",
              "Last Updated      0\n",
              "Current Ver       8\n",
              "Android Ver       2\n",
              "dtype: int64"
            ]
          },
          "metadata": {},
          "execution_count": 67
        }
      ]
    },
    {
      "cell_type": "markdown",
      "metadata": {
        "id": "SGON7Ib54iH7"
      },
      "source": [
        "There are still null values in Type,Current Ver and Android Ver.Since Current Ver and Android Ver are not of much relevent for our data,lets drop it and Convert Type into proper datatype"
      ]
    },
    {
      "cell_type": "code",
      "metadata": {
        "id": "FkOHoZ825I8X"
      },
      "source": [
        "#drop Current Ver and Android Ver \n",
        "df=df.drop(['Current Ver','Android Ver'],axis=1)"
      ],
      "execution_count": null,
      "outputs": []
    },
    {
      "cell_type": "code",
      "metadata": {
        "id": "TY-I_W3r5Uik"
      },
      "source": [
        "#lets convert Type into proper datatype\n",
        "df['Type'].fillna(value='Free',inplace=True)"
      ],
      "execution_count": null,
      "outputs": []
    },
    {
      "cell_type": "code",
      "metadata": {
        "colab": {
          "base_uri": "https://localhost:8080/"
        },
        "id": "ZINHRVH_6Xa6",
        "outputId": "747aa4a8-6493-4bc6-d018-e35021bb1a45"
      },
      "source": [
        "#now lets check info again for null values\n",
        "df.info()"
      ],
      "execution_count": null,
      "outputs": [
        {
          "output_type": "stream",
          "name": "stdout",
          "text": [
            "<class 'pandas.core.frame.DataFrame'>\n",
            "Int64Index: 10840 entries, 0 to 10840\n",
            "Data columns (total 11 columns):\n",
            " #   Column          Non-Null Count  Dtype         \n",
            "---  ------          --------------  -----         \n",
            " 0   App             10840 non-null  object        \n",
            " 1   Category        10840 non-null  object        \n",
            " 2   Rating          10840 non-null  float64       \n",
            " 3   Reviews         10840 non-null  int64         \n",
            " 4   Size            10840 non-null  float64       \n",
            " 5   Installs        10840 non-null  int64         \n",
            " 6   Type            10840 non-null  object        \n",
            " 7   Price           10840 non-null  float64       \n",
            " 8   Content Rating  10840 non-null  object        \n",
            " 9   Genres          10840 non-null  object        \n",
            " 10  Last Updated    10840 non-null  datetime64[ns]\n",
            "dtypes: datetime64[ns](1), float64(3), int64(2), object(5)\n",
            "memory usage: 1016.2+ KB\n"
          ]
        }
      ]
    },
    {
      "cell_type": "markdown",
      "metadata": {
        "id": "byxL200e6zfz"
      },
      "source": [
        "Great guys,data is converted into proper datatype and there is no null values."
      ]
    },
    {
      "cell_type": "code",
      "metadata": {
        "colab": {
          "base_uri": "https://localhost:8080/",
          "height": 398
        },
        "id": "9tZ7jN9y6lZU",
        "outputId": "0c376523-9f77-46a9-ed15-6504d95f99b8"
      },
      "source": [
        "#lets see how our data looks after cleaning data\n",
        "df.hist()"
      ],
      "execution_count": null,
      "outputs": [
        {
          "output_type": "execute_result",
          "data": {
            "text/plain": [
              "array([[<matplotlib.axes._subplots.AxesSubplot object at 0x7f632bfb7a10>,\n",
              "        <matplotlib.axes._subplots.AxesSubplot object at 0x7f632a18e510>],\n",
              "       [<matplotlib.axes._subplots.AxesSubplot object at 0x7f6329fa8150>,\n",
              "        <matplotlib.axes._subplots.AxesSubplot object at 0x7f632b6af710>],\n",
              "       [<matplotlib.axes._subplots.AxesSubplot object at 0x7f6329d5e650>,\n",
              "        <matplotlib.axes._subplots.AxesSubplot object at 0x7f63297f8790>]],\n",
              "      dtype=object)"
            ]
          },
          "metadata": {},
          "execution_count": 71
        },
        {
          "output_type": "display_data",
          "data": {
            "image/png": "[encoded data removed]",
            "text/plain": [
              "<Figure size 432x288 with 6 Axes>"
            ]
          },
          "metadata": {
            "needs_background": "light"
          }
        }
      ]
    },
    {
      "cell_type": "markdown",
      "metadata": {
        "id": "UPE1gom7FYDH"
      },
      "source": [
        "Guys, We have checked basic info of data as well as we have done cleaning of our data as well,so now lets do some exploration and visulations"
      ]
    },
    {
      "cell_type": "markdown",
      "metadata": {
        "id": "TjcTeSfz-d9S"
      },
      "source": [
        "#Step 3. Extracting statistics from the dataset\n",
        "\n",
        "---\n",
        "\n"
      ]
    },
    {
      "cell_type": "markdown",
      "metadata": {
        "id": "6DeBEfuBHRcQ"
      },
      "source": [
        "**1. Statistics of data through pandas profiling**"
      ]
    },
    {
      "cell_type": "code",
      "metadata": {
        "colab": {
          "base_uri": "https://localhost:8080/"
        },
        "id": "daWBLC4UG_Kf",
        "outputId": "0b01870e-2cc0-4344-c05e-c504c3229ed7"
      },
      "source": [
        "#lets do some statistics of data through pandas profiling\n",
        "!pip install https://github.com/pandas-profiling/pandas-profiling/archive/master.zip "
      ],
      "execution_count": 165,
      "outputs": [
        {
          "output_type": "stream",
          "name": "stdout",
          "text": [
            "Collecting https://github.com/pandas-profiling/pandas-profiling/archive/master.zip\n",
            "  Using cached https://github.com/pandas-profiling/pandas-profiling/archive/master.zip\n",
            "Requirement already satisfied: joblib in /usr/local/lib/python3.7/dist-packages (from pandas-profiling==3.0.0) (1.0.1)\n",
            "Requirement already satisfied: scipy>=1.4.1 in /usr/local/lib/python3.7/dist-packages (from pandas-profiling==3.0.0) (1.7.1)\n",
            "Requirement already satisfied: pandas!=1.0.0,!=1.0.1,!=1.0.2,!=1.1.0,>=0.25.3 in /usr/local/lib/python3.7/dist-packages (from pandas-profiling==3.0.0) (1.1.5)\n",
            "Requirement already satisfied: matplotlib>=3.2.0 in /usr/local/lib/python3.7/dist-packages (from pandas-profiling==3.0.0) (3.2.2)\n",
            "Requirement already satisfied: pydantic>=1.8.1 in /usr/local/lib/python3.7/dist-packages (from pandas-profiling==3.0.0) (1.8.2)\n",
            "Requirement already satisfied: PyYAML>=5.0.0 in /usr/local/lib/python3.7/dist-packages (from pandas-profiling==3.0.0) (5.4.1)\n",
            "Requirement already satisfied: jinja2>=2.11.1 in /usr/local/lib/python3.7/dist-packages (from pandas-profiling==3.0.0) (2.11.3)\n",
            "Requirement already satisfied: visions[type_image_path]==0.7.1 in /usr/local/lib/python3.7/dist-packages (from pandas-profiling==3.0.0) (0.7.1)\n",
            "Requirement already satisfied: numpy>=1.16.0 in /usr/local/lib/python3.7/dist-packages (from pandas-profiling==3.0.0) (1.19.5)\n",
            "Requirement already satisfied: htmlmin>=0.1.12 in /usr/local/lib/python3.7/dist-packages (from pandas-profiling==3.0.0) (0.1.12)\n",
            "Requirement already satisfied: missingno>=0.4.2 in /usr/local/lib/python3.7/dist-packages (from pandas-profiling==3.0.0) (0.5.0)\n",
            "Requirement already satisfied: phik>=0.11.1 in /usr/local/lib/python3.7/dist-packages (from pandas-profiling==3.0.0) (0.12.0)\n",
            "Requirement already satisfied: tangled-up-in-unicode==0.1.0 in /usr/local/lib/python3.7/dist-packages (from pandas-profiling==3.0.0) (0.1.0)\n",
            "Requirement already satisfied: requests>=2.24.0 in /usr/local/lib/python3.7/dist-packages (from pandas-profiling==3.0.0) (2.26.0)\n",
            "Requirement already satisfied: tqdm>=4.48.2 in /usr/local/lib/python3.7/dist-packages (from pandas-profiling==3.0.0) (4.62.0)\n",
            "Requirement already satisfied: seaborn>=0.10.1 in /usr/local/lib/python3.7/dist-packages (from pandas-profiling==3.0.0) (0.11.1)\n",
            "Requirement already satisfied: multimethod==1.4 in /usr/local/lib/python3.7/dist-packages (from visions[type_image_path]==0.7.1->pandas-profiling==3.0.0) (1.4)\n",
            "Requirement already satisfied: bottleneck in /usr/local/lib/python3.7/dist-packages (from visions[type_image_path]==0.7.1->pandas-profiling==3.0.0) (1.3.2)\n",
            "Requirement already satisfied: attrs>=19.3.0 in /usr/local/lib/python3.7/dist-packages (from visions[type_image_path]==0.7.1->pandas-profiling==3.0.0) (21.2.0)\n",
            "Requirement already satisfied: networkx>=2.4 in /usr/local/lib/python3.7/dist-packages (from visions[type_image_path]==0.7.1->pandas-profiling==3.0.0) (2.6.2)\n",
            "Requirement already satisfied: Pillow in /usr/local/lib/python3.7/dist-packages (from visions[type_image_path]==0.7.1->pandas-profiling==3.0.0) (7.1.2)\n",
            "Requirement already satisfied: imagehash in /usr/local/lib/python3.7/dist-packages (from visions[type_image_path]==0.7.1->pandas-profiling==3.0.0) (4.2.1)\n",
            "Requirement already satisfied: MarkupSafe>=0.23 in /usr/local/lib/python3.7/dist-packages (from jinja2>=2.11.1->pandas-profiling==3.0.0) (2.0.1)\n",
            "Requirement already satisfied: python-dateutil>=2.1 in /usr/local/lib/python3.7/dist-packages (from matplotlib>=3.2.0->pandas-profiling==3.0.0) (2.8.2)\n",
            "Requirement already satisfied: kiwisolver>=1.0.1 in /usr/local/lib/python3.7/dist-packages (from matplotlib>=3.2.0->pandas-profiling==3.0.0) (1.3.1)\n",
            "Requirement already satisfied: pyparsing!=2.0.4,!=2.1.2,!=2.1.6,>=2.0.1 in /usr/local/lib/python3.7/dist-packages (from matplotlib>=3.2.0->pandas-profiling==3.0.0) (2.4.7)\n",
            "Requirement already satisfied: cycler>=0.10 in /usr/local/lib/python3.7/dist-packages (from matplotlib>=3.2.0->pandas-profiling==3.0.0) (0.10.0)\n",
            "Requirement already satisfied: six in /usr/local/lib/python3.7/dist-packages (from cycler>=0.10->matplotlib>=3.2.0->pandas-profiling==3.0.0) (1.15.0)\n",
            "Requirement already satisfied: pytz>=2017.2 in /usr/local/lib/python3.7/dist-packages (from pandas!=1.0.0,!=1.0.1,!=1.0.2,!=1.1.0,>=0.25.3->pandas-profiling==3.0.0) (2018.9)\n",
            "Requirement already satisfied: typing-extensions>=3.7.4.3 in /usr/local/lib/python3.7/dist-packages (from pydantic>=1.8.1->pandas-profiling==3.0.0) (3.7.4.3)\n",
            "Requirement already satisfied: urllib3<1.27,>=1.21.1 in /usr/local/lib/python3.7/dist-packages (from requests>=2.24.0->pandas-profiling==3.0.0) (1.24.3)\n",
            "Requirement already satisfied: certifi>=2017.4.17 in /usr/local/lib/python3.7/dist-packages (from requests>=2.24.0->pandas-profiling==3.0.0) (2021.5.30)\n",
            "Requirement already satisfied: idna<4,>=2.5 in /usr/local/lib/python3.7/dist-packages (from requests>=2.24.0->pandas-profiling==3.0.0) (2.10)\n",
            "Requirement already satisfied: charset-normalizer~=2.0.0 in /usr/local/lib/python3.7/dist-packages (from requests>=2.24.0->pandas-profiling==3.0.0) (2.0.4)\n",
            "Requirement already satisfied: PyWavelets in /usr/local/lib/python3.7/dist-packages (from imagehash->visions[type_image_path]==0.7.1->pandas-profiling==3.0.0) (1.1.1)\n"
          ]
        }
      ]
    },
    {
      "cell_type": "code",
      "metadata": {
        "id": "mZ8A5ri8IR3_",
        "colab": {
          "base_uri": "https://localhost:8080/",
          "height": 430
        },
        "outputId": "7698e556-b275-4a42-d007-fdbe26f1804d"
      },
      "source": [
        "#lets import profile report using pandas profiling\n",
        "from pandas_profiling import profile_report"
      ],
      "execution_count": 166,
      "outputs": [
        {
          "output_type": "error",
          "ename": "ImportError",
          "evalue": "ignored",
          "traceback": [
            "\u001b[0;31m---------------------------------------------------------------------------\u001b[0m",
            "\u001b[0;31mImportError\u001b[0m                               Traceback (most recent call last)",
            "\u001b[0;32m<ipython-input-166-c79a5dc6cdeb>\u001b[0m in \u001b[0;36m<module>\u001b[0;34m()\u001b[0m\n\u001b[1;32m      1\u001b[0m \u001b[0;31m#lets import profile report using pandas profiling\u001b[0m\u001b[0;34m\u001b[0m\u001b[0;34m\u001b[0m\u001b[0;34m\u001b[0m\u001b[0m\n\u001b[0;32m----> 2\u001b[0;31m \u001b[0;32mfrom\u001b[0m \u001b[0mpandas_profiling\u001b[0m \u001b[0;32mimport\u001b[0m \u001b[0mprofile_report\u001b[0m\u001b[0;34m\u001b[0m\u001b[0;34m\u001b[0m\u001b[0m\n\u001b[0m",
            "\u001b[0;32m/usr/local/lib/python3.7/dist-packages/pandas_profiling/profile_report.py\u001b[0m in \u001b[0;36m<module>\u001b[0;34m()\u001b[0m\n\u001b[1;32m     22\u001b[0m )\n\u001b[1;32m     23\u001b[0m \u001b[0;32mfrom\u001b[0m \u001b[0mpandas_profiling\u001b[0m\u001b[0;34m.\u001b[0m\u001b[0mmodel\u001b[0m\u001b[0;34m.\u001b[0m\u001b[0mtypeset\u001b[0m \u001b[0;32mimport\u001b[0m \u001b[0mProfilingTypeSet\u001b[0m\u001b[0;34m\u001b[0m\u001b[0;34m\u001b[0m\u001b[0m\n\u001b[0;32m---> 24\u001b[0;31m \u001b[0;32mfrom\u001b[0m \u001b[0mpandas_profiling\u001b[0m\u001b[0;34m.\u001b[0m\u001b[0mreport\u001b[0m \u001b[0;32mimport\u001b[0m \u001b[0mget_report_structure\u001b[0m\u001b[0;34m\u001b[0m\u001b[0;34m\u001b[0m\u001b[0m\n\u001b[0m\u001b[1;32m     25\u001b[0m \u001b[0;32mfrom\u001b[0m \u001b[0mpandas_profiling\u001b[0m\u001b[0;34m.\u001b[0m\u001b[0mreport\u001b[0m\u001b[0;34m.\u001b[0m\u001b[0mpresentation\u001b[0m\u001b[0;34m.\u001b[0m\u001b[0mcore\u001b[0m \u001b[0;32mimport\u001b[0m \u001b[0mRoot\u001b[0m\u001b[0;34m\u001b[0m\u001b[0;34m\u001b[0m\u001b[0m\n\u001b[1;32m     26\u001b[0m \u001b[0;32mfrom\u001b[0m \u001b[0mpandas_profiling\u001b[0m\u001b[0;34m.\u001b[0m\u001b[0mreport\u001b[0m\u001b[0;34m.\u001b[0m\u001b[0mpresentation\u001b[0m\u001b[0;34m.\u001b[0m\u001b[0mcore\u001b[0m\u001b[0;34m.\u001b[0m\u001b[0mrenderable\u001b[0m \u001b[0;32mimport\u001b[0m \u001b[0mRenderable\u001b[0m\u001b[0;34m\u001b[0m\u001b[0;34m\u001b[0m\u001b[0m\n",
            "\u001b[0;31mImportError\u001b[0m: cannot import name 'get_report_structure' from 'pandas_profiling.report' (/usr/local/lib/python3.7/dist-packages/pandas_profiling/report.py)",
            "",
            "\u001b[0;31m---------------------------------------------------------------------------\u001b[0;32m\nNOTE: If your import is failing due to a missing package, you can\nmanually install dependencies using either !pip or !apt.\n\nTo view examples of installing some common dependencies, click the\n\"Open Examples\" button below.\n\u001b[0;31m---------------------------------------------------------------------------\u001b[0m\n"
          ],
          "errorDetails": {
            "actions": [
              {
                "action": "open_url",
                "actionText": "Open Examples",
                "url": "/notebooks/snippets/importing_libraries.ipynb"
              }
            ]
          }
        }
      ]
    },
    {
      "cell_type": "code",
      "metadata": {
        "colab": {
          "base_uri": "https://localhost:8080/",
          "height": 279
        },
        "id": "KELbupMhIo5N",
        "outputId": "feaedf9e-fcf7-4046-965a-db0a5e4dc4fd"
      },
      "source": [
        "df.profile_report()"
      ],
      "execution_count": 167,
      "outputs": [
        {
          "output_type": "error",
          "ename": "AttributeError",
          "evalue": "ignored",
          "traceback": [
            "\u001b[0;31m---------------------------------------------------------------------------\u001b[0m",
            "\u001b[0;31mAttributeError\u001b[0m                            Traceback (most recent call last)",
            "\u001b[0;32m<ipython-input-167-f9a7584e785c>\u001b[0m in \u001b[0;36m<module>\u001b[0;34m()\u001b[0m\n\u001b[0;32m----> 1\u001b[0;31m \u001b[0mdf\u001b[0m\u001b[0;34m.\u001b[0m\u001b[0mprofile_report\u001b[0m\u001b[0;34m(\u001b[0m\u001b[0;34m)\u001b[0m\u001b[0;34m\u001b[0m\u001b[0;34m\u001b[0m\u001b[0m\n\u001b[0m",
            "\u001b[0;32m/usr/local/lib/python3.7/dist-packages/pandas/core/generic.py\u001b[0m in \u001b[0;36m__getattr__\u001b[0;34m(self, name)\u001b[0m\n\u001b[1;32m   5139\u001b[0m             \u001b[0;32mif\u001b[0m \u001b[0mself\u001b[0m\u001b[0;34m.\u001b[0m\u001b[0m_info_axis\u001b[0m\u001b[0;34m.\u001b[0m\u001b[0m_can_hold_identifiers_and_holds_name\u001b[0m\u001b[0;34m(\u001b[0m\u001b[0mname\u001b[0m\u001b[0;34m)\u001b[0m\u001b[0;34m:\u001b[0m\u001b[0;34m\u001b[0m\u001b[0;34m\u001b[0m\u001b[0m\n\u001b[1;32m   5140\u001b[0m                 \u001b[0;32mreturn\u001b[0m \u001b[0mself\u001b[0m\u001b[0;34m[\u001b[0m\u001b[0mname\u001b[0m\u001b[0;34m]\u001b[0m\u001b[0;34m\u001b[0m\u001b[0;34m\u001b[0m\u001b[0m\n\u001b[0;32m-> 5141\u001b[0;31m             \u001b[0;32mreturn\u001b[0m \u001b[0mobject\u001b[0m\u001b[0;34m.\u001b[0m\u001b[0m__getattribute__\u001b[0m\u001b[0;34m(\u001b[0m\u001b[0mself\u001b[0m\u001b[0;34m,\u001b[0m \u001b[0mname\u001b[0m\u001b[0;34m)\u001b[0m\u001b[0;34m\u001b[0m\u001b[0;34m\u001b[0m\u001b[0m\n\u001b[0m\u001b[1;32m   5142\u001b[0m \u001b[0;34m\u001b[0m\u001b[0m\n\u001b[1;32m   5143\u001b[0m     \u001b[0;32mdef\u001b[0m \u001b[0m__setattr__\u001b[0m\u001b[0;34m(\u001b[0m\u001b[0mself\u001b[0m\u001b[0;34m,\u001b[0m \u001b[0mname\u001b[0m\u001b[0;34m:\u001b[0m \u001b[0mstr\u001b[0m\u001b[0;34m,\u001b[0m \u001b[0mvalue\u001b[0m\u001b[0;34m)\u001b[0m \u001b[0;34m->\u001b[0m \u001b[0;32mNone\u001b[0m\u001b[0;34m:\u001b[0m\u001b[0;34m\u001b[0m\u001b[0;34m\u001b[0m\u001b[0m\n",
            "\u001b[0;31mAttributeError\u001b[0m: 'DataFrame' object has no attribute 'profile_report'"
          ]
        }
      ]
    },
    {
      "cell_type": "markdown",
      "metadata": {
        "id": "wRz5NU3FF6MI"
      },
      "source": [
        "**2. Statistics of Data**"
      ]
    },
    {
      "cell_type": "code",
      "metadata": {
        "colab": {
          "base_uri": "https://localhost:8080/",
          "height": 295
        },
        "id": "bn4ak6WH-H-g",
        "outputId": "2fe5a8f9-4f11-402f-db34-e2f79eb0ae7b"
      },
      "source": [
        "#lets see statistics of our data\n",
        "df.describe()"
      ],
      "execution_count": null,
      "outputs": [
        {
          "output_type": "execute_result",
          "data": {
            "text/html": [
              "<div>\n",
              "<style scoped>\n",
              "    .dataframe tbody tr th:only-of-type {\n",
              "        vertical-align: middle;\n",
              "    }\n",
              "\n",
              "    .dataframe tbody tr th {\n",
              "        vertical-align: top;\n",
              "    }\n",
              "\n",
              "    .dataframe thead th {\n",
              "        text-align: right;\n",
              "    }\n",
              "</style>\n",
              "<table border=\"1\" class=\"dataframe\">\n",
              "  <thead>\n",
              "    <tr style=\"text-align: right;\">\n",
              "      <th></th>\n",
              "      <th>Rating</th>\n",
              "      <th>Reviews</th>\n",
              "      <th>Size</th>\n",
              "      <th>Installs</th>\n",
              "      <th>Price</th>\n",
              "    </tr>\n",
              "  </thead>\n",
              "  <tbody>\n",
              "    <tr>\n",
              "      <th>count</th>\n",
              "      <td>10840.000000</td>\n",
              "      <td>1.084000e+04</td>\n",
              "      <td>10840.000000</td>\n",
              "      <td>1.084000e+04</td>\n",
              "      <td>10840.000000</td>\n",
              "    </tr>\n",
              "    <tr>\n",
              "      <th>mean</th>\n",
              "      <td>4.190567</td>\n",
              "      <td>4.441529e+05</td>\n",
              "      <td>21.906488</td>\n",
              "      <td>1.546434e+07</td>\n",
              "      <td>1.027368</td>\n",
              "    </tr>\n",
              "    <tr>\n",
              "      <th>std</th>\n",
              "      <td>0.517606</td>\n",
              "      <td>2.927761e+06</td>\n",
              "      <td>21.965509</td>\n",
              "      <td>8.502936e+07</td>\n",
              "      <td>15.949703</td>\n",
              "    </tr>\n",
              "    <tr>\n",
              "      <th>min</th>\n",
              "      <td>1.000000</td>\n",
              "      <td>0.000000e+00</td>\n",
              "      <td>0.008500</td>\n",
              "      <td>0.000000e+00</td>\n",
              "      <td>0.000000</td>\n",
              "    </tr>\n",
              "    <tr>\n",
              "      <th>25%</th>\n",
              "      <td>4.000000</td>\n",
              "      <td>3.800000e+01</td>\n",
              "      <td>5.400000</td>\n",
              "      <td>1.000000e+03</td>\n",
              "      <td>0.000000</td>\n",
              "    </tr>\n",
              "    <tr>\n",
              "      <th>50%</th>\n",
              "      <td>4.300000</td>\n",
              "      <td>2.094000e+03</td>\n",
              "      <td>14.000000</td>\n",
              "      <td>1.000000e+05</td>\n",
              "      <td>0.000000</td>\n",
              "    </tr>\n",
              "    <tr>\n",
              "      <th>75%</th>\n",
              "      <td>4.500000</td>\n",
              "      <td>5.477550e+04</td>\n",
              "      <td>30.000000</td>\n",
              "      <td>5.000000e+06</td>\n",
              "      <td>0.000000</td>\n",
              "    </tr>\n",
              "    <tr>\n",
              "      <th>max</th>\n",
              "      <td>5.000000</td>\n",
              "      <td>7.815831e+07</td>\n",
              "      <td>100.000000</td>\n",
              "      <td>1.000000e+09</td>\n",
              "      <td>400.000000</td>\n",
              "    </tr>\n",
              "  </tbody>\n",
              "</table>\n",
              "</div>"
            ],
            "text/plain": [
              "             Rating       Reviews          Size      Installs         Price\n",
              "count  10840.000000  1.084000e+04  10840.000000  1.084000e+04  10840.000000\n",
              "mean       4.190567  4.441529e+05     21.906488  1.546434e+07      1.027368\n",
              "std        0.517606  2.927761e+06     21.965509  8.502936e+07     15.949703\n",
              "min        1.000000  0.000000e+00      0.008500  0.000000e+00      0.000000\n",
              "25%        4.000000  3.800000e+01      5.400000  1.000000e+03      0.000000\n",
              "50%        4.300000  2.094000e+03     14.000000  1.000000e+05      0.000000\n",
              "75%        4.500000  5.477550e+04     30.000000  5.000000e+06      0.000000\n",
              "max        5.000000  7.815831e+07    100.000000  1.000000e+09    400.000000"
            ]
          },
          "metadata": {},
          "execution_count": 89
        }
      ]
    },
    {
      "cell_type": "markdown",
      "metadata": {
        "id": "bMOMECNHOSb1"
      },
      "source": [
        "#Step 4. Exploratory Data Analysis (EDA) and Visualization"
      ]
    },
    {
      "cell_type": "markdown",
      "metadata": {
        "id": "Lvlcy2g2Oogq"
      },
      "source": [
        "**1. Data Visualization**"
      ]
    },
    {
      "cell_type": "code",
      "metadata": {
        "colab": {
          "base_uri": "https://localhost:8080/"
        },
        "id": "LsOWG_5jOmuz",
        "outputId": "b250c7bf-867e-4b73-85d8-85c3203be15d"
      },
      "source": [
        "#lets visualize the data using plotly library\n",
        "grp=df.groupby('Category')\n",
        "x=grp['Installs'].agg(np.mean)\n",
        "y=grp['Price'].agg(np.sum)\n",
        "z=grp['Reviews'].agg(np.mean)\n",
        "print(x)\n",
        "print(y)\n",
        "print(z)"
      ],
      "execution_count": null,
      "outputs": [
        {
          "output_type": "stream",
          "name": "stdout",
          "text": [
            "Category\n",
            "ART_AND_DESIGN         1.912894e+06\n",
            "AUTO_AND_VEHICLES      6.250613e+05\n",
            "BEAUTY                 5.131519e+05\n",
            "BOOKS_AND_REFERENCE    8.318050e+06\n",
            "BUSINESS               2.178076e+06\n",
            "COMICS                 9.347692e+05\n",
            "COMMUNICATION          8.435989e+07\n",
            "DATING                 1.129533e+06\n",
            "EDUCATION              5.586231e+06\n",
            "ENTERTAINMENT          1.925611e+07\n",
            "EVENTS                 2.495806e+05\n",
            "FAMILY                 5.201959e+06\n",
            "FINANCE                2.395215e+06\n",
            "FOOD_AND_DRINK         2.156683e+06\n",
            "GAME                   3.066960e+07\n",
            "HEALTH_AND_FITNESS     4.642441e+06\n",
            "HOUSE_AND_HOME         1.917187e+06\n",
            "LIBRARIES_AND_DEMO     7.411284e+05\n",
            "LIFESTYLE              1.407444e+06\n",
            "MAPS_AND_NAVIGATION    5.286729e+06\n",
            "MEDICAL                1.150269e+05\n",
            "NEWS_AND_MAGAZINES     2.648876e+07\n",
            "PARENTING              5.253518e+05\n",
            "PERSONALIZATION        5.932385e+06\n",
            "PHOTOGRAPHY            3.011417e+07\n",
            "PRODUCTIVITY           3.343418e+07\n",
            "SHOPPING               1.249173e+07\n",
            "SOCIAL                 4.769447e+07\n",
            "SPORTS                 4.560350e+06\n",
            "TOOLS                  1.358573e+07\n",
            "TRAVEL_AND_LOCAL       2.662359e+07\n",
            "VIDEO_PLAYERS          3.555430e+07\n",
            "WEATHER                5.196348e+06\n",
            "Name: Installs, dtype: float64\n",
            "Category\n",
            "ART_AND_DESIGN            5.97\n",
            "AUTO_AND_VEHICLES        13.47\n",
            "BEAUTY                    0.00\n",
            "BOOKS_AND_REFERENCE     119.77\n",
            "BUSINESS                185.27\n",
            "COMICS                    0.00\n",
            "COMMUNICATION            83.14\n",
            "DATING                   31.43\n",
            "EDUCATION                17.96\n",
            "ENTERTAINMENT             7.98\n",
            "EVENTS                  109.99\n",
            "FAMILY                 2434.78\n",
            "FINANCE                2900.83\n",
            "FOOD_AND_DRINK            8.48\n",
            "GAME                    287.30\n",
            "HEALTH_AND_FITNESS       67.34\n",
            "HOUSE_AND_HOME            0.00\n",
            "LIBRARIES_AND_DEMO        0.99\n",
            "LIFESTYLE              2360.87\n",
            "MAPS_AND_NAVIGATION      26.95\n",
            "MEDICAL                1439.96\n",
            "NEWS_AND_MAGAZINES        3.98\n",
            "PARENTING                 9.58\n",
            "PERSONALIZATION         153.96\n",
            "PHOTOGRAPHY             134.21\n",
            "PRODUCTIVITY            250.93\n",
            "SHOPPING                  5.48\n",
            "SOCIAL                   15.97\n",
            "SPORTS                  100.00\n",
            "TOOLS                   267.25\n",
            "TRAVEL_AND_LOCAL         49.95\n",
            "VIDEO_PLAYERS            10.46\n",
            "WEATHER                  32.42\n",
            "Name: Price, dtype: float64\n",
            "Category\n",
            "ART_AND_DESIGN         2.637600e+04\n",
            "AUTO_AND_VEHICLES      1.369019e+04\n",
            "BEAUTY                 7.476226e+03\n",
            "BOOKS_AND_REFERENCE    9.506090e+04\n",
            "BUSINESS               3.033598e+04\n",
            "COMICS                 5.638793e+04\n",
            "COMMUNICATION          2.107138e+06\n",
            "DATING                 3.115931e+04\n",
            "EDUCATION              2.538191e+05\n",
            "ENTERTAINMENT          3.971688e+05\n",
            "EVENTS                 2.515906e+03\n",
            "FAMILY                 2.080255e+05\n",
            "FINANCE                4.795281e+04\n",
            "FOOD_AND_DRINK         6.994748e+04\n",
            "GAME                   1.385859e+06\n",
            "HEALTH_AND_FITNESS     1.111253e+05\n",
            "HOUSE_AND_HOME         4.518619e+04\n",
            "LIBRARIES_AND_DEMO     1.220139e+04\n",
            "LIFESTYLE              3.372457e+04\n",
            "MAPS_AND_NAVIGATION    2.237902e+05\n",
            "MEDICAL                3.425432e+03\n",
            "NEWS_AND_MAGAZINES     1.922292e+05\n",
            "PARENTING              1.597218e+04\n",
            "PERSONALIZATION        2.279238e+05\n",
            "PHOTOGRAPHY            6.373631e+05\n",
            "PRODUCTIVITY           2.691438e+05\n",
            "SHOPPING               4.424662e+05\n",
            "SOCIAL                 2.105903e+06\n",
            "SPORTS                 1.844536e+05\n",
            "TOOLS                  3.240629e+05\n",
            "TRAVEL_AND_LOCAL       2.427051e+05\n",
            "VIDEO_PLAYERS          6.307439e+05\n",
            "WEATHER                1.781065e+05\n",
            "Name: Reviews, dtype: float64\n"
          ]
        }
      ]
    },
    {
      "cell_type": "code",
      "metadata": {
        "colab": {
          "base_uri": "https://localhost:8080/",
          "height": 466
        },
        "id": "w4qPI_FbKbNB",
        "outputId": "83056556-b151-4c6f-dd45-af7302db812b"
      },
      "source": [
        "plt.figure(figsize=(16,5))\n",
        "plt.plot(x,'ro',color='g')\n",
        "plt.xticks(rotation=90)\n",
        "plt.title('Category vs Installs')\n",
        "plt.xlabel('Category')\n",
        "plt.ylabel('Installs')\n",
        "plt.show()"
      ],
      "execution_count": null,
      "outputs": [
        {
          "output_type": "display_data",
          "data": {
            "image/png": "[encoded data removed]",
            "text/plain": [
              "<Figure size 1152x360 with 1 Axes>"
            ]
          },
          "metadata": {
            "needs_background": "light"
          }
        }
      ]
    },
    {
      "cell_type": "code",
      "metadata": {
        "colab": {
          "base_uri": "https://localhost:8080/",
          "height": 450
        },
        "id": "UMu5WgoQM9-t",
        "outputId": "f1bc371e-3440-4f12-b3d1-46fe688228fb"
      },
      "source": [
        "plt.figure(figsize=(16,5))\n",
        "plt.plot(y,'r--',color='g')\n",
        "plt.xticks(rotation=90)\n",
        "plt.xlabel('Category')\n",
        "plt.ylabel('Price')\n",
        "plt.show()"
      ],
      "execution_count": null,
      "outputs": [
        {
          "output_type": "display_data",
          "data": {
            "image/png": "[encoded data removed]",
            "text/plain": [
              "<Figure size 1152x360 with 1 Axes>"
            ]
          },
          "metadata": {
            "needs_background": "light"
          }
        }
      ]
    },
    {
      "cell_type": "code",
      "metadata": {
        "colab": {
          "base_uri": "https://localhost:8080/",
          "height": 461
        },
        "id": "Yocsh0MCOHB6",
        "outputId": "c3dfaa4a-b0bc-42fb-843f-12b877785a66"
      },
      "source": [
        "plt.figure(figsize=(16,5))\n",
        "plt.plot(z,'r+',color='g')\n",
        "plt.xticks(rotation=90)\n",
        "plt.xlabel('Category')\n",
        "plt.ylabel('Reviews')\n",
        "plt.show()"
      ],
      "execution_count": null,
      "outputs": [
        {
          "output_type": "display_data",
          "data": {
            "image/png": "[encoded data removed]",
            "text/plain": [
              "<Figure size 1152x360 with 1 Axes>"
            ]
          },
          "metadata": {
            "needs_background": "light"
          }
        }
      ]
    },
    {
      "cell_type": "markdown",
      "metadata": {
        "id": "DD1DeFqOZ1x2"
      },
      "source": [
        "# Sorry guys,i am not able to draw a good amount of insight from above graphs."
      ]
    },
    {
      "cell_type": "markdown",
      "metadata": {
        "id": "V5BDzLmy9dNz"
      },
      "source": [
        "**2. Average rating per Category**"
      ]
    },
    {
      "cell_type": "code",
      "metadata": {
        "id": "LsNyAOIW9obx"
      },
      "source": [
        "#lets visualize average rating per category using plotly library\n",
        "Average_rating_per_category=df.groupby('Category')['Rating'].median().reset_index()"
      ],
      "execution_count": null,
      "outputs": []
    },
    {
      "cell_type": "code",
      "metadata": {
        "colab": {
          "base_uri": "https://localhost:8080/",
          "height": 542
        },
        "id": "w2vr6f-2_r7n",
        "outputId": "b25ef05b-9bda-44ea-9e1c-f40f45b16b91"
      },
      "source": [
        "#lets plot graph using plotly library\n",
        "px.bar(data_frame=Average_rating_per_category,x=Average_rating_per_category['Category'],y=Average_rating_per_category['Rating'],text='Rating',title='Average Rating Per Category')"
      ],
      "execution_count": null,
      "outputs": [
        {
          "output_type": "display_data",
          "data": {
            "text/html": [
              "<html>\n",
              "<head><meta charset=\"utf-8\" /></head>\n",
              "<body>\n",
              "    <div>\n",
              "            <script src=\"https://cdnjs.cloudflare.com/ajax/libs/mathjax/2.7.5/MathJax.js?config=TeX-AMS-MML_SVG\"></script><script type=\"text/javascript\">if (window.MathJax) {MathJax.Hub.Config({SVG: {font: \"STIX-Web\"}});}</script>\n",
              "                <script type=\"text/javascript\">window.PlotlyConfig = {MathJaxConfig: 'local'};</script>\n",
              "        <script src=\"https://cdn.plot.ly/plotly-latest.min.js\"></script>    \n",
              "            <div id=\"688c4efa-adfe-4653-aac8-ddce911908a9\" class=\"plotly-graph-div\" style=\"height:525px; width:100%;\"></div>\n",
              "            <script type=\"text/javascript\">\n",
              "                \n",
              "                    window.PLOTLYENV=window.PLOTLYENV || {};\n",
              "                    \n",
              "                if (document.getElementById(\"688c4efa-adfe-4653-aac8-ddce911908a9\")) {\n",
              "                    Plotly.newPlot(\n",
              "                        '688c4efa-adfe-4653-aac8-ddce911908a9',\n",
              "                        [{\"alignmentgroup\": \"True\", \"hoverlabel\": {\"namelength\": 0}, \"hovertemplate\": \"Category=%{x}<br>Rating=%{text}\", \"legendgroup\": \"\", \"marker\": {\"color\": \"#636efa\"}, \"name\": \"\", \"offsetgroup\": \"\", \"orientation\": \"v\", \"showlegend\": false, \"text\": [4.4, 4.3, 4.3, 4.4, 4.25, 4.4, 4.3, 4.1, 4.4, 4.2, 4.5, 4.3, 4.3, 4.3, 4.375, 4.5, 4.3, 4.2, 4.2, 4.2, 4.3, 4.2, 4.4, 4.4, 4.3, 4.3, 4.3, 4.3, 4.3, 4.2, 4.3, 4.2, 4.3], \"textposition\": \"auto\", \"type\": \"bar\", \"x\": [\"ART_AND_DESIGN\", \"AUTO_AND_VEHICLES\", \"BEAUTY\", \"BOOKS_AND_REFERENCE\", \"BUSINESS\", \"COMICS\", \"COMMUNICATION\", \"DATING\", \"EDUCATION\", \"ENTERTAINMENT\", \"EVENTS\", \"FAMILY\", \"FINANCE\", \"FOOD_AND_DRINK\", \"GAME\", \"HEALTH_AND_FITNESS\", \"HOUSE_AND_HOME\", \"LIBRARIES_AND_DEMO\", \"LIFESTYLE\", \"MAPS_AND_NAVIGATION\", \"MEDICAL\", \"NEWS_AND_MAGAZINES\", \"PARENTING\", \"PERSONALIZATION\", \"PHOTOGRAPHY\", \"PRODUCTIVITY\", \"SHOPPING\", \"SOCIAL\", \"SPORTS\", \"TOOLS\", \"TRAVEL_AND_LOCAL\", \"VIDEO_PLAYERS\", \"WEATHER\"], \"xaxis\": \"x\", \"y\": [4.4, 4.3, 4.3, 4.4, 4.25, 4.4, 4.3, 4.1, 4.4, 4.2, 4.5, 4.3, 4.3, 4.3, 4.375, 4.5, 4.3, 4.2, 4.2, 4.2, 4.3, 4.2, 4.4, 4.4, 4.3, 4.3, 4.3, 4.3, 4.3, 4.2, 4.3, 4.2, 4.3], \"yaxis\": \"y\"}],\n",
              "                        {\"barmode\": \"relative\", \"legend\": {\"tracegroupgap\": 0}, \"template\": {\"data\": {\"bar\": [{\"error_x\": {\"color\": \"#2a3f5f\"}, \"error_y\": {\"color\": \"#2a3f5f\"}, \"marker\": {\"line\": {\"color\": \"#E5ECF6\", \"width\": 0.5}}, \"type\": \"bar\"}], \"barpolar\": [{\"marker\": {\"line\": {\"color\": \"#E5ECF6\", \"width\": 0.5}}, \"type\": \"barpolar\"}], \"carpet\": [{\"aaxis\": {\"endlinecolor\": \"#2a3f5f\", \"gridcolor\": \"white\", \"linecolor\": \"white\", \"minorgridcolor\": \"white\", \"startlinecolor\": \"#2a3f5f\"}, \"baxis\": {\"endlinecolor\": \"#2a3f5f\", \"gridcolor\": \"white\", \"linecolor\": \"white\", \"minorgridcolor\": \"white\", \"startlinecolor\": \"#2a3f5f\"}, \"type\": \"carpet\"}], \"choropleth\": [{\"colorbar\": {\"outlinewidth\": 0, \"ticks\": \"\"}, \"type\": \"choropleth\"}], \"contour\": [{\"colorbar\": {\"outlinewidth\": 0, \"ticks\": \"\"}, \"colorscale\": [[0.0, \"#0d0887\"], [0.1111111111111111, \"#46039f\"], [0.2222222222222222, \"#7201a8\"], [0.3333333333333333, \"#9c179e\"], [0.4444444444444444, \"#bd3786\"], [0.5555555555555556, \"#d8576b\"], [0.6666666666666666, \"#ed7953\"], [0.7777777777777778, \"#fb9f3a\"], [0.8888888888888888, \"#fdca26\"], [1.0, \"#f0f921\"]], \"type\": \"contour\"}], \"contourcarpet\": [{\"colorbar\": {\"outlinewidth\": 0, \"ticks\": \"\"}, \"type\": \"contourcarpet\"}], \"heatmap\": [{\"colorbar\": {\"outlinewidth\": 0, \"ticks\": \"\"}, \"colorscale\": [[0.0, \"#0d0887\"], [0.1111111111111111, \"#46039f\"], [0.2222222222222222, \"#7201a8\"], [0.3333333333333333, \"#9c179e\"], [0.4444444444444444, \"#bd3786\"], [0.5555555555555556, \"#d8576b\"], [0.6666666666666666, \"#ed7953\"], [0.7777777777777778, \"#fb9f3a\"], [0.8888888888888888, \"#fdca26\"], [1.0, \"#f0f921\"]], \"type\": \"heatmap\"}], \"heatmapgl\": [{\"colorbar\": {\"outlinewidth\": 0, \"ticks\": \"\"}, \"colorscale\": [[0.0, \"#0d0887\"], [0.1111111111111111, \"#46039f\"], [0.2222222222222222, \"#7201a8\"], [0.3333333333333333, \"#9c179e\"], [0.4444444444444444, \"#bd3786\"], [0.5555555555555556, \"#d8576b\"], [0.6666666666666666, \"#ed7953\"], [0.7777777777777778, \"#fb9f3a\"], [0.8888888888888888, \"#fdca26\"], [1.0, \"#f0f921\"]], \"type\": \"heatmapgl\"}], \"histogram\": [{\"marker\": {\"colorbar\": {\"outlinewidth\": 0, \"ticks\": \"\"}}, \"type\": \"histogram\"}], \"histogram2d\": [{\"colorbar\": {\"outlinewidth\": 0, \"ticks\": \"\"}, \"colorscale\": [[0.0, \"#0d0887\"], [0.1111111111111111, \"#46039f\"], [0.2222222222222222, \"#7201a8\"], [0.3333333333333333, \"#9c179e\"], [0.4444444444444444, \"#bd3786\"], [0.5555555555555556, \"#d8576b\"], [0.6666666666666666, \"#ed7953\"], [0.7777777777777778, \"#fb9f3a\"], [0.8888888888888888, \"#fdca26\"], [1.0, \"#f0f921\"]], \"type\": \"histogram2d\"}], \"histogram2dcontour\": [{\"colorbar\": {\"outlinewidth\": 0, \"ticks\": \"\"}, \"colorscale\": [[0.0, \"#0d0887\"], [0.1111111111111111, \"#46039f\"], [0.2222222222222222, \"#7201a8\"], [0.3333333333333333, \"#9c179e\"], [0.4444444444444444, \"#bd3786\"], [0.5555555555555556, \"#d8576b\"], [0.6666666666666666, \"#ed7953\"], [0.7777777777777778, \"#fb9f3a\"], [0.8888888888888888, \"#fdca26\"], [1.0, \"#f0f921\"]], \"type\": \"histogram2dcontour\"}], \"mesh3d\": [{\"colorbar\": {\"outlinewidth\": 0, \"ticks\": \"\"}, \"type\": \"mesh3d\"}], \"parcoords\": [{\"line\": {\"colorbar\": {\"outlinewidth\": 0, \"ticks\": \"\"}}, \"type\": \"parcoords\"}], \"pie\": [{\"automargin\": true, \"type\": \"pie\"}], \"scatter\": [{\"marker\": {\"colorbar\": {\"outlinewidth\": 0, \"ticks\": \"\"}}, \"type\": \"scatter\"}], \"scatter3d\": [{\"line\": {\"colorbar\": {\"outlinewidth\": 0, \"ticks\": \"\"}}, \"marker\": {\"colorbar\": {\"outlinewidth\": 0, \"ticks\": \"\"}}, \"type\": \"scatter3d\"}], \"scattercarpet\": [{\"marker\": {\"colorbar\": {\"outlinewidth\": 0, \"ticks\": \"\"}}, \"type\": \"scattercarpet\"}], \"scattergeo\": [{\"marker\": {\"colorbar\": {\"outlinewidth\": 0, \"ticks\": \"\"}}, \"type\": \"scattergeo\"}], \"scattergl\": [{\"marker\": {\"colorbar\": {\"outlinewidth\": 0, \"ticks\": \"\"}}, \"type\": \"scattergl\"}], \"scattermapbox\": [{\"marker\": {\"colorbar\": {\"outlinewidth\": 0, \"ticks\": \"\"}}, \"type\": \"scattermapbox\"}], \"scatterpolar\": [{\"marker\": {\"colorbar\": {\"outlinewidth\": 0, \"ticks\": \"\"}}, \"type\": \"scatterpolar\"}], \"scatterpolargl\": [{\"marker\": {\"colorbar\": {\"outlinewidth\": 0, \"ticks\": \"\"}}, \"type\": \"scatterpolargl\"}], \"scatterternary\": [{\"marker\": {\"colorbar\": {\"outlinewidth\": 0, \"ticks\": \"\"}}, \"type\": \"scatterternary\"}], \"surface\": [{\"colorbar\": {\"outlinewidth\": 0, \"ticks\": \"\"}, \"colorscale\": [[0.0, \"#0d0887\"], [0.1111111111111111, \"#46039f\"], [0.2222222222222222, \"#7201a8\"], [0.3333333333333333, \"#9c179e\"], [0.4444444444444444, \"#bd3786\"], [0.5555555555555556, \"#d8576b\"], [0.6666666666666666, \"#ed7953\"], [0.7777777777777778, \"#fb9f3a\"], [0.8888888888888888, \"#fdca26\"], [1.0, \"#f0f921\"]], \"type\": \"surface\"}], \"table\": [{\"cells\": {\"fill\": {\"color\": \"#EBF0F8\"}, \"line\": {\"color\": \"white\"}}, \"header\": {\"fill\": {\"color\": \"#C8D4E3\"}, \"line\": {\"color\": \"white\"}}, \"type\": \"table\"}]}, \"layout\": {\"annotationdefaults\": {\"arrowcolor\": \"#2a3f5f\", \"arrowhead\": 0, \"arrowwidth\": 1}, \"coloraxis\": {\"colorbar\": {\"outlinewidth\": 0, \"ticks\": \"\"}}, \"colorscale\": {\"diverging\": [[0, \"#8e0152\"], [0.1, \"#c51b7d\"], [0.2, \"#de77ae\"], [0.3, \"#f1b6da\"], [0.4, \"#fde0ef\"], [0.5, \"#f7f7f7\"], [0.6, \"#e6f5d0\"], [0.7, \"#b8e186\"], [0.8, \"#7fbc41\"], [0.9, \"#4d9221\"], [1, \"#276419\"]], \"sequential\": [[0.0, \"#0d0887\"], [0.1111111111111111, \"#46039f\"], [0.2222222222222222, \"#7201a8\"], [0.3333333333333333, \"#9c179e\"], [0.4444444444444444, \"#bd3786\"], [0.5555555555555556, \"#d8576b\"], [0.6666666666666666, \"#ed7953\"], [0.7777777777777778, \"#fb9f3a\"], [0.8888888888888888, \"#fdca26\"], [1.0, \"#f0f921\"]], \"sequentialminus\": [[0.0, \"#0d0887\"], [0.1111111111111111, \"#46039f\"], [0.2222222222222222, \"#7201a8\"], [0.3333333333333333, \"#9c179e\"], [0.4444444444444444, \"#bd3786\"], [0.5555555555555556, \"#d8576b\"], [0.6666666666666666, \"#ed7953\"], [0.7777777777777778, \"#fb9f3a\"], [0.8888888888888888, \"#fdca26\"], [1.0, \"#f0f921\"]]}, \"colorway\": [\"#636efa\", \"#EF553B\", \"#00cc96\", \"#ab63fa\", \"#FFA15A\", \"#19d3f3\", \"#FF6692\", \"#B6E880\", \"#FF97FF\", \"#FECB52\"], \"font\": {\"color\": \"#2a3f5f\"}, \"geo\": {\"bgcolor\": \"white\", \"lakecolor\": \"white\", \"landcolor\": \"#E5ECF6\", \"showlakes\": true, \"showland\": true, \"subunitcolor\": \"white\"}, \"hoverlabel\": {\"align\": \"left\"}, \"hovermode\": \"closest\", \"mapbox\": {\"style\": \"light\"}, \"paper_bgcolor\": \"white\", \"plot_bgcolor\": \"#E5ECF6\", \"polar\": {\"angularaxis\": {\"gridcolor\": \"white\", \"linecolor\": \"white\", \"ticks\": \"\"}, \"bgcolor\": \"#E5ECF6\", \"radialaxis\": {\"gridcolor\": \"white\", \"linecolor\": \"white\", \"ticks\": \"\"}}, \"scene\": {\"xaxis\": {\"backgroundcolor\": \"#E5ECF6\", \"gridcolor\": \"white\", \"gridwidth\": 2, \"linecolor\": \"white\", \"showbackground\": true, \"ticks\": \"\", \"zerolinecolor\": \"white\"}, \"yaxis\": {\"backgroundcolor\": \"#E5ECF6\", \"gridcolor\": \"white\", \"gridwidth\": 2, \"linecolor\": \"white\", \"showbackground\": true, \"ticks\": \"\", \"zerolinecolor\": \"white\"}, \"zaxis\": {\"backgroundcolor\": \"#E5ECF6\", \"gridcolor\": \"white\", \"gridwidth\": 2, \"linecolor\": \"white\", \"showbackground\": true, \"ticks\": \"\", \"zerolinecolor\": \"white\"}}, \"shapedefaults\": {\"line\": {\"color\": \"#2a3f5f\"}}, \"ternary\": {\"aaxis\": {\"gridcolor\": \"white\", \"linecolor\": \"white\", \"ticks\": \"\"}, \"baxis\": {\"gridcolor\": \"white\", \"linecolor\": \"white\", \"ticks\": \"\"}, \"bgcolor\": \"#E5ECF6\", \"caxis\": {\"gridcolor\": \"white\", \"linecolor\": \"white\", \"ticks\": \"\"}}, \"title\": {\"x\": 0.05}, \"xaxis\": {\"automargin\": true, \"gridcolor\": \"white\", \"linecolor\": \"white\", \"ticks\": \"\", \"title\": {\"standoff\": 15}, \"zerolinecolor\": \"white\", \"zerolinewidth\": 2}, \"yaxis\": {\"automargin\": true, \"gridcolor\": \"white\", \"linecolor\": \"white\", \"ticks\": \"\", \"title\": {\"standoff\": 15}, \"zerolinecolor\": \"white\", \"zerolinewidth\": 2}}}, \"title\": {\"text\": \"Average Rating Per Category\"}, \"xaxis\": {\"anchor\": \"y\", \"domain\": [0.0, 1.0], \"title\": {\"text\": \"Category\"}}, \"yaxis\": {\"anchor\": \"x\", \"domain\": [0.0, 1.0], \"title\": {\"text\": \"Rating\"}}},\n",
              "                        {\"responsive\": true}\n",
              "                    ).then(function(){\n",
              "                            \n",
              "var gd = document.getElementById('688c4efa-adfe-4653-aac8-ddce911908a9');\n",
              "var x = new MutationObserver(function (mutations, observer) {{\n",
              "        var display = window.getComputedStyle(gd).display;\n",
              "        if (!display || display === 'none') {{\n",
              "            console.log([gd, 'removed!']);\n",
              "            Plotly.purge(gd);\n",
              "            observer.disconnect();\n",
              "        }}\n",
              "}});\n",
              "\n",
              "// Listen for the removal of the full notebook cells\n",
              "var notebookContainer = gd.closest('#notebook-container');\n",
              "if (notebookContainer) {{\n",
              "    x.observe(notebookContainer, {childList: true});\n",
              "}}\n",
              "\n",
              "// Listen for the clearing of the current output cell\n",
              "var outputEl = gd.closest('.output');\n",
              "if (outputEl) {{\n",
              "    x.observe(outputEl, {childList: true});\n",
              "}}\n",
              "\n",
              "                        })\n",
              "                };\n",
              "                \n",
              "            </script>\n",
              "        </div>\n",
              "</body>\n",
              "</html>"
            ]
          },
          "metadata": {}
        }
      ]
    },
    {
      "cell_type": "code",
      "metadata": {
        "colab": {
          "base_uri": "https://localhost:8080/"
        },
        "id": "UWbpw9huBRhm",
        "outputId": "8cd454d9-c58e-42c1-f64c-f5153c106c53"
      },
      "source": [
        "print(round(np.mean(df['Rating']),1))"
      ],
      "execution_count": null,
      "outputs": [
        {
          "output_type": "stream",
          "name": "stdout",
          "text": [
            "4.2\n"
          ]
        }
      ]
    },
    {
      "cell_type": "markdown",
      "metadata": {
        "id": "dVi2oAiEBSfV"
      },
      "source": [
        "So, the average rating per category is about 4.2 out of 5."
      ]
    },
    {
      "cell_type": "markdown",
      "metadata": {
        "id": "FqOOSkYRYudb"
      },
      "source": [
        "# From above graph,we can see clearly the average rating per category.We can see that the average rating is from 4.1 to 4.5."
      ]
    },
    {
      "cell_type": "markdown",
      "metadata": {
        "id": "AFu8n_EgRNRB"
      },
      "source": [
        "**3.Total no. of application per Category**"
      ]
    },
    {
      "cell_type": "code",
      "metadata": {
        "id": "0079_rnv9bXp"
      },
      "source": [
        "#lets calculate total no of application per category\n",
        "total_no_of_application_per_category=df['Category'].value_counts().reset_index()"
      ],
      "execution_count": null,
      "outputs": []
    },
    {
      "cell_type": "code",
      "metadata": {
        "id": "vybYeGME7Z8B"
      },
      "source": [
        "#lets rename colunms \n",
        "total_no_of_application_per_category.set_axis(['Category','Count'],axis=1,inplace=True)"
      ],
      "execution_count": null,
      "outputs": []
    },
    {
      "cell_type": "code",
      "metadata": {
        "colab": {
          "base_uri": "https://localhost:8080/",
          "height": 542
        },
        "id": "-F0y5eqbWxsd",
        "outputId": "1dfdaec7-2576-41b7-bd07-78d004814067"
      },
      "source": [
        "#lets plot the total no. of application downloaded per category using plotly\n",
        "px.bar(data_frame=total_no_of_application_per_category,x=total_no_of_application_per_category['Category'],y=total_no_of_application_per_category['Count'],text=\"Count\",title='Total Number of Application Per Category')\n"
      ],
      "execution_count": null,
      "outputs": [
        {
          "output_type": "display_data",
          "data": {
            "text/html": [
              "<html>\n",
              "<head><meta charset=\"utf-8\" /></head>\n",
              "<body>\n",
              "    <div>\n",
              "            <script src=\"https://cdnjs.cloudflare.com/ajax/libs/mathjax/2.7.5/MathJax.js?config=TeX-AMS-MML_SVG\"></script><script type=\"text/javascript\">if (window.MathJax) {MathJax.Hub.Config({SVG: {font: \"STIX-Web\"}});}</script>\n",
              "                <script type=\"text/javascript\">window.PlotlyConfig = {MathJaxConfig: 'local'};</script>\n",
              "        <script src=\"https://cdn.plot.ly/plotly-latest.min.js\"></script>    \n",
              "            <div id=\"5031f00f-ad75-44ce-a11a-6eaee8a5801c\" class=\"plotly-graph-div\" style=\"height:525px; width:100%;\"></div>\n",
              "            <script type=\"text/javascript\">\n",
              "                \n",
              "                    window.PLOTLYENV=window.PLOTLYENV || {};\n",
              "                    \n",
              "                if (document.getElementById(\"5031f00f-ad75-44ce-a11a-6eaee8a5801c\")) {\n",
              "                    Plotly.newPlot(\n",
              "                        '5031f00f-ad75-44ce-a11a-6eaee8a5801c',\n",
              "                        [{\"alignmentgroup\": \"True\", \"hoverlabel\": {\"namelength\": 0}, \"hovertemplate\": \"Category=%{x}<br>Count=%{text}\", \"legendgroup\": \"\", \"marker\": {\"color\": \"#636efa\"}, \"name\": \"\", \"offsetgroup\": \"\", \"orientation\": \"v\", \"showlegend\": false, \"text\": [1972.0, 1144.0, 843.0, 463.0, 460.0, 424.0, 392.0, 387.0, 384.0, 382.0, 366.0, 341.0, 335.0, 295.0, 283.0, 260.0, 258.0, 234.0, 231.0, 175.0, 156.0, 149.0, 137.0, 127.0, 88.0, 85.0, 85.0, 82.0, 65.0, 64.0, 60.0, 60.0, 53.0], \"textposition\": \"auto\", \"type\": \"bar\", \"x\": [\"FAMILY\", \"GAME\", \"TOOLS\", \"MEDICAL\", \"BUSINESS\", \"PRODUCTIVITY\", \"PERSONALIZATION\", \"COMMUNICATION\", \"SPORTS\", \"LIFESTYLE\", \"FINANCE\", \"HEALTH_AND_FITNESS\", \"PHOTOGRAPHY\", \"SOCIAL\", \"NEWS_AND_MAGAZINES\", \"SHOPPING\", \"TRAVEL_AND_LOCAL\", \"DATING\", \"BOOKS_AND_REFERENCE\", \"VIDEO_PLAYERS\", \"EDUCATION\", \"ENTERTAINMENT\", \"MAPS_AND_NAVIGATION\", \"FOOD_AND_DRINK\", \"HOUSE_AND_HOME\", \"LIBRARIES_AND_DEMO\", \"AUTO_AND_VEHICLES\", \"WEATHER\", \"ART_AND_DESIGN\", \"EVENTS\", \"COMICS\", \"PARENTING\", \"BEAUTY\"], \"xaxis\": \"x\", \"y\": [1972, 1144, 843, 463, 460, 424, 392, 387, 384, 382, 366, 341, 335, 295, 283, 260, 258, 234, 231, 175, 156, 149, 137, 127, 88, 85, 85, 82, 65, 64, 60, 60, 53], \"yaxis\": \"y\"}],\n",
              "                        {\"barmode\": \"relative\", \"legend\": {\"tracegroupgap\": 0}, \"template\": {\"data\": {\"bar\": [{\"error_x\": {\"color\": \"#2a3f5f\"}, \"error_y\": {\"color\": \"#2a3f5f\"}, \"marker\": {\"line\": {\"color\": \"#E5ECF6\", \"width\": 0.5}}, \"type\": \"bar\"}], \"barpolar\": [{\"marker\": {\"line\": {\"color\": \"#E5ECF6\", \"width\": 0.5}}, \"type\": \"barpolar\"}], \"carpet\": [{\"aaxis\": {\"endlinecolor\": \"#2a3f5f\", \"gridcolor\": \"white\", \"linecolor\": \"white\", \"minorgridcolor\": \"white\", \"startlinecolor\": \"#2a3f5f\"}, \"baxis\": {\"endlinecolor\": \"#2a3f5f\", \"gridcolor\": \"white\", \"linecolor\": \"white\", \"minorgridcolor\": \"white\", \"startlinecolor\": \"#2a3f5f\"}, \"type\": \"carpet\"}], \"choropleth\": [{\"colorbar\": {\"outlinewidth\": 0, \"ticks\": \"\"}, \"type\": \"choropleth\"}], \"contour\": [{\"colorbar\": {\"outlinewidth\": 0, \"ticks\": \"\"}, \"colorscale\": [[0.0, \"#0d0887\"], [0.1111111111111111, \"#46039f\"], [0.2222222222222222, \"#7201a8\"], [0.3333333333333333, \"#9c179e\"], [0.4444444444444444, \"#bd3786\"], [0.5555555555555556, \"#d8576b\"], [0.6666666666666666, \"#ed7953\"], [0.7777777777777778, \"#fb9f3a\"], [0.8888888888888888, \"#fdca26\"], [1.0, \"#f0f921\"]], \"type\": \"contour\"}], \"contourcarpet\": [{\"colorbar\": {\"outlinewidth\": 0, \"ticks\": \"\"}, \"type\": \"contourcarpet\"}], \"heatmap\": [{\"colorbar\": {\"outlinewidth\": 0, \"ticks\": \"\"}, \"colorscale\": [[0.0, \"#0d0887\"], [0.1111111111111111, \"#46039f\"], [0.2222222222222222, \"#7201a8\"], [0.3333333333333333, \"#9c179e\"], [0.4444444444444444, \"#bd3786\"], [0.5555555555555556, \"#d8576b\"], [0.6666666666666666, \"#ed7953\"], [0.7777777777777778, \"#fb9f3a\"], [0.8888888888888888, \"#fdca26\"], [1.0, \"#f0f921\"]], \"type\": \"heatmap\"}], \"heatmapgl\": [{\"colorbar\": {\"outlinewidth\": 0, \"ticks\": \"\"}, \"colorscale\": [[0.0, \"#0d0887\"], [0.1111111111111111, \"#46039f\"], [0.2222222222222222, \"#7201a8\"], [0.3333333333333333, \"#9c179e\"], [0.4444444444444444, \"#bd3786\"], [0.5555555555555556, \"#d8576b\"], [0.6666666666666666, \"#ed7953\"], [0.7777777777777778, \"#fb9f3a\"], [0.8888888888888888, \"#fdca26\"], [1.0, \"#f0f921\"]], \"type\": \"heatmapgl\"}], \"histogram\": [{\"marker\": {\"colorbar\": {\"outlinewidth\": 0, \"ticks\": \"\"}}, \"type\": \"histogram\"}], \"histogram2d\": [{\"colorbar\": {\"outlinewidth\": 0, \"ticks\": \"\"}, \"colorscale\": [[0.0, \"#0d0887\"], [0.1111111111111111, \"#46039f\"], [0.2222222222222222, \"#7201a8\"], [0.3333333333333333, \"#9c179e\"], [0.4444444444444444, \"#bd3786\"], [0.5555555555555556, \"#d8576b\"], [0.6666666666666666, \"#ed7953\"], [0.7777777777777778, \"#fb9f3a\"], [0.8888888888888888, \"#fdca26\"], [1.0, \"#f0f921\"]], \"type\": \"histogram2d\"}], \"histogram2dcontour\": [{\"colorbar\": {\"outlinewidth\": 0, \"ticks\": \"\"}, \"colorscale\": [[0.0, \"#0d0887\"], [0.1111111111111111, \"#46039f\"], [0.2222222222222222, \"#7201a8\"], [0.3333333333333333, \"#9c179e\"], [0.4444444444444444, \"#bd3786\"], [0.5555555555555556, \"#d8576b\"], [0.6666666666666666, \"#ed7953\"], [0.7777777777777778, \"#fb9f3a\"], [0.8888888888888888, \"#fdca26\"], [1.0, \"#f0f921\"]], \"type\": \"histogram2dcontour\"}], \"mesh3d\": [{\"colorbar\": {\"outlinewidth\": 0, \"ticks\": \"\"}, \"type\": \"mesh3d\"}], \"parcoords\": [{\"line\": {\"colorbar\": {\"outlinewidth\": 0, \"ticks\": \"\"}}, \"type\": \"parcoords\"}], \"pie\": [{\"automargin\": true, \"type\": \"pie\"}], \"scatter\": [{\"marker\": {\"colorbar\": {\"outlinewidth\": 0, \"ticks\": \"\"}}, \"type\": \"scatter\"}], \"scatter3d\": [{\"line\": {\"colorbar\": {\"outlinewidth\": 0, \"ticks\": \"\"}}, \"marker\": {\"colorbar\": {\"outlinewidth\": 0, \"ticks\": \"\"}}, \"type\": \"scatter3d\"}], \"scattercarpet\": [{\"marker\": {\"colorbar\": {\"outlinewidth\": 0, \"ticks\": \"\"}}, \"type\": \"scattercarpet\"}], \"scattergeo\": [{\"marker\": {\"colorbar\": {\"outlinewidth\": 0, \"ticks\": \"\"}}, \"type\": \"scattergeo\"}], \"scattergl\": [{\"marker\": {\"colorbar\": {\"outlinewidth\": 0, \"ticks\": \"\"}}, \"type\": \"scattergl\"}], \"scattermapbox\": [{\"marker\": {\"colorbar\": {\"outlinewidth\": 0, \"ticks\": \"\"}}, \"type\": \"scattermapbox\"}], \"scatterpolar\": [{\"marker\": {\"colorbar\": {\"outlinewidth\": 0, \"ticks\": \"\"}}, \"type\": \"scatterpolar\"}], \"scatterpolargl\": [{\"marker\": {\"colorbar\": {\"outlinewidth\": 0, \"ticks\": \"\"}}, \"type\": \"scatterpolargl\"}], \"scatterternary\": [{\"marker\": {\"colorbar\": {\"outlinewidth\": 0, \"ticks\": \"\"}}, \"type\": \"scatterternary\"}], \"surface\": [{\"colorbar\": {\"outlinewidth\": 0, \"ticks\": \"\"}, \"colorscale\": [[0.0, \"#0d0887\"], [0.1111111111111111, \"#46039f\"], [0.2222222222222222, \"#7201a8\"], [0.3333333333333333, \"#9c179e\"], [0.4444444444444444, \"#bd3786\"], [0.5555555555555556, \"#d8576b\"], [0.6666666666666666, \"#ed7953\"], [0.7777777777777778, \"#fb9f3a\"], [0.8888888888888888, \"#fdca26\"], [1.0, \"#f0f921\"]], \"type\": \"surface\"}], \"table\": [{\"cells\": {\"fill\": {\"color\": \"#EBF0F8\"}, \"line\": {\"color\": \"white\"}}, \"header\": {\"fill\": {\"color\": \"#C8D4E3\"}, \"line\": {\"color\": \"white\"}}, \"type\": \"table\"}]}, \"layout\": {\"annotationdefaults\": {\"arrowcolor\": \"#2a3f5f\", \"arrowhead\": 0, \"arrowwidth\": 1}, \"coloraxis\": {\"colorbar\": {\"outlinewidth\": 0, \"ticks\": \"\"}}, \"colorscale\": {\"diverging\": [[0, \"#8e0152\"], [0.1, \"#c51b7d\"], [0.2, \"#de77ae\"], [0.3, \"#f1b6da\"], [0.4, \"#fde0ef\"], [0.5, \"#f7f7f7\"], [0.6, \"#e6f5d0\"], [0.7, \"#b8e186\"], [0.8, \"#7fbc41\"], [0.9, \"#4d9221\"], [1, \"#276419\"]], \"sequential\": [[0.0, \"#0d0887\"], [0.1111111111111111, \"#46039f\"], [0.2222222222222222, \"#7201a8\"], [0.3333333333333333, \"#9c179e\"], [0.4444444444444444, \"#bd3786\"], [0.5555555555555556, \"#d8576b\"], [0.6666666666666666, \"#ed7953\"], [0.7777777777777778, \"#fb9f3a\"], [0.8888888888888888, \"#fdca26\"], [1.0, \"#f0f921\"]], \"sequentialminus\": [[0.0, \"#0d0887\"], [0.1111111111111111, \"#46039f\"], [0.2222222222222222, \"#7201a8\"], [0.3333333333333333, \"#9c179e\"], [0.4444444444444444, \"#bd3786\"], [0.5555555555555556, \"#d8576b\"], [0.6666666666666666, \"#ed7953\"], [0.7777777777777778, \"#fb9f3a\"], [0.8888888888888888, \"#fdca26\"], [1.0, \"#f0f921\"]]}, \"colorway\": [\"#636efa\", \"#EF553B\", \"#00cc96\", \"#ab63fa\", \"#FFA15A\", \"#19d3f3\", \"#FF6692\", \"#B6E880\", \"#FF97FF\", \"#FECB52\"], \"font\": {\"color\": \"#2a3f5f\"}, \"geo\": {\"bgcolor\": \"white\", \"lakecolor\": \"white\", \"landcolor\": \"#E5ECF6\", \"showlakes\": true, \"showland\": true, \"subunitcolor\": \"white\"}, \"hoverlabel\": {\"align\": \"left\"}, \"hovermode\": \"closest\", \"mapbox\": {\"style\": \"light\"}, \"paper_bgcolor\": \"white\", \"plot_bgcolor\": \"#E5ECF6\", \"polar\": {\"angularaxis\": {\"gridcolor\": \"white\", \"linecolor\": \"white\", \"ticks\": \"\"}, \"bgcolor\": \"#E5ECF6\", \"radialaxis\": {\"gridcolor\": \"white\", \"linecolor\": \"white\", \"ticks\": \"\"}}, \"scene\": {\"xaxis\": {\"backgroundcolor\": \"#E5ECF6\", \"gridcolor\": \"white\", \"gridwidth\": 2, \"linecolor\": \"white\", \"showbackground\": true, \"ticks\": \"\", \"zerolinecolor\": \"white\"}, \"yaxis\": {\"backgroundcolor\": \"#E5ECF6\", \"gridcolor\": \"white\", \"gridwidth\": 2, \"linecolor\": \"white\", \"showbackground\": true, \"ticks\": \"\", \"zerolinecolor\": \"white\"}, \"zaxis\": {\"backgroundcolor\": \"#E5ECF6\", \"gridcolor\": \"white\", \"gridwidth\": 2, \"linecolor\": \"white\", \"showbackground\": true, \"ticks\": \"\", \"zerolinecolor\": \"white\"}}, \"shapedefaults\": {\"line\": {\"color\": \"#2a3f5f\"}}, \"ternary\": {\"aaxis\": {\"gridcolor\": \"white\", \"linecolor\": \"white\", \"ticks\": \"\"}, \"baxis\": {\"gridcolor\": \"white\", \"linecolor\": \"white\", \"ticks\": \"\"}, \"bgcolor\": \"#E5ECF6\", \"caxis\": {\"gridcolor\": \"white\", \"linecolor\": \"white\", \"ticks\": \"\"}}, \"title\": {\"x\": 0.05}, \"xaxis\": {\"automargin\": true, \"gridcolor\": \"white\", \"linecolor\": \"white\", \"ticks\": \"\", \"title\": {\"standoff\": 15}, \"zerolinecolor\": \"white\", \"zerolinewidth\": 2}, \"yaxis\": {\"automargin\": true, \"gridcolor\": \"white\", \"linecolor\": \"white\", \"ticks\": \"\", \"title\": {\"standoff\": 15}, \"zerolinecolor\": \"white\", \"zerolinewidth\": 2}}}, \"title\": {\"text\": \"Total Number of Application Per Category\"}, \"xaxis\": {\"anchor\": \"y\", \"domain\": [0.0, 1.0], \"title\": {\"text\": \"Category\"}}, \"yaxis\": {\"anchor\": \"x\", \"domain\": [0.0, 1.0], \"title\": {\"text\": \"Count\"}}},\n",
              "                        {\"responsive\": true}\n",
              "                    ).then(function(){\n",
              "                            \n",
              "var gd = document.getElementById('5031f00f-ad75-44ce-a11a-6eaee8a5801c');\n",
              "var x = new MutationObserver(function (mutations, observer) {{\n",
              "        var display = window.getComputedStyle(gd).display;\n",
              "        if (!display || display === 'none') {{\n",
              "            console.log([gd, 'removed!']);\n",
              "            Plotly.purge(gd);\n",
              "            observer.disconnect();\n",
              "        }}\n",
              "}});\n",
              "\n",
              "// Listen for the removal of the full notebook cells\n",
              "var notebookContainer = gd.closest('#notebook-container');\n",
              "if (notebookContainer) {{\n",
              "    x.observe(notebookContainer, {childList: true});\n",
              "}}\n",
              "\n",
              "// Listen for the clearing of the current output cell\n",
              "var outputEl = gd.closest('.output');\n",
              "if (outputEl) {{\n",
              "    x.observe(outputEl, {childList: true});\n",
              "}}\n",
              "\n",
              "                        })\n",
              "                };\n",
              "                \n",
              "            </script>\n",
              "        </div>\n",
              "</body>\n",
              "</html>"
            ]
          },
          "metadata": {}
        }
      ]
    },
    {
      "cell_type": "markdown",
      "metadata": {
        "id": "KvJiF-uiXsuh"
      },
      "source": [
        "#Great guys,this plot is making sense to me. From above graph,we can clearly see that the most number of application is in the category Family(1972) followed by Game(1144)."
      ]
    },
    {
      "cell_type": "markdown",
      "metadata": {
        "id": "QAtxEKCdaTn8"
      },
      "source": [
        "**4. Most Space required Category in percentage**"
      ]
    },
    {
      "cell_type": "code",
      "metadata": {
        "id": "K5mgDm8XXWTy"
      },
      "source": [
        "#lets calculate most space required category\n",
        "Most_space_required_Category=df.groupby('Category',as_index=False)['Size'].sum().sort_values(by='Size',ascending=False)"
      ],
      "execution_count": null,
      "outputs": []
    },
    {
      "cell_type": "code",
      "metadata": {
        "id": "Gx7fI0tPqPUo"
      },
      "source": [
        "#lets calculate total size of category in our dataset\n",
        "Total_size=df['Size'].sum()"
      ],
      "execution_count": null,
      "outputs": []
    },
    {
      "cell_type": "code",
      "metadata": {
        "id": "-FUOVaUadF4a"
      },
      "source": [
        "#lets calculate most space required category in percentage by creating a new column in the same\n",
        "Most_space_required_Category['in percentage']=Most_space_required_Category['Size']*100/Total_size"
      ],
      "execution_count": null,
      "outputs": []
    },
    {
      "cell_type": "code",
      "metadata": {
        "id": "kiQh8lnjcfuW"
      },
      "source": [
        "#lets apply lymbda function for significant decimal point in percentage\n",
        "Most_space_required_Category['in percentage']=Most_space_required_Category['in percentage'].apply(lambda x: \"{0:1.2f}%\".format(x))\n"
      ],
      "execution_count": null,
      "outputs": []
    },
    {
      "cell_type": "code",
      "metadata": {
        "colab": {
          "base_uri": "https://localhost:8080/",
          "height": 542
        },
        "id": "yk87AwQQeWWg",
        "outputId": "93f0b3f6-0f51-4469-c410-2c137247210b"
      },
      "source": [
        "#lets plot graph for most space required category in percentage\n",
        "px.bar(data_frame=Most_space_required_Category,x=Most_space_required_Category.Category,y=Most_space_required_Category['Size'],title=\"Most Space Required Category in percentage\",text='in percentage')"
      ],
      "execution_count": null,
      "outputs": [
        {
          "output_type": "display_data",
          "data": {
            "text/html": [
              "<html>\n",
              "<head><meta charset=\"utf-8\" /></head>\n",
              "<body>\n",
              "    <div>\n",
              "            <script src=\"https://cdnjs.cloudflare.com/ajax/libs/mathjax/2.7.5/MathJax.js?config=TeX-AMS-MML_SVG\"></script><script type=\"text/javascript\">if (window.MathJax) {MathJax.Hub.Config({SVG: {font: \"STIX-Web\"}});}</script>\n",
              "                <script type=\"text/javascript\">window.PlotlyConfig = {MathJaxConfig: 'local'};</script>\n",
              "        <script src=\"https://cdn.plot.ly/plotly-latest.min.js\"></script>    \n",
              "            <div id=\"cd2ee086-661c-4406-ba58-37a93e9b1560\" class=\"plotly-graph-div\" style=\"height:525px; width:100%;\"></div>\n",
              "            <script type=\"text/javascript\">\n",
              "                \n",
              "                    window.PLOTLYENV=window.PLOTLYENV || {};\n",
              "                    \n",
              "                if (document.getElementById(\"cd2ee086-661c-4406-ba58-37a93e9b1560\")) {\n",
              "                    Plotly.newPlot(\n",
              "                        'cd2ee086-661c-4406-ba58-37a93e9b1560',\n",
              "                        [{\"alignmentgroup\": \"True\", \"hoverlabel\": {\"namelength\": 0}, \"hovertemplate\": \"Category=%{x}<br>Size=%{y}<br>in percentage=%{text}\", \"legendgroup\": \"\", \"marker\": {\"color\": \"#636efa\"}, \"name\": \"\", \"offsetgroup\": \"\", \"orientation\": \"v\", \"showlegend\": false, \"text\": [\"23.76%\", \"21.57%\", \"3.89%\", \"3.87%\", \"3.54%\", \"3.38%\", \"2.94%\", \"2.92%\", \"2.69%\", \"2.68%\", \"2.58%\", \"2.50%\", \"2.47%\", \"2.30%\", \"1.92%\", \"1.91%\", \"1.78%\", \"1.65%\", \"1.39%\", \"1.36%\", \"1.30%\", \"1.24%\", \"1.16%\", \"1.01%\", \"0.71%\", \"0.61%\", \"0.57%\", \"0.51%\", \"0.40%\", \"0.37%\", \"0.37%\", \"0.34%\", \"0.31%\"], \"textposition\": \"auto\", \"type\": \"bar\", \"x\": [\"FAMILY\", \"GAME\", \"SPORTS\", \"MEDICAL\", \"HEALTH_AND_FITNESS\", \"TOOLS\", \"FINANCE\", \"BUSINESS\", \"PHOTOGRAPHY\", \"TRAVEL_AND_LOCAL\", \"PRODUCTIVITY\", \"SOCIAL\", \"LIFESTYLE\", \"COMMUNICATION\", \"SHOPPING\", \"PERSONALIZATION\", \"NEWS_AND_MAGAZINES\", \"DATING\", \"EDUCATION\", \"ENTERTAINMENT\", \"BOOKS_AND_REFERENCE\", \"VIDEO_PLAYERS\", \"FOOD_AND_DRINK\", \"MAPS_AND_NAVIGATION\", \"AUTO_AND_VEHICLES\", \"HOUSE_AND_HOME\", \"PARENTING\", \"WEATHER\", \"LIBRARIES_AND_DEMO\", \"COMICS\", \"EVENTS\", \"ART_AND_DESIGN\", \"BEAUTY\"], \"xaxis\": \"x\", \"y\": [56412.48030952381, 51229.090500000006, 9244.34766666667, 9196.752999999999, 8406.953999999998, 8036.636166666669, 6973.790547619041, 6928.296666666664, 6395.816190476188, 6372.791571428569, 6135.273166666664, 5933.902166666667, 5866.060166666665, 5456.882500000001, 4562.930047619047, 4529.655333333335, 4229.870666666668, 3918.5430000000015, 3301.845000000001, 3219.25, 3075.7780000000007, 2947.9941666666673, 2747.2166666666662, 2408.897500000001, 1679.736, 1447.106, 1350.033333333333, 1206.668666666667, 939.5335, 889.8030000000001, 874.3929999999999, 805.9000000000002, 742.1000000000003], \"yaxis\": \"y\"}],\n",
              "                        {\"barmode\": \"relative\", \"legend\": {\"tracegroupgap\": 0}, \"template\": {\"data\": {\"bar\": [{\"error_x\": {\"color\": \"#2a3f5f\"}, \"error_y\": {\"color\": \"#2a3f5f\"}, \"marker\": {\"line\": {\"color\": \"#E5ECF6\", \"width\": 0.5}}, \"type\": \"bar\"}], \"barpolar\": [{\"marker\": {\"line\": {\"color\": \"#E5ECF6\", \"width\": 0.5}}, \"type\": \"barpolar\"}], \"carpet\": [{\"aaxis\": {\"endlinecolor\": \"#2a3f5f\", \"gridcolor\": \"white\", \"linecolor\": \"white\", \"minorgridcolor\": \"white\", \"startlinecolor\": \"#2a3f5f\"}, \"baxis\": {\"endlinecolor\": \"#2a3f5f\", \"gridcolor\": \"white\", \"linecolor\": \"white\", \"minorgridcolor\": \"white\", \"startlinecolor\": \"#2a3f5f\"}, \"type\": \"carpet\"}], \"choropleth\": [{\"colorbar\": {\"outlinewidth\": 0, \"ticks\": \"\"}, \"type\": \"choropleth\"}], \"contour\": [{\"colorbar\": {\"outlinewidth\": 0, \"ticks\": \"\"}, \"colorscale\": [[0.0, \"#0d0887\"], [0.1111111111111111, \"#46039f\"], [0.2222222222222222, \"#7201a8\"], [0.3333333333333333, \"#9c179e\"], [0.4444444444444444, \"#bd3786\"], [0.5555555555555556, \"#d8576b\"], [0.6666666666666666, \"#ed7953\"], [0.7777777777777778, \"#fb9f3a\"], [0.8888888888888888, \"#fdca26\"], [1.0, \"#f0f921\"]], \"type\": \"contour\"}], \"contourcarpet\": [{\"colorbar\": {\"outlinewidth\": 0, \"ticks\": \"\"}, \"type\": \"contourcarpet\"}], \"heatmap\": [{\"colorbar\": {\"outlinewidth\": 0, \"ticks\": \"\"}, \"colorscale\": [[0.0, \"#0d0887\"], [0.1111111111111111, \"#46039f\"], [0.2222222222222222, \"#7201a8\"], [0.3333333333333333, \"#9c179e\"], [0.4444444444444444, \"#bd3786\"], [0.5555555555555556, \"#d8576b\"], [0.6666666666666666, \"#ed7953\"], [0.7777777777777778, \"#fb9f3a\"], [0.8888888888888888, \"#fdca26\"], [1.0, \"#f0f921\"]], \"type\": \"heatmap\"}], \"heatmapgl\": [{\"colorbar\": {\"outlinewidth\": 0, \"ticks\": \"\"}, \"colorscale\": [[0.0, \"#0d0887\"], [0.1111111111111111, \"#46039f\"], [0.2222222222222222, \"#7201a8\"], [0.3333333333333333, \"#9c179e\"], [0.4444444444444444, \"#bd3786\"], [0.5555555555555556, \"#d8576b\"], [0.6666666666666666, \"#ed7953\"], [0.7777777777777778, \"#fb9f3a\"], [0.8888888888888888, \"#fdca26\"], [1.0, \"#f0f921\"]], \"type\": \"heatmapgl\"}], \"histogram\": [{\"marker\": {\"colorbar\": {\"outlinewidth\": 0, \"ticks\": \"\"}}, \"type\": \"histogram\"}], \"histogram2d\": [{\"colorbar\": {\"outlinewidth\": 0, \"ticks\": \"\"}, \"colorscale\": [[0.0, \"#0d0887\"], [0.1111111111111111, \"#46039f\"], [0.2222222222222222, \"#7201a8\"], [0.3333333333333333, \"#9c179e\"], [0.4444444444444444, \"#bd3786\"], [0.5555555555555556, \"#d8576b\"], [0.6666666666666666, \"#ed7953\"], [0.7777777777777778, \"#fb9f3a\"], [0.8888888888888888, \"#fdca26\"], [1.0, \"#f0f921\"]], \"type\": \"histogram2d\"}], \"histogram2dcontour\": [{\"colorbar\": {\"outlinewidth\": 0, \"ticks\": \"\"}, \"colorscale\": [[0.0, \"#0d0887\"], [0.1111111111111111, \"#46039f\"], [0.2222222222222222, \"#7201a8\"], [0.3333333333333333, \"#9c179e\"], [0.4444444444444444, \"#bd3786\"], [0.5555555555555556, \"#d8576b\"], [0.6666666666666666, \"#ed7953\"], [0.7777777777777778, \"#fb9f3a\"], [0.8888888888888888, \"#fdca26\"], [1.0, \"#f0f921\"]], \"type\": \"histogram2dcontour\"}], \"mesh3d\": [{\"colorbar\": {\"outlinewidth\": 0, \"ticks\": \"\"}, \"type\": \"mesh3d\"}], \"parcoords\": [{\"line\": {\"colorbar\": {\"outlinewidth\": 0, \"ticks\": \"\"}}, \"type\": \"parcoords\"}], \"pie\": [{\"automargin\": true, \"type\": \"pie\"}], \"scatter\": [{\"marker\": {\"colorbar\": {\"outlinewidth\": 0, \"ticks\": \"\"}}, \"type\": \"scatter\"}], \"scatter3d\": [{\"line\": {\"colorbar\": {\"outlinewidth\": 0, \"ticks\": \"\"}}, \"marker\": {\"colorbar\": {\"outlinewidth\": 0, \"ticks\": \"\"}}, \"type\": \"scatter3d\"}], \"scattercarpet\": [{\"marker\": {\"colorbar\": {\"outlinewidth\": 0, \"ticks\": \"\"}}, \"type\": \"scattercarpet\"}], \"scattergeo\": [{\"marker\": {\"colorbar\": {\"outlinewidth\": 0, \"ticks\": \"\"}}, \"type\": \"scattergeo\"}], \"scattergl\": [{\"marker\": {\"colorbar\": {\"outlinewidth\": 0, \"ticks\": \"\"}}, \"type\": \"scattergl\"}], \"scattermapbox\": [{\"marker\": {\"colorbar\": {\"outlinewidth\": 0, \"ticks\": \"\"}}, \"type\": \"scattermapbox\"}], \"scatterpolar\": [{\"marker\": {\"colorbar\": {\"outlinewidth\": 0, \"ticks\": \"\"}}, \"type\": \"scatterpolar\"}], \"scatterpolargl\": [{\"marker\": {\"colorbar\": {\"outlinewidth\": 0, \"ticks\": \"\"}}, \"type\": \"scatterpolargl\"}], \"scatterternary\": [{\"marker\": {\"colorbar\": {\"outlinewidth\": 0, \"ticks\": \"\"}}, \"type\": \"scatterternary\"}], \"surface\": [{\"colorbar\": {\"outlinewidth\": 0, \"ticks\": \"\"}, \"colorscale\": [[0.0, \"#0d0887\"], [0.1111111111111111, \"#46039f\"], [0.2222222222222222, \"#7201a8\"], [0.3333333333333333, \"#9c179e\"], [0.4444444444444444, \"#bd3786\"], [0.5555555555555556, \"#d8576b\"], [0.6666666666666666, \"#ed7953\"], [0.7777777777777778, \"#fb9f3a\"], [0.8888888888888888, \"#fdca26\"], [1.0, \"#f0f921\"]], \"type\": \"surface\"}], \"table\": [{\"cells\": {\"fill\": {\"color\": \"#EBF0F8\"}, \"line\": {\"color\": \"white\"}}, \"header\": {\"fill\": {\"color\": \"#C8D4E3\"}, \"line\": {\"color\": \"white\"}}, \"type\": \"table\"}]}, \"layout\": {\"annotationdefaults\": {\"arrowcolor\": \"#2a3f5f\", \"arrowhead\": 0, \"arrowwidth\": 1}, \"coloraxis\": {\"colorbar\": {\"outlinewidth\": 0, \"ticks\": \"\"}}, \"colorscale\": {\"diverging\": [[0, \"#8e0152\"], [0.1, \"#c51b7d\"], [0.2, \"#de77ae\"], [0.3, \"#f1b6da\"], [0.4, \"#fde0ef\"], [0.5, \"#f7f7f7\"], [0.6, \"#e6f5d0\"], [0.7, \"#b8e186\"], [0.8, \"#7fbc41\"], [0.9, \"#4d9221\"], [1, \"#276419\"]], \"sequential\": [[0.0, \"#0d0887\"], [0.1111111111111111, \"#46039f\"], [0.2222222222222222, \"#7201a8\"], [0.3333333333333333, \"#9c179e\"], [0.4444444444444444, \"#bd3786\"], [0.5555555555555556, \"#d8576b\"], [0.6666666666666666, \"#ed7953\"], [0.7777777777777778, \"#fb9f3a\"], [0.8888888888888888, \"#fdca26\"], [1.0, \"#f0f921\"]], \"sequentialminus\": [[0.0, \"#0d0887\"], [0.1111111111111111, \"#46039f\"], [0.2222222222222222, \"#7201a8\"], [0.3333333333333333, \"#9c179e\"], [0.4444444444444444, \"#bd3786\"], [0.5555555555555556, \"#d8576b\"], [0.6666666666666666, \"#ed7953\"], [0.7777777777777778, \"#fb9f3a\"], [0.8888888888888888, \"#fdca26\"], [1.0, \"#f0f921\"]]}, \"colorway\": [\"#636efa\", \"#EF553B\", \"#00cc96\", \"#ab63fa\", \"#FFA15A\", \"#19d3f3\", \"#FF6692\", \"#B6E880\", \"#FF97FF\", \"#FECB52\"], \"font\": {\"color\": \"#2a3f5f\"}, \"geo\": {\"bgcolor\": \"white\", \"lakecolor\": \"white\", \"landcolor\": \"#E5ECF6\", \"showlakes\": true, \"showland\": true, \"subunitcolor\": \"white\"}, \"hoverlabel\": {\"align\": \"left\"}, \"hovermode\": \"closest\", \"mapbox\": {\"style\": \"light\"}, \"paper_bgcolor\": \"white\", \"plot_bgcolor\": \"#E5ECF6\", \"polar\": {\"angularaxis\": {\"gridcolor\": \"white\", \"linecolor\": \"white\", \"ticks\": \"\"}, \"bgcolor\": \"#E5ECF6\", \"radialaxis\": {\"gridcolor\": \"white\", \"linecolor\": \"white\", \"ticks\": \"\"}}, \"scene\": {\"xaxis\": {\"backgroundcolor\": \"#E5ECF6\", \"gridcolor\": \"white\", \"gridwidth\": 2, \"linecolor\": \"white\", \"showbackground\": true, \"ticks\": \"\", \"zerolinecolor\": \"white\"}, \"yaxis\": {\"backgroundcolor\": \"#E5ECF6\", \"gridcolor\": \"white\", \"gridwidth\": 2, \"linecolor\": \"white\", \"showbackground\": true, \"ticks\": \"\", \"zerolinecolor\": \"white\"}, \"zaxis\": {\"backgroundcolor\": \"#E5ECF6\", \"gridcolor\": \"white\", \"gridwidth\": 2, \"linecolor\": \"white\", \"showbackground\": true, \"ticks\": \"\", \"zerolinecolor\": \"white\"}}, \"shapedefaults\": {\"line\": {\"color\": \"#2a3f5f\"}}, \"ternary\": {\"aaxis\": {\"gridcolor\": \"white\", \"linecolor\": \"white\", \"ticks\": \"\"}, \"baxis\": {\"gridcolor\": \"white\", \"linecolor\": \"white\", \"ticks\": \"\"}, \"bgcolor\": \"#E5ECF6\", \"caxis\": {\"gridcolor\": \"white\", \"linecolor\": \"white\", \"ticks\": \"\"}}, \"title\": {\"x\": 0.05}, \"xaxis\": {\"automargin\": true, \"gridcolor\": \"white\", \"linecolor\": \"white\", \"ticks\": \"\", \"title\": {\"standoff\": 15}, \"zerolinecolor\": \"white\", \"zerolinewidth\": 2}, \"yaxis\": {\"automargin\": true, \"gridcolor\": \"white\", \"linecolor\": \"white\", \"ticks\": \"\", \"title\": {\"standoff\": 15}, \"zerolinecolor\": \"white\", \"zerolinewidth\": 2}}}, \"title\": {\"text\": \"Most Space Required Category in percentage\"}, \"xaxis\": {\"anchor\": \"y\", \"domain\": [0.0, 1.0], \"title\": {\"text\": \"Category\"}}, \"yaxis\": {\"anchor\": \"x\", \"domain\": [0.0, 1.0], \"title\": {\"text\": \"Size\"}}},\n",
              "                        {\"responsive\": true}\n",
              "                    ).then(function(){\n",
              "                            \n",
              "var gd = document.getElementById('cd2ee086-661c-4406-ba58-37a93e9b1560');\n",
              "var x = new MutationObserver(function (mutations, observer) {{\n",
              "        var display = window.getComputedStyle(gd).display;\n",
              "        if (!display || display === 'none') {{\n",
              "            console.log([gd, 'removed!']);\n",
              "            Plotly.purge(gd);\n",
              "            observer.disconnect();\n",
              "        }}\n",
              "}});\n",
              "\n",
              "// Listen for the removal of the full notebook cells\n",
              "var notebookContainer = gd.closest('#notebook-container');\n",
              "if (notebookContainer) {{\n",
              "    x.observe(notebookContainer, {childList: true});\n",
              "}}\n",
              "\n",
              "// Listen for the clearing of the current output cell\n",
              "var outputEl = gd.closest('.output');\n",
              "if (outputEl) {{\n",
              "    x.observe(outputEl, {childList: true});\n",
              "}}\n",
              "\n",
              "                        })\n",
              "                };\n",
              "                \n",
              "            </script>\n",
              "        </div>\n",
              "</body>\n",
              "</html>"
            ]
          },
          "metadata": {}
        }
      ]
    },
    {
      "cell_type": "markdown",
      "metadata": {
        "id": "tG9wcoGQe8ps"
      },
      "source": [
        "# Good to tell that i can draw insight from this graph.According to this graph, the most space required category is Family(23.76%) followed by Game(21.57%)"
      ]
    },
    {
      "cell_type": "markdown",
      "metadata": {
        "id": "ClAheV78fuPh"
      },
      "source": [
        "**5.Content Rating per Category**"
      ]
    },
    {
      "cell_type": "code",
      "metadata": {
        "id": "bK6LqH9Be6BH"
      },
      "source": [
        "#lets try to calculate conent rating per category\n",
        "x2 = df['Content Rating'].value_counts().index\n",
        "y2 =df['Content Rating'].value_counts()\n",
        "\n",
        "x2sis = []\n",
        "y2sis = []\n",
        "for i in range(len(x2)):\n",
        "    x2sis.append(x2[i])\n",
        "    y2sis.append(y2[i])\n"
      ],
      "execution_count": null,
      "outputs": []
    },
    {
      "cell_type": "code",
      "metadata": {
        "colab": {
          "base_uri": "https://localhost:8080/",
          "height": 627
        },
        "id": "HHU1Bahifrga",
        "outputId": "075646ad-e9ac-4f2c-9ab7-f6c68f022524"
      },
      "source": [
        "#lets plot graph fir content rating per category\n",
        "plt.figure(figsize=(12,10))\n",
        "plt.bar(x2sis,y2sis,width=0.8,color=['#15244C','#FFFF48','#292734','#EF2920','#CD202D','#ECC5F2'], alpha=0.8)\n",
        "plt.title('Content Rating',size = 20)\n",
        "plt.ylabel('Apps(Count)')\n",
        "plt.xlabel('Content Rating')\n",
        "plt.show()"
      ],
      "execution_count": null,
      "outputs": [
        {
          "output_type": "display_data",
          "data": {
            "image/png": "[encoded data removed]",
            "text/plain": [
              "<Figure size 864x720 with 1 Axes>"
            ]
          },
          "metadata": {
            "needs_background": "light"
          }
        }
      ]
    },
    {
      "cell_type": "markdown",
      "metadata": {
        "id": "0dUzTAQ9qjpr"
      },
      "source": [
        "# From above bar plot, we are able draw insight that the application that  has content rating everyone has maximum no. of apps"
      ]
    },
    {
      "cell_type": "markdown",
      "metadata": {
        "id": "AYiZhgC0rgYN"
      },
      "source": [
        "**6. Percentage of free Vs Paid apps** "
      ]
    },
    {
      "cell_type": "code",
      "metadata": {
        "colab": {
          "base_uri": "https://localhost:8080/",
          "height": 596
        },
        "id": "0RwpuhrypDB6",
        "outputId": "aabc9d04-b5ea-4604-b3f7-201a4073bab7"
      },
      "source": [
        "plt.figure(figsize=(10,10))\n",
        "labels = df['Type'].value_counts(sort = True).index\n",
        "sizes = df['Type'].value_counts(sort = True)\n",
        "colors = [\"blue\",\"lightgreen\"]\n",
        "explode = (0.2,0)\n",
        "plt.pie(sizes,labels=labels, colors=colors, autopct='%1.1f%%', shadow=True, startangle=0)\n",
        "plt.title('Percent of Free Vs Paid Apps in store',size = 20)\n",
        "plt.show()"
      ],
      "execution_count": null,
      "outputs": [
        {
          "output_type": "display_data",
          "data": {
            "image/png": "[encoded data removed]",
            "text/plain": [
              "<Figure size 720x720 with 1 Axes>"
            ]
          },
          "metadata": {}
        }
      ]
    },
    {
      "cell_type": "markdown",
      "metadata": {
        "id": "E8ti5K9LtKFW"
      },
      "source": [
        "#From above pie plot we are able to see the percentage of apps in free and paid category.We can see that there are more application in free category than paid.There are approximately 93% apps in free category and 7% in paid category."
      ]
    },
    {
      "cell_type": "markdown",
      "metadata": {
        "id": "_6M0iGmlucJi"
      },
      "source": [
        "**7. Apps size distribution**"
      ]
    },
    {
      "cell_type": "code",
      "metadata": {
        "colab": {
          "base_uri": "https://localhost:8080/",
          "height": 295
        },
        "id": "BhmdeQNJv57D",
        "outputId": "e497c088-1e06-4fbd-fc4b-38be6f8dee7a"
      },
      "source": [
        "#lets plot graph for app size distribution\n",
        "plt.hist(df['Size'],color='b')\n",
        "plt.xlabel('Size')\n",
        "plt.ylabel(\"Number Of Installs\")\n",
        "plt.title(\"Apps Size Distribution\")\n",
        "plt.show()"
      ],
      "execution_count": null,
      "outputs": [
        {
          "output_type": "display_data",
          "data": {
            "image/png": "[encoded data removed]",
            "text/plain": [
              "<Figure size 432x288 with 1 Axes>"
            ]
          },
          "metadata": {
            "needs_background": "light"
          }
        }
      ]
    },
    {
      "cell_type": "markdown",
      "metadata": {
        "id": "Njs95taq6aQ4"
      },
      "source": [
        "#From above plot we are able to tell that the size distribution of most of the apps are between 0 to 20 MB\n"
      ]
    },
    {
      "cell_type": "markdown",
      "metadata": {
        "id": "rNGFTxBB6_bH"
      },
      "source": [
        " **8. Most reviewed Category in percent**"
      ]
    },
    {
      "cell_type": "code",
      "metadata": {
        "id": "heyiIF8R4--Q"
      },
      "source": [
        "#lets define most reviewed category variable\n",
        "most_reviewed_category=df.groupby('Category',as_index=False)['Reviews'].sum()"
      ],
      "execution_count": null,
      "outputs": []
    },
    {
      "cell_type": "code",
      "metadata": {
        "id": "zv-BvQZO7f9U"
      },
      "source": [
        "#lets calculate total reviews\n",
        "total_reviews=df['Reviews'].sum()"
      ],
      "execution_count": null,
      "outputs": []
    },
    {
      "cell_type": "code",
      "metadata": {
        "id": "_s9lJbSI7ohL"
      },
      "source": [
        "#lets define a new variable most reviewed in percent\n",
        "most_reviewed_category['in percent']=most_reviewed_category['Reviews']*100/total_reviews"
      ],
      "execution_count": null,
      "outputs": []
    },
    {
      "cell_type": "code",
      "metadata": {
        "id": "BEc6AyoB7tSG"
      },
      "source": [
        "most_reviewed_category['in percent']=most_reviewed_category['in percent'].apply(lambda x: \"{0:1.2f}%\".format(x))"
      ],
      "execution_count": null,
      "outputs": []
    },
    {
      "cell_type": "code",
      "metadata": {
        "id": "OyMPVNeQ72B7",
        "colab": {
          "base_uri": "https://localhost:8080/",
          "height": 542
        },
        "outputId": "8f279db8-3447-4508-a8f2-83f6ba708e30"
      },
      "source": [
        "most_reviewed=px.bar(data_frame= most_reviewed_category, x = most_reviewed_category.Category, y = most_reviewed_category.Reviews,title='Most Reviewed Category in Percentage',text=\"in percent\")\n",
        "most_reviewed"
      ],
      "execution_count": null,
      "outputs": [
        {
          "output_type": "display_data",
          "data": {
            "text/html": [
              "<html>\n",
              "<head><meta charset=\"utf-8\" /></head>\n",
              "<body>\n",
              "    <div>\n",
              "            <script src=\"https://cdnjs.cloudflare.com/ajax/libs/mathjax/2.7.5/MathJax.js?config=TeX-AMS-MML_SVG\"></script><script type=\"text/javascript\">if (window.MathJax) {MathJax.Hub.Config({SVG: {font: \"STIX-Web\"}});}</script>\n",
              "                <script type=\"text/javascript\">window.PlotlyConfig = {MathJaxConfig: 'local'};</script>\n",
              "        <script src=\"https://cdn.plot.ly/plotly-latest.min.js\"></script>    \n",
              "            <div id=\"ac91ed75-7db0-490c-9910-6b945cb1ba83\" class=\"plotly-graph-div\" style=\"height:525px; width:100%;\"></div>\n",
              "            <script type=\"text/javascript\">\n",
              "                \n",
              "                    window.PLOTLYENV=window.PLOTLYENV || {};\n",
              "                    \n",
              "                if (document.getElementById(\"ac91ed75-7db0-490c-9910-6b945cb1ba83\")) {\n",
              "                    Plotly.newPlot(\n",
              "                        'ac91ed75-7db0-490c-9910-6b945cb1ba83',\n",
              "                        [{\"alignmentgroup\": \"True\", \"hoverlabel\": {\"namelength\": 0}, \"hovertemplate\": \"Category=%{x}<br>Reviews=%{y}<br>in percent=%{text}\", \"legendgroup\": \"\", \"marker\": {\"color\": \"#636efa\"}, \"name\": \"\", \"offsetgroup\": \"\", \"orientation\": \"v\", \"showlegend\": false, \"text\": [\"0.04%\", \"0.02%\", \"0.01%\", \"0.46%\", \"0.29%\", \"0.07%\", \"16.94%\", \"0.15%\", \"0.82%\", \"1.23%\", \"0.00%\", \"8.52%\", \"0.36%\", \"0.18%\", \"32.93%\", \"0.79%\", \"0.08%\", \"0.02%\", \"0.27%\", \"0.64%\", \"0.03%\", \"1.13%\", \"0.02%\", \"1.86%\", \"4.43%\", \"2.37%\", \"2.39%\", \"12.90%\", \"1.47%\", \"5.67%\", \"1.30%\", \"2.29%\", \"0.30%\"], \"textposition\": \"auto\", \"type\": \"bar\", \"x\": [\"ART_AND_DESIGN\", \"AUTO_AND_VEHICLES\", \"BEAUTY\", \"BOOKS_AND_REFERENCE\", \"BUSINESS\", \"COMICS\", \"COMMUNICATION\", \"DATING\", \"EDUCATION\", \"ENTERTAINMENT\", \"EVENTS\", \"FAMILY\", \"FINANCE\", \"FOOD_AND_DRINK\", \"GAME\", \"HEALTH_AND_FITNESS\", \"HOUSE_AND_HOME\", \"LIBRARIES_AND_DEMO\", \"LIFESTYLE\", \"MAPS_AND_NAVIGATION\", \"MEDICAL\", \"NEWS_AND_MAGAZINES\", \"PARENTING\", \"PERSONALIZATION\", \"PHOTOGRAPHY\", \"PRODUCTIVITY\", \"SHOPPING\", \"SOCIAL\", \"SPORTS\", \"TOOLS\", \"TRAVEL_AND_LOCAL\", \"VIDEO_PLAYERS\", \"WEATHER\"], \"xaxis\": \"x\", \"y\": [1714440, 1163666, 396240, 21959069, 13954552, 3383276, 815462260, 7291278, 39595786, 59178154, 161018, 410226330, 17550728, 8883330, 1585422349, 37893743, 3976385, 1037118, 12882784, 30659254, 1585975, 54400863, 958331, 89346140, 213516650, 114116975, 115041222, 621241422, 70830169, 273185044, 62617919, 110380188, 14604735], \"yaxis\": \"y\"}],\n",
              "                        {\"barmode\": \"relative\", \"legend\": {\"tracegroupgap\": 0}, \"template\": {\"data\": {\"bar\": [{\"error_x\": {\"color\": \"#2a3f5f\"}, \"error_y\": {\"color\": \"#2a3f5f\"}, \"marker\": {\"line\": {\"color\": \"#E5ECF6\", \"width\": 0.5}}, \"type\": \"bar\"}], \"barpolar\": [{\"marker\": {\"line\": {\"color\": \"#E5ECF6\", \"width\": 0.5}}, \"type\": \"barpolar\"}], \"carpet\": [{\"aaxis\": {\"endlinecolor\": \"#2a3f5f\", \"gridcolor\": \"white\", \"linecolor\": \"white\", \"minorgridcolor\": \"white\", \"startlinecolor\": \"#2a3f5f\"}, \"baxis\": {\"endlinecolor\": \"#2a3f5f\", \"gridcolor\": \"white\", \"linecolor\": \"white\", \"minorgridcolor\": \"white\", \"startlinecolor\": \"#2a3f5f\"}, \"type\": \"carpet\"}], \"choropleth\": [{\"colorbar\": {\"outlinewidth\": 0, \"ticks\": \"\"}, \"type\": \"choropleth\"}], \"contour\": [{\"colorbar\": {\"outlinewidth\": 0, \"ticks\": \"\"}, \"colorscale\": [[0.0, \"#0d0887\"], [0.1111111111111111, \"#46039f\"], [0.2222222222222222, \"#7201a8\"], [0.3333333333333333, \"#9c179e\"], [0.4444444444444444, \"#bd3786\"], [0.5555555555555556, \"#d8576b\"], [0.6666666666666666, \"#ed7953\"], [0.7777777777777778, \"#fb9f3a\"], [0.8888888888888888, \"#fdca26\"], [1.0, \"#f0f921\"]], \"type\": \"contour\"}], \"contourcarpet\": [{\"colorbar\": {\"outlinewidth\": 0, \"ticks\": \"\"}, \"type\": \"contourcarpet\"}], \"heatmap\": [{\"colorbar\": {\"outlinewidth\": 0, \"ticks\": \"\"}, \"colorscale\": [[0.0, \"#0d0887\"], [0.1111111111111111, \"#46039f\"], [0.2222222222222222, \"#7201a8\"], [0.3333333333333333, \"#9c179e\"], [0.4444444444444444, \"#bd3786\"], [0.5555555555555556, \"#d8576b\"], [0.6666666666666666, \"#ed7953\"], [0.7777777777777778, \"#fb9f3a\"], [0.8888888888888888, \"#fdca26\"], [1.0, \"#f0f921\"]], \"type\": \"heatmap\"}], \"heatmapgl\": [{\"colorbar\": {\"outlinewidth\": 0, \"ticks\": \"\"}, \"colorscale\": [[0.0, \"#0d0887\"], [0.1111111111111111, \"#46039f\"], [0.2222222222222222, \"#7201a8\"], [0.3333333333333333, \"#9c179e\"], [0.4444444444444444, \"#bd3786\"], [0.5555555555555556, \"#d8576b\"], [0.6666666666666666, \"#ed7953\"], [0.7777777777777778, \"#fb9f3a\"], [0.8888888888888888, \"#fdca26\"], [1.0, \"#f0f921\"]], \"type\": \"heatmapgl\"}], \"histogram\": [{\"marker\": {\"colorbar\": {\"outlinewidth\": 0, \"ticks\": \"\"}}, \"type\": \"histogram\"}], \"histogram2d\": [{\"colorbar\": {\"outlinewidth\": 0, \"ticks\": \"\"}, \"colorscale\": [[0.0, \"#0d0887\"], [0.1111111111111111, \"#46039f\"], [0.2222222222222222, \"#7201a8\"], [0.3333333333333333, \"#9c179e\"], [0.4444444444444444, \"#bd3786\"], [0.5555555555555556, \"#d8576b\"], [0.6666666666666666, \"#ed7953\"], [0.7777777777777778, \"#fb9f3a\"], [0.8888888888888888, \"#fdca26\"], [1.0, \"#f0f921\"]], \"type\": \"histogram2d\"}], \"histogram2dcontour\": [{\"colorbar\": {\"outlinewidth\": 0, \"ticks\": \"\"}, \"colorscale\": [[0.0, \"#0d0887\"], [0.1111111111111111, \"#46039f\"], [0.2222222222222222, \"#7201a8\"], [0.3333333333333333, \"#9c179e\"], [0.4444444444444444, \"#bd3786\"], [0.5555555555555556, \"#d8576b\"], [0.6666666666666666, \"#ed7953\"], [0.7777777777777778, \"#fb9f3a\"], [0.8888888888888888, \"#fdca26\"], [1.0, \"#f0f921\"]], \"type\": \"histogram2dcontour\"}], \"mesh3d\": [{\"colorbar\": {\"outlinewidth\": 0, \"ticks\": \"\"}, \"type\": \"mesh3d\"}], \"parcoords\": [{\"line\": {\"colorbar\": {\"outlinewidth\": 0, \"ticks\": \"\"}}, \"type\": \"parcoords\"}], \"pie\": [{\"automargin\": true, \"type\": \"pie\"}], \"scatter\": [{\"marker\": {\"colorbar\": {\"outlinewidth\": 0, \"ticks\": \"\"}}, \"type\": \"scatter\"}], \"scatter3d\": [{\"line\": {\"colorbar\": {\"outlinewidth\": 0, \"ticks\": \"\"}}, \"marker\": {\"colorbar\": {\"outlinewidth\": 0, \"ticks\": \"\"}}, \"type\": \"scatter3d\"}], \"scattercarpet\": [{\"marker\": {\"colorbar\": {\"outlinewidth\": 0, \"ticks\": \"\"}}, \"type\": \"scattercarpet\"}], \"scattergeo\": [{\"marker\": {\"colorbar\": {\"outlinewidth\": 0, \"ticks\": \"\"}}, \"type\": \"scattergeo\"}], \"scattergl\": [{\"marker\": {\"colorbar\": {\"outlinewidth\": 0, \"ticks\": \"\"}}, \"type\": \"scattergl\"}], \"scattermapbox\": [{\"marker\": {\"colorbar\": {\"outlinewidth\": 0, \"ticks\": \"\"}}, \"type\": \"scattermapbox\"}], \"scatterpolar\": [{\"marker\": {\"colorbar\": {\"outlinewidth\": 0, \"ticks\": \"\"}}, \"type\": \"scatterpolar\"}], \"scatterpolargl\": [{\"marker\": {\"colorbar\": {\"outlinewidth\": 0, \"ticks\": \"\"}}, \"type\": \"scatterpolargl\"}], \"scatterternary\": [{\"marker\": {\"colorbar\": {\"outlinewidth\": 0, \"ticks\": \"\"}}, \"type\": \"scatterternary\"}], \"surface\": [{\"colorbar\": {\"outlinewidth\": 0, \"ticks\": \"\"}, \"colorscale\": [[0.0, \"#0d0887\"], [0.1111111111111111, \"#46039f\"], [0.2222222222222222, \"#7201a8\"], [0.3333333333333333, \"#9c179e\"], [0.4444444444444444, \"#bd3786\"], [0.5555555555555556, \"#d8576b\"], [0.6666666666666666, \"#ed7953\"], [0.7777777777777778, \"#fb9f3a\"], [0.8888888888888888, \"#fdca26\"], [1.0, \"#f0f921\"]], \"type\": \"surface\"}], \"table\": [{\"cells\": {\"fill\": {\"color\": \"#EBF0F8\"}, \"line\": {\"color\": \"white\"}}, \"header\": {\"fill\": {\"color\": \"#C8D4E3\"}, \"line\": {\"color\": \"white\"}}, \"type\": \"table\"}]}, \"layout\": {\"annotationdefaults\": {\"arrowcolor\": \"#2a3f5f\", \"arrowhead\": 0, \"arrowwidth\": 1}, \"coloraxis\": {\"colorbar\": {\"outlinewidth\": 0, \"ticks\": \"\"}}, \"colorscale\": {\"diverging\": [[0, \"#8e0152\"], [0.1, \"#c51b7d\"], [0.2, \"#de77ae\"], [0.3, \"#f1b6da\"], [0.4, \"#fde0ef\"], [0.5, \"#f7f7f7\"], [0.6, \"#e6f5d0\"], [0.7, \"#b8e186\"], [0.8, \"#7fbc41\"], [0.9, \"#4d9221\"], [1, \"#276419\"]], \"sequential\": [[0.0, \"#0d0887\"], [0.1111111111111111, \"#46039f\"], [0.2222222222222222, \"#7201a8\"], [0.3333333333333333, \"#9c179e\"], [0.4444444444444444, \"#bd3786\"], [0.5555555555555556, \"#d8576b\"], [0.6666666666666666, \"#ed7953\"], [0.7777777777777778, \"#fb9f3a\"], [0.8888888888888888, \"#fdca26\"], [1.0, \"#f0f921\"]], \"sequentialminus\": [[0.0, \"#0d0887\"], [0.1111111111111111, \"#46039f\"], [0.2222222222222222, \"#7201a8\"], [0.3333333333333333, \"#9c179e\"], [0.4444444444444444, \"#bd3786\"], [0.5555555555555556, \"#d8576b\"], [0.6666666666666666, \"#ed7953\"], [0.7777777777777778, \"#fb9f3a\"], [0.8888888888888888, \"#fdca26\"], [1.0, \"#f0f921\"]]}, \"colorway\": [\"#636efa\", \"#EF553B\", \"#00cc96\", \"#ab63fa\", \"#FFA15A\", \"#19d3f3\", \"#FF6692\", \"#B6E880\", \"#FF97FF\", \"#FECB52\"], \"font\": {\"color\": \"#2a3f5f\"}, \"geo\": {\"bgcolor\": \"white\", \"lakecolor\": \"white\", \"landcolor\": \"#E5ECF6\", \"showlakes\": true, \"showland\": true, \"subunitcolor\": \"white\"}, \"hoverlabel\": {\"align\": \"left\"}, \"hovermode\": \"closest\", \"mapbox\": {\"style\": \"light\"}, \"paper_bgcolor\": \"white\", \"plot_bgcolor\": \"#E5ECF6\", \"polar\": {\"angularaxis\": {\"gridcolor\": \"white\", \"linecolor\": \"white\", \"ticks\": \"\"}, \"bgcolor\": \"#E5ECF6\", \"radialaxis\": {\"gridcolor\": \"white\", \"linecolor\": \"white\", \"ticks\": \"\"}}, \"scene\": {\"xaxis\": {\"backgroundcolor\": \"#E5ECF6\", \"gridcolor\": \"white\", \"gridwidth\": 2, \"linecolor\": \"white\", \"showbackground\": true, \"ticks\": \"\", \"zerolinecolor\": \"white\"}, \"yaxis\": {\"backgroundcolor\": \"#E5ECF6\", \"gridcolor\": \"white\", \"gridwidth\": 2, \"linecolor\": \"white\", \"showbackground\": true, \"ticks\": \"\", \"zerolinecolor\": \"white\"}, \"zaxis\": {\"backgroundcolor\": \"#E5ECF6\", \"gridcolor\": \"white\", \"gridwidth\": 2, \"linecolor\": \"white\", \"showbackground\": true, \"ticks\": \"\", \"zerolinecolor\": \"white\"}}, \"shapedefaults\": {\"line\": {\"color\": \"#2a3f5f\"}}, \"ternary\": {\"aaxis\": {\"gridcolor\": \"white\", \"linecolor\": \"white\", \"ticks\": \"\"}, \"baxis\": {\"gridcolor\": \"white\", \"linecolor\": \"white\", \"ticks\": \"\"}, \"bgcolor\": \"#E5ECF6\", \"caxis\": {\"gridcolor\": \"white\", \"linecolor\": \"white\", \"ticks\": \"\"}}, \"title\": {\"x\": 0.05}, \"xaxis\": {\"automargin\": true, \"gridcolor\": \"white\", \"linecolor\": \"white\", \"ticks\": \"\", \"title\": {\"standoff\": 15}, \"zerolinecolor\": \"white\", \"zerolinewidth\": 2}, \"yaxis\": {\"automargin\": true, \"gridcolor\": \"white\", \"linecolor\": \"white\", \"ticks\": \"\", \"title\": {\"standoff\": 15}, \"zerolinecolor\": \"white\", \"zerolinewidth\": 2}}}, \"title\": {\"text\": \"Most Reviewed Category in Percentage\"}, \"xaxis\": {\"anchor\": \"y\", \"domain\": [0.0, 1.0], \"title\": {\"text\": \"Category\"}}, \"yaxis\": {\"anchor\": \"x\", \"domain\": [0.0, 1.0], \"title\": {\"text\": \"Reviews\"}}},\n",
              "                        {\"responsive\": true}\n",
              "                    ).then(function(){\n",
              "                            \n",
              "var gd = document.getElementById('ac91ed75-7db0-490c-9910-6b945cb1ba83');\n",
              "var x = new MutationObserver(function (mutations, observer) {{\n",
              "        var display = window.getComputedStyle(gd).display;\n",
              "        if (!display || display === 'none') {{\n",
              "            console.log([gd, 'removed!']);\n",
              "            Plotly.purge(gd);\n",
              "            observer.disconnect();\n",
              "        }}\n",
              "}});\n",
              "\n",
              "// Listen for the removal of the full notebook cells\n",
              "var notebookContainer = gd.closest('#notebook-container');\n",
              "if (notebookContainer) {{\n",
              "    x.observe(notebookContainer, {childList: true});\n",
              "}}\n",
              "\n",
              "// Listen for the clearing of the current output cell\n",
              "var outputEl = gd.closest('.output');\n",
              "if (outputEl) {{\n",
              "    x.observe(outputEl, {childList: true});\n",
              "}}\n",
              "\n",
              "                        })\n",
              "                };\n",
              "                \n",
              "            </script>\n",
              "        </div>\n",
              "</body>\n",
              "</html>"
            ]
          },
          "metadata": {}
        }
      ]
    },
    {
      "cell_type": "markdown",
      "metadata": {
        "id": "cyj1xmh8B38v"
      },
      "source": [
        "# from above graph we can see that game category is most reviewed category followed by communication"
      ]
    },
    {
      "cell_type": "markdown",
      "metadata": {
        "id": "NwD8W1WgCWg3"
      },
      "source": [
        "**9. Most installed Category**"
      ]
    },
    {
      "cell_type": "code",
      "metadata": {
        "id": "2DxpxlSN8Ecv"
      },
      "source": [
        "#lets define a highest installs variable\n",
        "highest_Installs_df = df.groupby('Category')[['Installs']].sum().sort_values(by='Installs', ascending=False)"
      ],
      "execution_count": null,
      "outputs": []
    },
    {
      "cell_type": "code",
      "metadata": {
        "id": "vBqYf_zzCPMA",
        "colab": {
          "base_uri": "https://localhost:8080/",
          "height": 811
        },
        "outputId": "6175e197-33ca-4af9-d4a7-4373fe42e5da"
      },
      "source": [
        "#lets define a function to calculate most installed category\n",
        "x2sis = []\n",
        "y2sis = []\n",
        "\n",
        "for i in range(len(highest_Installs_df)):\n",
        "    x2sis.append(highest_Installs_df.Installs[i])\n",
        "    y2sis.append(highest_Installs_df.index[i])\n",
        "\n",
        "plt.figure(figsize=(18,13))\n",
        "\n",
        "plt.xlabel(\"Installs\")\n",
        "plt.ylabel(\"Category\")\n",
        "graph = sns.barplot(x = x2sis, y = y2sis, alpha =0.9, palette= 'viridis')\n",
        "graph.set_title(\"Installs\", fontsize = 25)"
      ],
      "execution_count": null,
      "outputs": [
        {
          "output_type": "execute_result",
          "data": {
            "text/plain": [
              "Text(0.5, 1.0, 'Installs')"
            ]
          },
          "metadata": {},
          "execution_count": 119
        },
        {
          "output_type": "display_data",
          "data": {
            "image/png": "[encoded data removed]",
            "text/plain": [
              "<Figure size 1296x936 with 1 Axes>"
            ]
          },
          "metadata": {
            "needs_background": "light"
          }
        }
      ]
    },
    {
      "cell_type": "markdown",
      "metadata": {
        "id": "nvjh1f8N-XF-"
      },
      "source": [
        "# From above plot, we can see that Game,Communication and productivity are the top three category with highest installs."
      ]
    },
    {
      "cell_type": "markdown",
      "metadata": {
        "id": "aMLZN14b_oVy"
      },
      "source": [
        "**10. Heatmap**"
      ]
    },
    {
      "cell_type": "markdown",
      "metadata": {
        "id": "uhNny8LFCyxA"
      },
      "source": [
        "A heatmap is a two-dimensional graphical representation of data where the individual values that are contained in a matrix are represented as colors. The seaborn python package allows the creation of annotated heatmaps which can be tweaked using Matplotlib tools as per the creator’s requirement."
      ]
    },
    {
      "cell_type": "code",
      "metadata": {
        "colab": {
          "base_uri": "https://localhost:8080/",
          "height": 269
        },
        "id": "a2Iu2q6J77-8",
        "outputId": "a149da7c-1884-4c00-a17c-df1ded5d4c38"
      },
      "source": [
        "#lets see corelation using heatmap\n",
        "sns.heatmap(df.corr(),annot=True,cmap='PuBu_r',center=True,cbar=True)\n",
        "plt.show()"
      ],
      "execution_count": null,
      "outputs": [
        {
          "output_type": "display_data",
          "data": {
            "image/png": "[encoded data removed]",
            "text/plain": [
              "<Figure size 432x288 with 2 Axes>"
            ]
          },
          "metadata": {
            "needs_background": "light"
          }
        }
      ]
    },
    {
      "cell_type": "markdown",
      "metadata": {
        "id": "8V1YROpeC-oj"
      },
      "source": [
        "# From above heatmap, we can see relation between different features.we can see that reviews and installs are highly related."
      ]
    },
    {
      "cell_type": "markdown",
      "metadata": {
        "id": "_vQwl6drDuAq"
      },
      "source": [
        "**11. Number of installation According to Category type in percent**"
      ]
    },
    {
      "cell_type": "code",
      "metadata": {
        "id": "e5BXBoynC9MX"
      },
      "source": [
        "#lets define a variable for category type\n",
        "Category_type=df.groupby(['Category','Type'],as_index=False)['Installs'].sum()"
      ],
      "execution_count": null,
      "outputs": []
    },
    {
      "cell_type": "markdown",
      "metadata": {
        "id": "9riJLtznFXdx"
      },
      "source": [
        "Since there are two Category----one is free and other is paid and we want to know which category type is used most by people.lets see they look"
      ]
    },
    {
      "cell_type": "code",
      "metadata": {
        "colab": {
          "base_uri": "https://localhost:8080/",
          "height": 203
        },
        "id": "qvMMih-oFQHd",
        "outputId": "c503ff07-bbfb-482b-a7f3-8cca0f7c1970"
      },
      "source": [
        "#lets see category type difference between free and paid\n",
        "Category_type.head()"
      ],
      "execution_count": null,
      "outputs": [
        {
          "output_type": "execute_result",
          "data": {
            "text/html": [
              "<div>\n",
              "<style scoped>\n",
              "    .dataframe tbody tr th:only-of-type {\n",
              "        vertical-align: middle;\n",
              "    }\n",
              "\n",
              "    .dataframe tbody tr th {\n",
              "        vertical-align: top;\n",
              "    }\n",
              "\n",
              "    .dataframe thead th {\n",
              "        text-align: right;\n",
              "    }\n",
              "</style>\n",
              "<table border=\"1\" class=\"dataframe\">\n",
              "  <thead>\n",
              "    <tr style=\"text-align: right;\">\n",
              "      <th></th>\n",
              "      <th>Category</th>\n",
              "      <th>Type</th>\n",
              "      <th>Installs</th>\n",
              "    </tr>\n",
              "  </thead>\n",
              "  <tbody>\n",
              "    <tr>\n",
              "      <th>0</th>\n",
              "      <td>ART_AND_DESIGN</td>\n",
              "      <td>Free</td>\n",
              "      <td>124322100</td>\n",
              "    </tr>\n",
              "    <tr>\n",
              "      <th>1</th>\n",
              "      <td>ART_AND_DESIGN</td>\n",
              "      <td>Paid</td>\n",
              "      <td>16000</td>\n",
              "    </tr>\n",
              "    <tr>\n",
              "      <th>2</th>\n",
              "      <td>AUTO_AND_VEHICLES</td>\n",
              "      <td>Free</td>\n",
              "      <td>53080061</td>\n",
              "    </tr>\n",
              "    <tr>\n",
              "      <th>3</th>\n",
              "      <td>AUTO_AND_VEHICLES</td>\n",
              "      <td>Paid</td>\n",
              "      <td>50150</td>\n",
              "    </tr>\n",
              "    <tr>\n",
              "      <th>4</th>\n",
              "      <td>BEAUTY</td>\n",
              "      <td>Free</td>\n",
              "      <td>27197050</td>\n",
              "    </tr>\n",
              "  </tbody>\n",
              "</table>\n",
              "</div>"
            ],
            "text/plain": [
              "            Category  Type   Installs\n",
              "0     ART_AND_DESIGN  Free  124322100\n",
              "1     ART_AND_DESIGN  Paid      16000\n",
              "2  AUTO_AND_VEHICLES  Free   53080061\n",
              "3  AUTO_AND_VEHICLES  Paid      50150\n",
              "4             BEAUTY  Free   27197050"
            ]
          },
          "metadata": {},
          "execution_count": 122
        }
      ]
    },
    {
      "cell_type": "markdown",
      "metadata": {
        "id": "sjcTrL8iGHgd"
      },
      "source": [
        "From above information, we can see there is a very good amount of difference between free and paid category type.So if we will try to plot this data then there might we chances that the paid category type data do not show properly.Therefore lets use np.log2 so that we can visualize it properly."
      ]
    },
    {
      "cell_type": "code",
      "metadata": {
        "id": "9EjWVObmF87e"
      },
      "source": [
        "#lets convert installs data into log2\n",
        "Category_type['log2 installs']=np.log2(Category_type['Installs'])"
      ],
      "execution_count": null,
      "outputs": []
    },
    {
      "cell_type": "code",
      "metadata": {
        "colab": {
          "base_uri": "https://localhost:8080/",
          "height": 203
        },
        "id": "Um2x_RluHT81",
        "outputId": "a7f0bcd3-e04e-4459-8f22-d7da0d5f6a2d"
      },
      "source": [
        "#now lets see how it looks\n",
        "Category_type.head()"
      ],
      "execution_count": null,
      "outputs": [
        {
          "output_type": "execute_result",
          "data": {
            "text/html": [
              "<div>\n",
              "<style scoped>\n",
              "    .dataframe tbody tr th:only-of-type {\n",
              "        vertical-align: middle;\n",
              "    }\n",
              "\n",
              "    .dataframe tbody tr th {\n",
              "        vertical-align: top;\n",
              "    }\n",
              "\n",
              "    .dataframe thead th {\n",
              "        text-align: right;\n",
              "    }\n",
              "</style>\n",
              "<table border=\"1\" class=\"dataframe\">\n",
              "  <thead>\n",
              "    <tr style=\"text-align: right;\">\n",
              "      <th></th>\n",
              "      <th>Category</th>\n",
              "      <th>Type</th>\n",
              "      <th>Installs</th>\n",
              "      <th>log2 installs</th>\n",
              "    </tr>\n",
              "  </thead>\n",
              "  <tbody>\n",
              "    <tr>\n",
              "      <th>0</th>\n",
              "      <td>ART_AND_DESIGN</td>\n",
              "      <td>Free</td>\n",
              "      <td>124322100</td>\n",
              "      <td>26.889508</td>\n",
              "    </tr>\n",
              "    <tr>\n",
              "      <th>1</th>\n",
              "      <td>ART_AND_DESIGN</td>\n",
              "      <td>Paid</td>\n",
              "      <td>16000</td>\n",
              "      <td>13.965784</td>\n",
              "    </tr>\n",
              "    <tr>\n",
              "      <th>2</th>\n",
              "      <td>AUTO_AND_VEHICLES</td>\n",
              "      <td>Free</td>\n",
              "      <td>53080061</td>\n",
              "      <td>25.661667</td>\n",
              "    </tr>\n",
              "    <tr>\n",
              "      <th>3</th>\n",
              "      <td>AUTO_AND_VEHICLES</td>\n",
              "      <td>Paid</td>\n",
              "      <td>50150</td>\n",
              "      <td>15.613962</td>\n",
              "    </tr>\n",
              "    <tr>\n",
              "      <th>4</th>\n",
              "      <td>BEAUTY</td>\n",
              "      <td>Free</td>\n",
              "      <td>27197050</td>\n",
              "      <td>24.696947</td>\n",
              "    </tr>\n",
              "  </tbody>\n",
              "</table>\n",
              "</div>"
            ],
            "text/plain": [
              "            Category  Type   Installs  log2 installs\n",
              "0     ART_AND_DESIGN  Free  124322100      26.889508\n",
              "1     ART_AND_DESIGN  Paid      16000      13.965784\n",
              "2  AUTO_AND_VEHICLES  Free   53080061      25.661667\n",
              "3  AUTO_AND_VEHICLES  Paid      50150      15.613962\n",
              "4             BEAUTY  Free   27197050      24.696947"
            ]
          },
          "metadata": {},
          "execution_count": 124
        }
      ]
    },
    {
      "cell_type": "code",
      "metadata": {
        "id": "Dnunb9HHHp5e"
      },
      "source": [
        "#lets apply lambda function to convert data into proper format\n",
        "Category_type['log2 installs']=Category_type['log2 installs'].apply(lambda x: \"{0:1.1f}\".format(x))"
      ],
      "execution_count": null,
      "outputs": []
    },
    {
      "cell_type": "code",
      "metadata": {
        "colab": {
          "base_uri": "https://localhost:8080/",
          "height": 542
        },
        "id": "kBigDCqaILHY",
        "outputId": "8e367d7f-4927-4a7f-8afe-00d1e6e750de"
      },
      "source": [
        "#lets visualize it\n",
        "px.bar(data_frame=Category_type,x=\"Category\",y='log2 installs',text='log2 installs',color='Type',title=\"Bar Plot Representing Category Type Effect on installation Numbers\")\n",
        "\n"
      ],
      "execution_count": null,
      "outputs": [
        {
          "output_type": "display_data",
          "data": {
            "text/html": [
              "<html>\n",
              "<head><meta charset=\"utf-8\" /></head>\n",
              "<body>\n",
              "    <div>\n",
              "            <script src=\"https://cdnjs.cloudflare.com/ajax/libs/mathjax/2.7.5/MathJax.js?config=TeX-AMS-MML_SVG\"></script><script type=\"text/javascript\">if (window.MathJax) {MathJax.Hub.Config({SVG: {font: \"STIX-Web\"}});}</script>\n",
              "                <script type=\"text/javascript\">window.PlotlyConfig = {MathJaxConfig: 'local'};</script>\n",
              "        <script src=\"https://cdn.plot.ly/plotly-latest.min.js\"></script>    \n",
              "            <div id=\"43c6adce-9d4f-4d7c-8477-e0e7e06ef5b6\" class=\"plotly-graph-div\" style=\"height:525px; width:100%;\"></div>\n",
              "            <script type=\"text/javascript\">\n",
              "                \n",
              "                    window.PLOTLYENV=window.PLOTLYENV || {};\n",
              "                    \n",
              "                if (document.getElementById(\"43c6adce-9d4f-4d7c-8477-e0e7e06ef5b6\")) {\n",
              "                    Plotly.newPlot(\n",
              "                        '43c6adce-9d4f-4d7c-8477-e0e7e06ef5b6',\n",
              "                        [{\"alignmentgroup\": \"True\", \"hoverlabel\": {\"namelength\": 0}, \"hovertemplate\": \"Type=Free<br>Category=%{x}<br>log2 installs=%{text}\", \"legendgroup\": \"Type=Free\", \"marker\": {\"color\": \"#636efa\"}, \"name\": \"Type=Free\", \"offsetgroup\": \"Type=Free\", \"orientation\": \"v\", \"showlegend\": true, \"text\": [\"26.9\", \"25.7\", \"24.7\", \"30.8\", \"29.9\", \"25.7\", \"34.9\", \"28.0\", \"29.7\", \"31.4\", \"23.9\", \"33.3\", \"29.7\", \"28.0\", \"35.0\", \"30.6\", \"27.3\", \"25.9\", \"29.0\", \"29.4\", \"25.6\", \"32.8\", \"24.9\", \"31.1\", \"33.2\", \"33.7\", \"31.6\", \"33.7\", \"30.7\", \"33.4\", \"32.7\", \"32.5\", \"28.7\"], \"textposition\": \"auto\", \"type\": \"bar\", \"x\": [\"ART_AND_DESIGN\", \"AUTO_AND_VEHICLES\", \"BEAUTY\", \"BOOKS_AND_REFERENCE\", \"BUSINESS\", \"COMICS\", \"COMMUNICATION\", \"DATING\", \"EDUCATION\", \"ENTERTAINMENT\", \"EVENTS\", \"FAMILY\", \"FINANCE\", \"FOOD_AND_DRINK\", \"GAME\", \"HEALTH_AND_FITNESS\", \"HOUSE_AND_HOME\", \"LIBRARIES_AND_DEMO\", \"LIFESTYLE\", \"MAPS_AND_NAVIGATION\", \"MEDICAL\", \"NEWS_AND_MAGAZINES\", \"PARENTING\", \"PERSONALIZATION\", \"PHOTOGRAPHY\", \"PRODUCTIVITY\", \"SHOPPING\", \"SOCIAL\", \"SPORTS\", \"TOOLS\", \"TRAVEL_AND_LOCAL\", \"VIDEO_PLAYERS\", \"WEATHER\"], \"xaxis\": \"x\", \"y\": [\"26.9\", \"25.7\", \"24.7\", \"30.8\", \"29.9\", \"25.7\", \"34.9\", \"28.0\", \"29.7\", \"31.4\", \"23.9\", \"33.3\", \"29.7\", \"28.0\", \"35.0\", \"30.6\", \"27.3\", \"25.9\", \"29.0\", \"29.4\", \"25.6\", \"32.8\", \"24.9\", \"31.1\", \"33.2\", \"33.7\", \"31.6\", \"33.7\", \"30.7\", \"33.4\", \"32.7\", \"32.5\", \"28.7\"], \"yaxis\": \"y\"}, {\"alignmentgroup\": \"True\", \"hoverlabel\": {\"namelength\": 0}, \"hovertemplate\": \"Type=Paid<br>Category=%{x}<br>log2 installs=%{text}\", \"legendgroup\": \"Type=Paid\", \"marker\": {\"color\": \"#EF553B\"}, \"name\": \"Type=Paid\", \"offsetgroup\": \"Type=Paid\", \"orientation\": \"v\", \"showlegend\": true, \"text\": [\"14.0\", \"15.6\", \"14.5\", \"18.7\", \"20.4\", \"14.4\", \"19.2\", \"17.6\", \"0.0\", \"24.9\", \"17.5\", \"15.9\", \"24.3\", \"19.1\", \"6.6\", \"20.2\", \"16.9\", \"20.0\", \"12.4\", \"15.6\", \"22.3\", \"21.9\", \"20.4\", \"13.3\", \"12.6\", \"20.2\", \"20.7\", \"17.5\", \"16.1\", \"19.6\"], \"textposition\": \"auto\", \"type\": \"bar\", \"x\": [\"ART_AND_DESIGN\", \"AUTO_AND_VEHICLES\", \"BOOKS_AND_REFERENCE\", \"BUSINESS\", \"COMMUNICATION\", \"DATING\", \"EDUCATION\", \"ENTERTAINMENT\", \"EVENTS\", \"FAMILY\", \"FINANCE\", \"FOOD_AND_DRINK\", \"GAME\", \"HEALTH_AND_FITNESS\", \"LIBRARIES_AND_DEMO\", \"LIFESTYLE\", \"MAPS_AND_NAVIGATION\", \"MEDICAL\", \"NEWS_AND_MAGAZINES\", \"PARENTING\", \"PERSONALIZATION\", \"PHOTOGRAPHY\", \"PRODUCTIVITY\", \"SHOPPING\", \"SOCIAL\", \"SPORTS\", \"TOOLS\", \"TRAVEL_AND_LOCAL\", \"VIDEO_PLAYERS\", \"WEATHER\"], \"xaxis\": \"x\", \"y\": [\"14.0\", \"15.6\", \"14.5\", \"18.7\", \"20.4\", \"14.4\", \"19.2\", \"17.6\", \"0.0\", \"24.9\", \"17.5\", \"15.9\", \"24.3\", \"19.1\", \"6.6\", \"20.2\", \"16.9\", \"20.0\", \"12.4\", \"15.6\", \"22.3\", \"21.9\", \"20.4\", \"13.3\", \"12.6\", \"20.2\", \"20.7\", \"17.5\", \"16.1\", \"19.6\"], \"yaxis\": \"y\"}],\n",
              "                        {\"barmode\": \"relative\", \"legend\": {\"tracegroupgap\": 0}, \"template\": {\"data\": {\"bar\": [{\"error_x\": {\"color\": \"#2a3f5f\"}, \"error_y\": {\"color\": \"#2a3f5f\"}, \"marker\": {\"line\": {\"color\": \"#E5ECF6\", \"width\": 0.5}}, \"type\": \"bar\"}], \"barpolar\": [{\"marker\": {\"line\": {\"color\": \"#E5ECF6\", \"width\": 0.5}}, \"type\": \"barpolar\"}], \"carpet\": [{\"aaxis\": {\"endlinecolor\": \"#2a3f5f\", \"gridcolor\": \"white\", \"linecolor\": \"white\", \"minorgridcolor\": \"white\", \"startlinecolor\": \"#2a3f5f\"}, \"baxis\": {\"endlinecolor\": \"#2a3f5f\", \"gridcolor\": \"white\", \"linecolor\": \"white\", \"minorgridcolor\": \"white\", \"startlinecolor\": \"#2a3f5f\"}, \"type\": \"carpet\"}], \"choropleth\": [{\"colorbar\": {\"outlinewidth\": 0, \"ticks\": \"\"}, \"type\": \"choropleth\"}], \"contour\": [{\"colorbar\": {\"outlinewidth\": 0, \"ticks\": \"\"}, \"colorscale\": [[0.0, \"#0d0887\"], [0.1111111111111111, \"#46039f\"], [0.2222222222222222, \"#7201a8\"], [0.3333333333333333, \"#9c179e\"], [0.4444444444444444, \"#bd3786\"], [0.5555555555555556, \"#d8576b\"], [0.6666666666666666, \"#ed7953\"], [0.7777777777777778, \"#fb9f3a\"], [0.8888888888888888, \"#fdca26\"], [1.0, \"#f0f921\"]], \"type\": \"contour\"}], \"contourcarpet\": [{\"colorbar\": {\"outlinewidth\": 0, \"ticks\": \"\"}, \"type\": \"contourcarpet\"}], \"heatmap\": [{\"colorbar\": {\"outlinewidth\": 0, \"ticks\": \"\"}, \"colorscale\": [[0.0, \"#0d0887\"], [0.1111111111111111, \"#46039f\"], [0.2222222222222222, \"#7201a8\"], [0.3333333333333333, \"#9c179e\"], [0.4444444444444444, \"#bd3786\"], [0.5555555555555556, \"#d8576b\"], [0.6666666666666666, \"#ed7953\"], [0.7777777777777778, \"#fb9f3a\"], [0.8888888888888888, \"#fdca26\"], [1.0, \"#f0f921\"]], \"type\": \"heatmap\"}], \"heatmapgl\": [{\"colorbar\": {\"outlinewidth\": 0, \"ticks\": \"\"}, \"colorscale\": [[0.0, \"#0d0887\"], [0.1111111111111111, \"#46039f\"], [0.2222222222222222, \"#7201a8\"], [0.3333333333333333, \"#9c179e\"], [0.4444444444444444, \"#bd3786\"], [0.5555555555555556, \"#d8576b\"], [0.6666666666666666, \"#ed7953\"], [0.7777777777777778, \"#fb9f3a\"], [0.8888888888888888, \"#fdca26\"], [1.0, \"#f0f921\"]], \"type\": \"heatmapgl\"}], \"histogram\": [{\"marker\": {\"colorbar\": {\"outlinewidth\": 0, \"ticks\": \"\"}}, \"type\": \"histogram\"}], \"histogram2d\": [{\"colorbar\": {\"outlinewidth\": 0, \"ticks\": \"\"}, \"colorscale\": [[0.0, \"#0d0887\"], [0.1111111111111111, \"#46039f\"], [0.2222222222222222, \"#7201a8\"], [0.3333333333333333, \"#9c179e\"], [0.4444444444444444, \"#bd3786\"], [0.5555555555555556, \"#d8576b\"], [0.6666666666666666, \"#ed7953\"], [0.7777777777777778, \"#fb9f3a\"], [0.8888888888888888, \"#fdca26\"], [1.0, \"#f0f921\"]], \"type\": \"histogram2d\"}], \"histogram2dcontour\": [{\"colorbar\": {\"outlinewidth\": 0, \"ticks\": \"\"}, \"colorscale\": [[0.0, \"#0d0887\"], [0.1111111111111111, \"#46039f\"], [0.2222222222222222, \"#7201a8\"], [0.3333333333333333, \"#9c179e\"], [0.4444444444444444, \"#bd3786\"], [0.5555555555555556, \"#d8576b\"], [0.6666666666666666, \"#ed7953\"], [0.7777777777777778, \"#fb9f3a\"], [0.8888888888888888, \"#fdca26\"], [1.0, \"#f0f921\"]], \"type\": \"histogram2dcontour\"}], \"mesh3d\": [{\"colorbar\": {\"outlinewidth\": 0, \"ticks\": \"\"}, \"type\": \"mesh3d\"}], \"parcoords\": [{\"line\": {\"colorbar\": {\"outlinewidth\": 0, \"ticks\": \"\"}}, \"type\": \"parcoords\"}], \"pie\": [{\"automargin\": true, \"type\": \"pie\"}], \"scatter\": [{\"marker\": {\"colorbar\": {\"outlinewidth\": 0, \"ticks\": \"\"}}, \"type\": \"scatter\"}], \"scatter3d\": [{\"line\": {\"colorbar\": {\"outlinewidth\": 0, \"ticks\": \"\"}}, \"marker\": {\"colorbar\": {\"outlinewidth\": 0, \"ticks\": \"\"}}, \"type\": \"scatter3d\"}], \"scattercarpet\": [{\"marker\": {\"colorbar\": {\"outlinewidth\": 0, \"ticks\": \"\"}}, \"type\": \"scattercarpet\"}], \"scattergeo\": [{\"marker\": {\"colorbar\": {\"outlinewidth\": 0, \"ticks\": \"\"}}, \"type\": \"scattergeo\"}], \"scattergl\": [{\"marker\": {\"colorbar\": {\"outlinewidth\": 0, \"ticks\": \"\"}}, \"type\": \"scattergl\"}], \"scattermapbox\": [{\"marker\": {\"colorbar\": {\"outlinewidth\": 0, \"ticks\": \"\"}}, \"type\": \"scattermapbox\"}], \"scatterpolar\": [{\"marker\": {\"colorbar\": {\"outlinewidth\": 0, \"ticks\": \"\"}}, \"type\": \"scatterpolar\"}], \"scatterpolargl\": [{\"marker\": {\"colorbar\": {\"outlinewidth\": 0, \"ticks\": \"\"}}, \"type\": \"scatterpolargl\"}], \"scatterternary\": [{\"marker\": {\"colorbar\": {\"outlinewidth\": 0, \"ticks\": \"\"}}, \"type\": \"scatterternary\"}], \"surface\": [{\"colorbar\": {\"outlinewidth\": 0, \"ticks\": \"\"}, \"colorscale\": [[0.0, \"#0d0887\"], [0.1111111111111111, \"#46039f\"], [0.2222222222222222, \"#7201a8\"], [0.3333333333333333, \"#9c179e\"], [0.4444444444444444, \"#bd3786\"], [0.5555555555555556, \"#d8576b\"], [0.6666666666666666, \"#ed7953\"], [0.7777777777777778, \"#fb9f3a\"], [0.8888888888888888, \"#fdca26\"], [1.0, \"#f0f921\"]], \"type\": \"surface\"}], \"table\": [{\"cells\": {\"fill\": {\"color\": \"#EBF0F8\"}, \"line\": {\"color\": \"white\"}}, \"header\": {\"fill\": {\"color\": \"#C8D4E3\"}, \"line\": {\"color\": \"white\"}}, \"type\": \"table\"}]}, \"layout\": {\"annotationdefaults\": {\"arrowcolor\": \"#2a3f5f\", \"arrowhead\": 0, \"arrowwidth\": 1}, \"coloraxis\": {\"colorbar\": {\"outlinewidth\": 0, \"ticks\": \"\"}}, \"colorscale\": {\"diverging\": [[0, \"#8e0152\"], [0.1, \"#c51b7d\"], [0.2, \"#de77ae\"], [0.3, \"#f1b6da\"], [0.4, \"#fde0ef\"], [0.5, \"#f7f7f7\"], [0.6, \"#e6f5d0\"], [0.7, \"#b8e186\"], [0.8, \"#7fbc41\"], [0.9, \"#4d9221\"], [1, \"#276419\"]], \"sequential\": [[0.0, \"#0d0887\"], [0.1111111111111111, \"#46039f\"], [0.2222222222222222, \"#7201a8\"], [0.3333333333333333, \"#9c179e\"], [0.4444444444444444, \"#bd3786\"], [0.5555555555555556, \"#d8576b\"], [0.6666666666666666, \"#ed7953\"], [0.7777777777777778, \"#fb9f3a\"], [0.8888888888888888, \"#fdca26\"], [1.0, \"#f0f921\"]], \"sequentialminus\": [[0.0, \"#0d0887\"], [0.1111111111111111, \"#46039f\"], [0.2222222222222222, \"#7201a8\"], [0.3333333333333333, \"#9c179e\"], [0.4444444444444444, \"#bd3786\"], [0.5555555555555556, \"#d8576b\"], [0.6666666666666666, \"#ed7953\"], [0.7777777777777778, \"#fb9f3a\"], [0.8888888888888888, \"#fdca26\"], [1.0, \"#f0f921\"]]}, \"colorway\": [\"#636efa\", \"#EF553B\", \"#00cc96\", \"#ab63fa\", \"#FFA15A\", \"#19d3f3\", \"#FF6692\", \"#B6E880\", \"#FF97FF\", \"#FECB52\"], \"font\": {\"color\": \"#2a3f5f\"}, \"geo\": {\"bgcolor\": \"white\", \"lakecolor\": \"white\", \"landcolor\": \"#E5ECF6\", \"showlakes\": true, \"showland\": true, \"subunitcolor\": \"white\"}, \"hoverlabel\": {\"align\": \"left\"}, \"hovermode\": \"closest\", \"mapbox\": {\"style\": \"light\"}, \"paper_bgcolor\": \"white\", \"plot_bgcolor\": \"#E5ECF6\", \"polar\": {\"angularaxis\": {\"gridcolor\": \"white\", \"linecolor\": \"white\", \"ticks\": \"\"}, \"bgcolor\": \"#E5ECF6\", \"radialaxis\": {\"gridcolor\": \"white\", \"linecolor\": \"white\", \"ticks\": \"\"}}, \"scene\": {\"xaxis\": {\"backgroundcolor\": \"#E5ECF6\", \"gridcolor\": \"white\", \"gridwidth\": 2, \"linecolor\": \"white\", \"showbackground\": true, \"ticks\": \"\", \"zerolinecolor\": \"white\"}, \"yaxis\": {\"backgroundcolor\": \"#E5ECF6\", \"gridcolor\": \"white\", \"gridwidth\": 2, \"linecolor\": \"white\", \"showbackground\": true, \"ticks\": \"\", \"zerolinecolor\": \"white\"}, \"zaxis\": {\"backgroundcolor\": \"#E5ECF6\", \"gridcolor\": \"white\", \"gridwidth\": 2, \"linecolor\": \"white\", \"showbackground\": true, \"ticks\": \"\", \"zerolinecolor\": \"white\"}}, \"shapedefaults\": {\"line\": {\"color\": \"#2a3f5f\"}}, \"ternary\": {\"aaxis\": {\"gridcolor\": \"white\", \"linecolor\": \"white\", \"ticks\": \"\"}, \"baxis\": {\"gridcolor\": \"white\", \"linecolor\": \"white\", \"ticks\": \"\"}, \"bgcolor\": \"#E5ECF6\", \"caxis\": {\"gridcolor\": \"white\", \"linecolor\": \"white\", \"ticks\": \"\"}}, \"title\": {\"x\": 0.05}, \"xaxis\": {\"automargin\": true, \"gridcolor\": \"white\", \"linecolor\": \"white\", \"ticks\": \"\", \"title\": {\"standoff\": 15}, \"zerolinecolor\": \"white\", \"zerolinewidth\": 2}, \"yaxis\": {\"automargin\": true, \"gridcolor\": \"white\", \"linecolor\": \"white\", \"ticks\": \"\", \"title\": {\"standoff\": 15}, \"zerolinecolor\": \"white\", \"zerolinewidth\": 2}}}, \"title\": {\"text\": \"Bar Plot Representing Category Type Effect on installation Numbers\"}, \"xaxis\": {\"anchor\": \"y\", \"domain\": [0.0, 1.0], \"title\": {\"text\": \"Category\"}}, \"yaxis\": {\"anchor\": \"x\", \"domain\": [0.0, 1.0], \"title\": {\"text\": \"log2 installs\"}}},\n",
              "                        {\"responsive\": true}\n",
              "                    ).then(function(){\n",
              "                            \n",
              "var gd = document.getElementById('43c6adce-9d4f-4d7c-8477-e0e7e06ef5b6');\n",
              "var x = new MutationObserver(function (mutations, observer) {{\n",
              "        var display = window.getComputedStyle(gd).display;\n",
              "        if (!display || display === 'none') {{\n",
              "            console.log([gd, 'removed!']);\n",
              "            Plotly.purge(gd);\n",
              "            observer.disconnect();\n",
              "        }}\n",
              "}});\n",
              "\n",
              "// Listen for the removal of the full notebook cells\n",
              "var notebookContainer = gd.closest('#notebook-container');\n",
              "if (notebookContainer) {{\n",
              "    x.observe(notebookContainer, {childList: true});\n",
              "}}\n",
              "\n",
              "// Listen for the clearing of the current output cell\n",
              "var outputEl = gd.closest('.output');\n",
              "if (outputEl) {{\n",
              "    x.observe(outputEl, {childList: true});\n",
              "}}\n",
              "\n",
              "                        })\n",
              "                };\n",
              "                \n",
              "            </script>\n",
              "        </div>\n",
              "</body>\n",
              "</html>"
            ]
          },
          "metadata": {}
        }
      ]
    },
    {
      "cell_type": "markdown",
      "metadata": {
        "id": "KlphiXLOJYGr"
      },
      "source": [
        "# From above plot,we can see that the applications which belong to category type free are more installed than the paid one."
      ]
    },
    {
      "cell_type": "markdown",
      "metadata": {
        "id": "t0oxVf0PJsaP"
      },
      "source": [
        "**12. Scatter Plot 3D**"
      ]
    },
    {
      "cell_type": "code",
      "metadata": {
        "id": "jjUgPkpFIb7l"
      },
      "source": [
        "#lets define a variable  for plot\n",
        "Category_size=df.groupby(['Type','Size'],as_index=False)['Installs'].sum()"
      ],
      "execution_count": null,
      "outputs": []
    },
    {
      "cell_type": "code",
      "metadata": {
        "id": "BF4wujQROBAL"
      },
      "source": [
        "#lets use log2 function\n",
        "Category_size['log2 installs']=np.log2(Category_size['Installs'])"
      ],
      "execution_count": null,
      "outputs": []
    },
    {
      "cell_type": "code",
      "metadata": {
        "id": "xmuoPfiPOX0J"
      },
      "source": [
        "#lets apply lymbda function for proper data format\n",
        "Category_size['log2 installs']=Category_size['log2 installs'].apply(lambda x: \"{0:1.1f}\".format(x))"
      ],
      "execution_count": null,
      "outputs": []
    },
    {
      "cell_type": "code",
      "metadata": {
        "colab": {
          "base_uri": "https://localhost:8080/",
          "height": 542
        },
        "id": "qbb-8t6eO8SP",
        "outputId": "8b88c0da-c23e-4c08-9947-80e6869f81f8"
      },
      "source": [
        "#lets plot graph using scatter 3D\n",
        "px.scatter_3d(data_frame=Category_size,x='Size',y='log2 installs',z='Type',color='Type')"
      ],
      "execution_count": null,
      "outputs": [
        {
          "output_type": "display_data",
          "data": {
            "text/html": [
              "<html>\n",
              "<head><meta charset=\"utf-8\" /></head>\n",
              "<body>\n",
              "    <div>\n",
              "            <script src=\"https://cdnjs.cloudflare.com/ajax/libs/mathjax/2.7.5/MathJax.js?config=TeX-AMS-MML_SVG\"></script><script type=\"text/javascript\">if (window.MathJax) {MathJax.Hub.Config({SVG: {font: \"STIX-Web\"}});}</script>\n",
              "                <script type=\"text/javascript\">window.PlotlyConfig = {MathJaxConfig: 'local'};</script>\n",
              "        <script src=\"https://cdn.plot.ly/plotly-latest.min.js\"></script>    \n",
              "            <div id=\"72ed9af1-8861-4e39-84e0-6fbfa689de2d\" class=\"plotly-graph-div\" style=\"height:525px; width:100%;\"></div>\n",
              "            <script type=\"text/javascript\">\n",
              "                \n",
              "                    window.PLOTLYENV=window.PLOTLYENV || {};\n",
              "                    \n",
              "                if (document.getElementById(\"72ed9af1-8861-4e39-84e0-6fbfa689de2d\")) {\n",
              "                    Plotly.newPlot(\n",
              "                        '72ed9af1-8861-4e39-84e0-6fbfa689de2d',\n",
              "                        [{\"hoverlabel\": {\"namelength\": 0}, \"hovertemplate\": \"Type=%{z}<br>Size=%{x}<br>log2 installs=%{y}\", \"legendgroup\": \"Type=Free\", \"marker\": {\"color\": \"#636efa\", \"symbol\": \"circle\"}, \"mode\": \"markers\", \"name\": \"Type=Free\", \"scene\": \"scene\", \"showlegend\": true, \"type\": \"scatter3d\", \"x\": [0.0085, 0.011, 0.018, 0.02, 0.023, 0.028, 0.029, 0.033, 0.034, 0.039, 0.041, 0.044, 0.045, 0.048, 0.051, 0.054, 0.055, 0.058, 0.061, 0.067, 0.07, 0.072, 0.073, 0.074, 0.078, 0.079, 0.091, 0.093, 0.103, 0.108, 0.116, 0.118, 0.121, 0.122, 0.153, 0.154, 0.161, 0.164, 0.169, 0.172, 0.175, 0.176, 0.186, 0.19, 0.191, 0.192, 0.193, 0.196, 0.2, 0.201, 0.203, 0.206, 0.208, 0.209, 0.21, 0.219, 0.22, 0.221, 0.222, 0.226, 0.228, 0.232, 0.234, 0.239, 0.24, 0.241, 0.243, 0.245, 0.246, 0.251, 0.253, 0.257, 0.259, 0.266, 0.28, 0.283, 0.292, 0.306, 0.308, 0.309, 0.314, 0.317, 0.318, 0.322, 0.323, 0.329, 0.334, 0.335, 0.35, 0.351, 0.353, 0.364, 0.371, 0.373, 0.375, 0.387, 0.4, 0.404, 0.411, 0.412, 0.414, 0.417, 0.429, 0.43, 0.437, 0.4385, 0.442, 0.444, 0.454, 0.458, 0.459, 0.46, 0.467, 0.47, 0.473, 0.475, 0.478, 0.485, 0.496, 0.498, 0.499, 0.506, 0.511, 0.514, 0.518, 0.523, 0.525, 0.526, 0.54, 0.544, 0.545, 0.551, 0.552, 0.554, 0.556, 0.562, 0.569, 0.582, 0.585, 0.592, 0.597, 0.598, 0.6, 0.601, 0.608, 0.609, 0.613, 0.619, 0.624, 0.626, 0.636, 0.642, 0.643, 0.647, 0.656, 0.658, 0.676, 0.683, 0.6885, 0.691, 0.695, 0.696, 0.705, 0.713, 0.714, 0.716, 0.717, 0.72, 0.721, 0.728, 0.73, 0.743, 0.746, 0.749, 0.756, 0.772, 0.775, 0.778, 0.782, 0.784, 0.785, 0.787, 0.801, 0.809, 0.811, 0.812, 0.816, 0.818, 0.837, 0.84, 0.842, 0.847, 0.853, 0.86, 0.8614999999999999, 0.865, 0.874, 0.879, 0.881, 0.885, 0.887, 0.892, 0.898, 0.903, 0.904, 0.913, 0.914, 0.916, 0.92, 0.921, 0.924, 0.93, 0.939, 0.942, 0.948, 0.953, 0.957, 0.961, 0.963, 0.97, 0.975, 0.976, 0.98, 0.981, 0.982, 0.986, 0.992, 0.994, 1.0, 1.0820000000000003, 1.1, 1.1360000000000001, 1.1475, 1.2, 1.236, 1.291, 1.3, 1.4, 1.421, 1.4505000000000001, 1.4666666666666668, 1.5, 1.5166666666666666, 1.6, 1.6333333333333333, 1.7, 1.7000000000000002, 1.7080000000000002, 1.7999999999999998, 1.8, 1.9, 1.95, 1.9666666666666666, 2.0, 2.05, 2.1, 2.1333333333333333, 2.141, 2.2, 2.219333333333333, 2.2255000000000003, 2.25, 2.3, 2.4, 2.45, 2.5, 2.5083333333333333, 2.5084999999999997, 2.521, 2.6, 2.6365, 2.6500000000000004, 2.7, 2.75, 2.8, 2.8333333333333335, 2.85, 2.9, 2.9000000000000004, 2.95, 2.9666666666666663, 3.0, 3.025, 3.05, 3.1, 3.1333333333333333, 3.15, 3.1666666666666665, 3.2, 3.25, 3.3, 3.333333333333334, 3.35, 3.366666666666667, 3.3999999999999995, 3.4, 3.409, 3.466666666666667, 3.475, 3.4960000000000004, 3.5, 3.55, 3.5629999999999997, 3.6, 3.6333333333333337, 3.65, 3.6596666666666664, 3.6605000000000003, 3.7, 3.733333333333333, 3.8, 3.8499999999999996, 3.85, 3.9, 3.9425, 3.9499999999999997, 3.95, 4.0, 4.022, 4.033333333333333, 4.05, 4.066666666666666, 4.1, 4.15, 4.166666666666666, 4.199999999999999, 4.2, 4.242, 4.25, 4.266666666666667, 4.3, 4.4, 4.5, 4.55, 4.554, 4.566666666666666, 4.6, 4.633333333333333, 4.65, 4.7, 4.75, 4.8, 4.85, 4.9, 4.933333333333334, 5.0, 5.014, 5.05, 5.066666666666666, 5.083333333333334, 5.1, 5.15, 5.175, 5.2, 5.25, 5.3, 5.35, 5.4, 5.449999999999999, 5.45, 5.466666666666667, 5.47, 5.5, 5.566666666666666, 5.6, 5.6000000000000005, 5.6205, 5.633333333333333, 5.633333333333335, 5.65, 5.699999999999999, 5.7, 5.745333333333333, 5.75, 5.8, 5.833333333333333, 5.85, 5.9, 5.95, 5.966666666666667, 6.0, 6.050000000000001, 6.1, 6.133333333333334, 6.15, 6.2, 6.249, 6.25, 6.3, 6.333333333333333, 6.333333333333334, 6.3999999999999995, 6.4, 6.433333333333334, 6.45, 6.5, 6.55, 6.6, 6.65, 6.659, 6.666666666666667, 6.675000000000001, 6.7, 6.75, 6.760833333333334, 6.8, 6.800000000000001, 6.85, 6.9, 6.933333333333334, 6.949999999999999, 7.0, 7.033333333333333, 7.0365, 7.1, 7.133333333333334, 7.15, 7.199999999999999, 7.2, 7.25, 7.3, 7.314285714285715, 7.348, 7.35, 7.375, 7.4, 7.5, 7.55, 7.6, 7.65, 7.68, 7.7, 7.700000000000001, 7.733333333333333, 7.75, 7.766666666666667, 7.8, 7.85, 7.866666666666666, 7.875, 7.88, 7.9, 7.933333333333334, 7.949999999999999, 7.95, 8.0, 8.05, 8.059, 8.066666666666666, 8.098, 8.1, 8.125, 8.133333333333333, 8.149999999999999, 8.15, 8.2, 8.24, 8.25, 8.266666666666666, 8.28, 8.3, 8.32, 8.36, 8.386000000000001, 8.4, 8.428571428571429, 8.45, 8.466666666666665, 8.475, 8.5, 8.509, 8.55, 8.566666666666666, 8.6, 8.616666666666667, 8.649999999999999, 8.7, 8.733333333333334, 8.75, 8.8, 8.899999999999999, 8.9, 8.95, 8.96, 8.966666666666667, 9.0, 9.05, 9.066666666666666, 9.1, 9.133333333333333, 9.15, 9.2, 9.25, 9.26, 9.266666666666666, 9.3, 9.35, 9.350000000000001, 9.375, 9.399999999999999, 9.4, 9.45, 9.466666666666667, 9.485714285714286, 9.5, 9.533333333333333, 9.542857142857143, 9.55, 9.6, 9.65, 9.66, 9.666666666666666, 9.7, 9.733333333333333, 9.733333333333334, 9.75, 9.799999999999999, 9.8, 9.9, 9.933333333333332, 9.95, 10.0, 10.066666666666666, 10.1, 10.15, 10.166666666666668, 10.25, 10.3, 10.35, 10.399999999999999, 10.45, 10.5, 10.55, 10.571428571428573, 10.575, 10.6, 10.625, 10.633333333333333, 10.649999999999999, 10.65, 10.657142857142858, 10.674, 10.7, 10.75, 10.8, 10.825, 10.84, 10.866666666666667, 10.9, 10.95, 11.0, 11.08, 11.087499999999999, 11.1, 11.100000000000001, 11.125, 11.15, 11.2, 11.233333333333333, 11.25, 11.3, 11.333333333333334, 11.35, 11.366666666666667, 11.372666666666667, 11.4, 11.400000000000002, 11.425, 11.44, 11.45, 11.5, 11.533333333333335, 11.55, 11.566666666666666, 11.571428571428571, 11.6, 11.657142857142858, 11.7, 11.725, 11.75, 11.771428571428572, 11.8, 11.85, 11.850000000000001, 11.866666666666667, 11.95, 12.0, 12.05, 12.066666666666666, 12.142857142857142, 12.25, 12.3, 12.333333333333334, 12.35, 12.4, 12.400000000000002, 12.433333333333334, 12.45, 12.450000000000001, 12.5, 12.575000000000003, 12.6, 12.649999999999999, 12.65, 12.714285714285715, 12.742857142857144, 12.75, 12.799999999999999, 12.808666666666667, 12.885714285714286, 12.9, 12.95, 13.0, 13.033333333333333, 13.049999999999999, 13.066666666666666, 13.200000000000001, 13.22, 13.3, 13.333333333333334, 13.35, 13.399999999999999, 13.4, 13.466666666666667, 13.5, 13.549999999999999, 13.55, 13.6, 13.633000000000001, 13.65, 13.666666666666666, 13.75, 13.82857142857143, 13.85, 13.850000000000001, 13.857142857142858, 13.9, 13.95, 14.0, 14.05, 14.100000000000001, 14.15, 14.2, 14.225, 14.25, 14.266666666666667, 14.333333333333332, 14.366666666666667, 14.399999999999999, 14.4, 14.428571428571429, 14.450000000000001, 14.5, 14.55, 14.600000000000001, 14.65, 14.666666666666666, 14.8, 14.914285714285715, 14.950000000000001, 15.0, 15.049999999999999, 15.05, 15.200000000000001, 15.219999999999999, 15.25, 15.299999999999999, 15.3, 15.333333333333334, 15.35, 15.350000000000001, 15.399999999999999, 15.428571428571429, 15.45, 15.466666666666665, 15.5, 15.513, 15.533333333333335, 15.55, 15.633333333333333, 15.649999999999999, 15.666666666666666, 15.7, 15.75, 15.799999999999999, 15.8, 15.850000000000001, 15.866666666666667, 15.9, 16.0, 16.05, 16.1, 16.159333333333333, 16.2, 16.200000000000003, 16.25, 16.3, 16.333333333333332, 16.35, 16.433333333333334, 16.5, 16.533333333333335, 16.6, 16.64, 16.693, 16.733333333333334, 16.8, 16.857142857142858, 16.9, 16.900000000000002, 16.95, 17.0, 17.1, 17.133333333333333, 17.166666666666668, 17.233333333333334, 17.25, 17.266666666666666, 17.3, 17.333333333333332, 17.333333333333336, 17.4, 17.450000000000003, 17.466666666666665, 17.5, 17.6, 17.6465, 17.666666666666668, 17.700000000000003, 17.8, 17.85, 17.9, 18.0, 18.075, 18.2, 18.200000000000003, 18.285714285714285, 18.299999999999997, 18.3, 18.4, 18.5, 18.6, 18.650000000000002, 18.666666666666668, 18.7, 18.85, 18.8565, 18.95, 19.0, 19.05, 19.333333333333332, 19.35, 19.4, 19.5, 19.525, 19.6, 19.666666666666668, 19.7, 19.714285714285715, 19.75, 20.0, 20.099999999999998, 20.14285714285714, 20.2, 20.25, 20.28, 20.3, 20.333333333333332, 20.5, 20.560000000000002, 20.6, 20.666666666666664, 20.700000000000003, 20.733333333333334, 20.75, 21.0, 21.142857142857142, 21.2, 21.3, 21.333333333333332, 21.333333333333336, 21.35, 21.4, 21.400000000000002, 21.48, 21.5, 21.6, 21.7, 21.75, 21.766666666666666, 21.8, 21.9, 22.0, 22.15, 22.2, 22.333333333333332, 22.35, 22.4, 22.45, 22.5, 22.57142857142857, 22.65, 22.666666666666668, 22.7, 22.75, 22.799999999999997, 22.8, 22.9, 22.95, 23.0, 23.133333333333333, 23.2, 23.333333333333336, 23.35, 23.4, 23.400000000000002, 23.5, 23.666666666666664, 23.666666666666668, 23.7, 23.75, 23.849999999999998, 24.0, 24.25, 24.266666666666666, 24.3, 24.333333333333332, 24.35, 24.4, 24.5, 24.549999999999997, 24.55, 24.6, 24.666666666666668, 24.733333333333334, 24.799999999999997, 24.85714285714286, 24.904333333333334, 25.0, 25.0625, 25.2, 25.25, 25.333333333333332, 25.5, 25.525, 25.650000000000002, 25.666666666666668, 25.7, 26.0, 26.1, 26.2, 26.3, 26.333333333333332, 26.433333333333334, 26.45, 26.475, 26.5, 26.6, 26.666666666666668, 26.7, 26.75, 26.8, 26.85, 27.0, 27.049999999999997, 27.2, 27.25, 27.285714285714285, 27.333333333333332, 27.366666666666667, 27.4, 27.5, 27.6, 27.666666666666668, 27.740000000000002, 27.75, 27.8, 27.9, 27.95, 28.0, 28.1, 28.2, 28.25, 28.333333333333336, 28.5, 28.7, 28.75, 28.8, 28.933333333333337, 29.0, 29.25, 29.26666666666667, 29.333333333333332, 29.333333333333336, 29.5, 29.512, 29.549999999999997, 29.666666666666668, 29.75, 29.980000000000004, 30.0, 30.040000000000003, 30.049999999999997, 30.2, 30.333333333333332, 30.333333333333336, 30.349999999999998, 30.4, 30.5, 30.6, 30.666666666666664, 30.666666666666668, 30.714285714285715, 30.75, 30.952166666666667, 31.0, 31.099999999999998, 31.25, 31.300000000000004, 31.333333333333332, 31.333333333333336, 31.4, 31.5, 31.6, 31.666666666666664, 31.75, 31.9, 32.0, 32.05, 32.07966666666667, 32.3, 32.33333333333333, 32.333333333333336, 32.45, 32.5, 32.6, 32.8, 32.95, 33.0, 33.05, 33.15, 33.16666666666667, 33.333333333333336, 33.4, 33.5, 33.55, 33.6, 33.666666666666664, 33.66666666666667, 33.7, 33.75, 33.86666666666667, 34.0, 34.2, 34.25, 34.42857142857143, 34.5, 34.6, 34.666666666666664, 34.75, 34.8, 34.849999999999994, 35.0, 35.33333333333333, 35.333333333333336, 35.35, 35.45, 35.5, 35.666666666666664, 35.9, 36.0, 36.166666666666664, 36.25, 36.33333333333333, 36.333333333333336, 36.46, 36.5, 36.57142857142857, 36.75, 36.85, 37.0, 37.06666666666666, 37.2, 37.25, 37.333333333333336, 37.5, 37.55, 37.666666666666664, 38.0, 38.4, 38.5, 39.0, 39.0375, 39.333333333333336, 39.5, 39.52, 39.6, 39.66666666666667, 39.699999999999996, 40.0, 40.13333333333333, 40.333333333333336, 40.5, 40.666666666666664, 41.0, 41.2, 41.4, 41.5, 41.57142857142857, 41.599999999999994, 41.86666666666667, 42.0, 42.333333333333336, 42.42857142857143, 42.5, 42.650000000000006, 43.0, 43.08, 43.25, 43.32, 43.4, 43.5, 43.85, 43.949999999999996, 44.0, 44.2, 44.333333333333336, 44.5, 44.666666666666664, 44.8, 45.0, 45.333333333333336, 45.5, 45.666666666666664, 45.75, 45.9, 46.0, 46.025, 46.5, 46.66666666666667, 47.0, 47.33333333333333, 47.4, 47.5, 47.560500000000005, 47.666666666666664, 47.66666666666667, 47.75, 47.9, 48.0, 48.2, 48.285714285714285, 48.5, 48.6, 48.66666666666667, 48.714285714285715, 49.0, 49.1, 49.25, 49.5, 49.66666666666667, 49.8, 50.0, 50.05, 50.666666666666664, 50.66666666666667, 51.0, 51.45, 51.5, 52.0, 52.4, 52.5, 52.64, 52.666666666666664, 52.949999999999996, 52.96666666666667, 53.0, 53.0125, 53.25, 53.5, 53.666666666666664, 53.849999999999994, 54.0, 54.142857142857146, 54.33333333333333, 54.5, 55.0, 55.333333333333336, 55.5, 55.666666666666664, 55.857142857142854, 56.0, 56.333333333333336, 56.66, 56.666666666666664, 56.8, 57.0, 57.333333333333336, 57.8, 58.0, 58.5, 59.0, 59.10000000000001, 59.5, 60.0, 60.5, 61.0, 61.333333333333336, 61.5, 61.666666666666664, 62.0, 62.199999999999996, 62.5, 63.0, 63.33333333333333, 63.5, 64.0, 64.5, 64.66666666666667, 64.8, 65.0, 66.0, 66.2, 66.5, 66.6, 67.0, 67.33333333333333, 67.66666666666666, 68.0, 68.5, 68.82, 69.0, 69.4, 69.66666666666667, 70.0, 71.0, 71.2, 71.4, 71.66666666666667, 71.75, 72.0, 72.5, 72.66666666666667, 73.0, 73.5, 73.66666666666667, 74.0, 75.0, 75.5, 75.6, 75.8, 76.0, 76.5, 77.0, 77.5, 78.0, 79.0, 79.6, 79.75, 80.0, 80.4, 81.0, 82.0, 83.0, 84.0, 84.33333333333333, 85.0, 86.0, 86.5, 87.0, 88.0, 89.0, 89.5, 90.0, 90.5, 91.0, 91.5, 92.0, 93.0, 94.0, 94.5, 95.0, 95.5, 96.0, 97.0, 97.5, 98.0, 98.5, 99.0, 100.0], \"y\": [\"15.6\", \"19.9\", \"12.3\", \"16.6\", \"16.6\", \"10.0\", \"15.6\", \"16.6\", \"10.0\", \"10.0\", \"22.3\", \"10.0\", \"13.3\", \"15.6\", \"13.3\", \"12.3\", \"6.6\", \"12.3\", \"16.6\", \"10.0\", \"16.7\", \"18.9\", \"16.6\", \"15.6\", \"13.3\", \"24.3\", \"16.6\", \"19.9\", \"16.6\", \"10.0\", \"15.6\", \"20.9\", \"10.0\", \"13.3\", \"13.3\", \"5.6\", \"15.6\", \"12.3\", \"3.3\", \"6.6\", \"15.6\", \"23.3\", \"13.3\", \"16.6\", \"3.3\", \"16.6\", \"13.3\", \"16.6\", \"12.3\", \"20.1\", \"13.3\", \"10.0\", \"22.3\", \"16.6\", \"13.3\", \"15.6\", \"12.3\", \"15.6\", \"6.6\", \"13.3\", \"13.3\", \"22.3\", \"6.6\", \"12.3\", \"12.3\", \"15.6\", \"3.3\", \"13.3\", \"10.0\", \"12.3\", \"19.9\", \"13.3\", \"10.0\", \"19.0\", \"10.0\", \"12.3\", \"19.9\", \"15.6\", \"12.3\", \"15.6\", \"15.6\", \"10.0\", \"18.9\", \"13.3\", \"16.7\", \"13.3\", \"13.4\", \"13.9\", \"16.6\", \"19.9\", \"13.3\", \"20.1\", \"13.3\", \"22.3\", \"14.3\", \"16.6\", \"13.3\", \"16.6\", \"16.6\", \"13.3\", \"13.3\", \"12.6\", \"13.3\", \"12.3\", \"12.3\", \"15.6\", \"13.3\", \"15.6\", \"13.3\", \"6.6\", \"13.3\", \"10.0\", \"16.6\", \"12.3\", \"12.3\", \"6.6\", \"10.0\", \"15.6\", \"10.0\", \"10.0\", \"12.3\", \"12.3\", \"5.6\", \"3.3\", \"3.3\", \"10.0\", \"23.3\", \"13.3\", \"19.9\", \"19.9\", \"12.3\", \"23.3\", \"15.6\", \"12.3\", \"13.3\", \"15.6\", \"6.6\", \"16.6\", \"18.9\", \"18.9\", \"16.6\", \"15.6\", \"12.3\", \"10.0\", \"10.0\", \"16.6\", \"10.0\", \"10.0\", \"23.3\", \"13.3\", \"9.0\", \"6.6\", \"16.6\", \"15.6\", \"18.9\", \"10.0\", \"13.3\", \"5.6\", \"18.9\", \"10.0\", \"23.3\", \"19.9\", \"6.6\", \"19.9\", \"13.3\", \"19.9\", \"12.3\", \"16.6\", \"12.3\", \"13.3\", \"15.6\", \"10.0\", \"16.6\", \"10.0\", \"15.6\", \"12.3\", \"6.6\", \"16.6\", \"13.3\", \"13.3\", \"16.6\", \"13.3\", \"12.3\", \"16.6\", \"13.3\", \"13.3\", \"13.3\", \"16.6\", \"15.6\", \"6.6\", \"12.3\", \"19.9\", \"23.3\", \"19.9\", \"25.6\", \"19.9\", \"6.6\", \"12.3\", \"10.0\", \"0.0\", \"9.0\", \"6.6\", \"0.0\", \"16.6\", \"3.3\", \"5.6\", \"16.6\", \"10.0\", \"18.9\", \"6.6\", \"13.3\", \"13.3\", \"13.3\", \"10.0\", \"16.6\", \"16.6\", \"6.6\", \"6.6\", \"10.0\", \"6.6\", \"12.3\", \"13.3\", \"13.3\", \"6.6\", \"19.9\", \"13.3\", \"9.0\", \"10.0\", \"17.2\", \"22.3\", \"21.1\", \"16.6\", \"25.6\", \"23.7\", \"12.3\", \"12.3\", \"24.5\", \"23.6\", \"18.9\", \"13.3\", \"26.6\", \"26.2\", \"23.3\", \"24.8\", \"25.6\", \"23.4\", \"16.6\", \"23.3\", \"26.6\", \"24.9\", \"24.6\", \"22.3\", \"23.3\", \"25.0\", \"19.9\", \"25.0\", \"26.6\", \"22.3\", \"24.4\", \"23.3\", \"28.9\", \"19.9\", \"25.4\", \"24.8\", \"16.6\", \"26.9\", \"26.6\", \"22.3\", \"19.9\", \"29.0\", \"26.6\", \"25.6\", \"26.2\", \"26.6\", \"26.4\", \"23.3\", \"16.6\", \"24.5\", \"13.3\", \"22.3\", \"26.6\", \"25.2\", \"29.9\", \"22.3\", \"27.5\", \"25.6\", \"26.6\", \"25.6\", \"25.2\", \"23.4\", \"29.7\", \"26.6\", \"21.3\", \"19.9\", \"10.0\", \"24.0\", \"3.3\", \"19.9\", \"26.6\", \"15.6\", \"24.5\", \"19.9\", \"16.6\", \"24.0\", \"23.3\", \"19.9\", \"22.3\", \"5.6\", \"25.5\", \"22.3\", \"27.3\", \"23.4\", \"26.6\", \"28.2\", \"16.6\", \"13.3\", \"23.3\", \"27.3\", \"19.9\", \"19.9\", \"22.3\", \"25.6\", \"27.0\", \"25.8\", \"22.3\", \"23.3\", \"26.1\", \"2.3\", \"13.3\", \"19.9\", \"26.8\", \"25.5\", \"24.3\", \"10.0\", \"16.6\", \"26.6\", \"29.0\", \"25.6\", \"27.4\", \"27.2\", \"24.8\", \"24.8\", \"23.3\", \"29.3\", \"19.9\", \"25.4\", \"13.3\", \"15.6\", \"25.6\", \"23.3\", \"27.5\", \"25.8\", \"22.3\", \"23.4\", \"22.3\", \"27.0\", \"29.9\", \"30.0\", \"29.9\", \"29.9\", \"27.3\", \"13.3\", \"24.8\", \"22.3\", \"26.0\", \"25.6\", \"28.9\", \"23.3\", \"16.6\", \"28.9\", \"25.6\", \"25.2\", \"26.6\", \"26.6\", \"25.1\", \"26.6\", \"26.6\", \"25.3\", \"9.0\", \"25.8\", \"24.5\", \"16.6\", \"27.9\", \"23.3\", \"22.3\", \"24.5\", \"16.6\", \"28.9\", \"24.9\", \"29.9\", \"28.9\", \"19.9\", \"27.2\", \"23.3\", \"23.3\", \"26.3\", \"23.3\", \"27.4\", \"23.3\", \"23.3\", \"26.6\", \"23.3\", \"26.1\", \"28.9\", \"22.3\", \"24.1\", \"16.6\", \"23.3\", \"25.2\", \"26.6\", \"3.3\", \"25.4\", \"26.6\", \"13.3\", \"27.2\", \"23.3\", \"26.6\", \"23.3\", \"24.7\", \"26.8\", \"25.3\", \"23.3\", \"22.3\", \"23.3\", \"25.6\", \"27.5\", \"23.9\", \"29.9\", \"27.5\", \"23.3\", \"23.3\", \"23.2\", \"19.9\", \"26.6\", \"23.4\", \"22.3\", \"26.1\", \"22.3\", \"26.6\", \"29.9\", \"26.6\", \"26.9\", \"24.3\", \"26.6\", \"19.9\", \"30.0\", \"25.6\", \"29.9\", \"28.9\", \"16.6\", \"25.5\", \"22.3\", \"23.3\", \"13.3\", \"19.2\", \"26.2\", \"23.3\", \"24.3\", \"23.3\", \"23.3\", \"25.1\", \"28.9\", \"23.3\", \"28.9\", \"24.4\", \"19.9\", \"20.9\", \"26.6\", \"19.9\", \"25.9\", \"23.3\", \"24.3\", \"26.6\", \"26.0\", \"23.3\", \"24.3\", \"26.5\", \"19.9\", \"16.6\", \"25.3\", \"19.9\", \"25.3\", \"22.5\", \"26.6\", \"26.6\", \"26.9\", \"23.3\", \"15.6\", \"26.5\", \"26.6\", \"18.9\", \"26.7\", \"26.8\", \"19.9\", \"19.9\", \"20.7\", \"26.6\", \"26.6\", \"19.9\", \"16.6\", \"25.9\", \"26.6\", \"18.9\", \"23.3\", \"29.0\", \"23.3\", \"23.3\", \"26.6\", \"23.8\", \"26.6\", \"28.9\", \"25.6\", \"26.4\", \"22.5\", \"25.6\", \"23.4\", \"22.3\", \"24.9\", \"27.8\", \"26.7\", \"26.6\", \"27.7\", \"19.9\", \"23.3\", \"23.3\", \"28.9\", \"23.3\", \"26.6\", \"22.3\", \"25.6\", \"26.7\", \"23.5\", \"26.7\", \"23.3\", \"28.9\", \"23.4\", \"22.3\", \"19.9\", \"25.6\", \"16.6\", \"22.3\", \"23.3\", \"23.3\", \"23.3\", \"25.7\", \"23.3\", \"16.6\", \"16.6\", \"28.9\", \"25.6\", \"31.5\", \"23.3\", \"28.9\", \"22.3\", \"28.9\", \"23.3\", \"24.3\", \"26.6\", \"28.9\", \"24.3\", \"29.9\", \"13.3\", \"26.6\", \"22.3\", \"19.9\", \"23.3\", \"22.3\", \"23.3\", \"23.3\", \"23.3\", \"27.7\", \"29.9\", \"26.7\", \"10.0\", \"26.6\", \"26.6\", \"26.6\", \"18.9\", \"23.3\", \"23.4\", \"22.3\", \"23.4\", \"18.9\", \"23.3\", \"26.6\", \"19.9\", \"30.4\", \"25.8\", \"25.8\", \"22.3\", \"24.3\", \"23.3\", \"26.6\", \"13.3\", \"26.7\", \"29.9\", \"23.3\", \"22.3\", \"23.3\", \"30.0\", \"26.6\", \"26.6\", \"22.5\", \"26.6\", \"29.9\", \"23.3\", \"23.4\", \"26.6\", \"26.6\", \"22.3\", \"29.9\", \"0.0\", \"32.4\", \"24.3\", \"19.9\", \"22.3\", \"19.9\", \"23.3\", \"27.2\", \"26.6\", \"23.3\", \"22.5\", \"25.6\", \"23.3\", \"29.0\", \"23.3\", \"19.9\", \"23.3\", \"15.6\", \"27.6\", \"19.9\", \"22.5\", \"26.6\", \"19.9\", \"10.0\", \"23.3\", \"23.3\", \"21.5\", \"29.8\", \"29.9\", \"23.3\", \"25.6\", \"26.6\", \"23.3\", \"26.6\", \"26.6\", \"22.3\", \"19.9\", \"26.6\", \"29.9\", \"28.9\", \"22.5\", \"27.4\", \"22.3\", \"26.6\", \"25.6\", \"18.9\", \"28.9\", \"19.9\", \"23.3\", \"31.1\", \"23.3\", \"3.3\", \"22.3\", \"23.3\", \"24.3\", \"26.6\", \"22.3\", \"23.3\", \"23.3\", \"26.6\", \"23.3\", \"25.6\", \"22.3\", \"22.3\", \"24.9\", \"16.6\", \"19.9\", \"12.3\", \"29.9\", \"23.4\", \"23.3\", \"18.9\", \"23.4\", \"25.6\", \"28.9\", \"23.3\", \"19.9\", \"16.7\", \"29.8\", \"22.3\", \"28.9\", \"23.3\", \"29.9\", \"19.9\", \"24.3\", \"22.3\", \"19.9\", \"25.6\", \"22.3\", \"26.7\", \"23.3\", \"26.7\", \"22.3\", \"29.9\", \"23.4\", \"23.3\", \"26.6\", \"23.3\", \"2.3\", \"29.9\", \"30.7\", \"23.3\", \"12.3\", \"22.3\", \"19.9\", \"22.3\", \"26.6\", \"10.0\", \"23.3\", \"24.3\", \"16.6\", \"25.6\", \"25.6\", \"27.1\", \"19.9\", \"22.3\", \"25.6\", \"6.6\", \"26.9\", \"23.3\", \"19.9\", \"28.6\", \"29.9\", \"29.9\", \"26.6\", \"29.9\", \"21.5\", \"19.9\", \"23.8\", \"29.4\", \"19.9\", \"26.6\", \"16.6\", \"29.9\", \"23.8\", \"26.6\", \"22.3\", \"28.0\", \"29.9\", \"28.9\", \"19.9\", \"24.3\", \"21.6\", \"26.6\", \"23.3\", \"19.9\", \"15.6\", \"26.6\", \"25.6\", \"28.6\", \"22.3\", \"25.6\", \"27.3\", \"25.8\", \"28.9\", \"22.3\", \"23.4\", \"30.1\", \"28.9\", \"26.6\", \"22.3\", \"25.7\", \"13.3\", \"23.3\", \"28.8\", \"26.6\", \"26.6\", \"25.6\", \"26.6\", \"19.9\", \"23.3\", \"26.8\", \"23.3\", \"22.3\", \"23.5\", \"20.9\", \"22.3\", \"26.6\", \"19.9\", \"26.7\", \"29.9\", \"30.4\", \"16.6\", \"22.3\", \"26.0\", \"19.9\", \"23.8\", \"29.9\", \"27.3\", \"23.3\", \"3.3\", \"26.8\", \"23.3\", \"23.9\", \"16.6\", \"16.6\", \"16.6\", \"23.3\", \"31.0\", \"23.3\", \"23.3\", \"20.1\", \"16.6\", \"19.9\", \"26.6\", \"27.7\", \"23.3\", \"24.3\", \"16.6\", \"26.6\", \"16.6\", \"31.4\", \"25.6\", \"23.3\", \"26.6\", \"26.6\", \"24.3\", \"23.3\", \"27.7\", \"23.3\", \"6.6\", \"24.6\", \"22.3\", \"23.3\", \"23.3\", \"23.3\", \"28.9\", \"29.9\", \"26.6\", \"23.3\", \"26.6\", \"19.9\", \"27.4\", \"23.3\", \"23.3\", \"26.6\", \"22.3\", \"29.3\", \"23.3\", \"22.3\", \"25.6\", \"25.6\", \"26.6\", \"26.6\", \"22.3\", \"27.0\", \"22.3\", \"23.3\", \"19.9\", \"23.3\", \"19.9\", \"23.3\", \"30.8\", \"23.3\", \"22.3\", \"19.9\", \"25.6\", \"22.3\", \"19.9\", \"23.8\", \"26.7\", \"10.0\", \"23.3\", \"23.3\", \"19.9\", \"25.6\", \"26.6\", \"25.6\", \"30.3\", \"26.6\", \"26.6\", \"23.3\", \"22.3\", \"23.5\", \"19.9\", \"23.3\", \"23.4\", \"25.6\", \"30.6\", \"23.3\", \"19.9\", \"23.3\", \"30.0\", \"28.2\", \"19.9\", \"19.9\", \"23.3\", \"24.3\", \"22.3\", \"28.1\", \"26.6\", \"2.3\", \"25.6\", \"27.2\", \"18.9\", \"6.6\", \"23.3\", \"30.1\", \"29.9\", \"15.6\", \"27.2\", \"23.3\", \"19.9\", \"26.6\", \"27.7\", \"18.9\", \"30.0\", \"16.6\", \"26.6\", \"26.6\", \"10.0\", \"25.8\", \"23.3\", \"26.7\", \"19.9\", \"16.6\", \"29.3\", \"23.4\", \"19.9\", \"22.3\", \"26.6\", \"22.3\", \"19.9\", \"27.8\", \"19.9\", \"19.9\", \"29.4\", \"29.7\", \"22.5\", \"23.8\", \"26.6\", \"26.7\", \"23.3\", \"26.3\", \"23.3\", \"26.6\", \"26.6\", \"20.9\", \"19.9\", \"26.6\", \"16.6\", \"30.5\", \"19.9\", \"16.6\", \"26.6\", \"25.9\", \"23.3\", \"24.3\", \"23.3\", \"26.6\", \"28.9\", \"29.1\", \"22.3\", \"23.8\", \"26.6\", \"16.6\", \"23.4\", \"22.3\", \"22.3\", \"28.5\", \"22.3\", \"19.9\", \"22.3\", \"26.6\", \"29.9\", \"25.1\", \"23.3\", \"22.3\", \"22.3\", \"29.6\", \"25.6\", \"26.6\", \"26.6\", \"23.3\", \"27.7\", \"26.6\", \"23.3\", \"28.2\", \"19.9\", \"24.6\", \"28.7\", \"26.6\", \"19.9\", \"25.6\", \"23.3\", \"19.9\", \"18.9\", \"19.9\", \"30.9\", \"23.3\", \"24.3\", \"26.8\", \"26.6\", \"28.8\", \"23.3\", \"19.9\", \"18.9\", \"19.9\", \"26.6\", \"23.3\", \"30.5\", \"26.6\", \"23.3\", \"27.2\", \"23.3\", \"27.4\", \"16.6\", \"23.3\", \"26.6\", \"19.9\", \"25.6\", \"23.3\", \"23.3\", \"28.1\", \"23.8\", \"15.6\", \"25.6\", \"23.3\", \"22.3\", \"28.6\", \"19.9\", \"29.0\", \"27.6\", \"26.6\", \"18.9\", \"29.0\", \"26.6\", \"26.1\", \"15.6\", \"28.7\", \"23.3\", \"23.3\", \"26.7\", \"22.3\", \"23.3\", \"29.9\", \"23.3\", \"16.6\", \"28.3\", \"23.3\", \"23.3\", \"26.7\", \"16.6\", \"23.3\", \"22.3\", \"29.0\", \"19.9\", \"25.6\", \"25.6\", \"25.6\", \"23.3\", \"29.1\", \"23.3\", \"22.3\", \"23.3\", \"29.2\", \"25.6\", \"22.5\", \"30.1\", \"25.6\", \"23.3\", \"19.9\", \"19.9\", \"19.9\", \"25.6\", \"30.2\", \"26.6\", \"19.9\", \"20.9\", \"23.3\", \"23.3\", \"26.8\", \"25.6\", \"23.3\", \"30.0\", \"28.0\", \"25.6\", \"26.7\", \"24.3\", \"22.3\", \"27.9\", \"23.3\", \"22.3\", \"19.9\", \"23.3\", \"29.8\", \"23.3\", \"26.6\", \"28.4\", \"25.6\", \"29.0\", \"19.9\", \"24.6\", \"28.1\", \"26.6\", \"31.0\", \"25.6\", \"26.6\", \"23.3\", \"31.5\", \"23.3\", \"27.6\", \"29.4\", \"23.3\", \"22.5\", \"25.5\", \"25.8\", \"23.3\", \"25.6\", \"30.1\", \"26.8\", \"26.6\", \"19.9\", \"25.6\", \"30.3\", \"26.6\", \"22.3\", \"29.7\", \"23.3\", \"18.9\", \"29.0\", \"23.3\", \"23.3\", \"30.1\", \"27.9\", \"25.6\", \"28.9\", \"26.6\", \"28.9\", \"27.2\", \"27.9\", \"25.6\", \"27.5\", \"26.6\", \"23.3\", \"31.8\", \"28.3\", \"13.3\", \"22.3\", \"25.6\", \"32.6\", \"25.6\", \"26.7\", \"19.9\", \"29.3\", \"27.0\", \"23.3\", \"23.3\", \"26.6\", \"26.6\", \"23.9\", \"28.2\", \"26.1\", \"27.0\", \"28.9\", \"27.9\", \"23.9\", \"23.8\", \"26.4\", \"27.8\", \"27.0\", \"26.6\", \"24.8\", \"26.6\", \"26.5\", \"23.3\", \"30.2\", \"26.2\", \"27.6\", \"25.6\", \"27.6\", \"25.8\", \"29.0\", \"30.1\", \"23.3\", \"28.7\", \"23.3\", \"29.6\", \"28.6\"], \"z\": [\"Free\", \"Free\", \"Free\", \"Free\", \"Free\", \"Free\", \"Free\", \"Free\", \"Free\", \"Free\", \"Free\", \"Free\", \"Free\", \"Free\", \"Free\", \"Free\", \"Free\", \"Free\", \"Free\", \"Free\", \"Free\", \"Free\", \"Free\", \"Free\", \"Free\", \"Free\", \"Free\", \"Free\", \"Free\", \"Free\", \"Free\", \"Free\", \"Free\", \"Free\", \"Free\", \"Free\", \"Free\", \"Free\", \"Free\", \"Free\", \"Free\", \"Free\", \"Free\", \"Free\", \"Free\", \"Free\", \"Free\", \"Free\", \"Free\", \"Free\", \"Free\", \"Free\", \"Free\", \"Free\", \"Free\", \"Free\", \"Free\", \"Free\", \"Free\", \"Free\", \"Free\", \"Free\", \"Free\", \"Free\", \"Free\", \"Free\", \"Free\", \"Free\", \"Free\", \"Free\", \"Free\", \"Free\", \"Free\", \"Free\", \"Free\", \"Free\", \"Free\", \"Free\", \"Free\", \"Free\", \"Free\", \"Free\", \"Free\", \"Free\", \"Free\", \"Free\", \"Free\", \"Free\", \"Free\", \"Free\", \"Free\", \"Free\", \"Free\", \"Free\", \"Free\", \"Free\", \"Free\", \"Free\", \"Free\", \"Free\", \"Free\", \"Free\", \"Free\", \"Free\", \"Free\", \"Free\", \"Free\", \"Free\", \"Free\", \"Free\", \"Free\", \"Free\", \"Free\", \"Free\", \"Free\", \"Free\", \"Free\", \"Free\", \"Free\", \"Free\", \"Free\", \"Free\", \"Free\", \"Free\", \"Free\", \"Free\", \"Free\", \"Free\", \"Free\", \"Free\", \"Free\", \"Free\", \"Free\", \"Free\", \"Free\", \"Free\", \"Free\", \"Free\", \"Free\", \"Free\", \"Free\", \"Free\", \"Free\", \"Free\", \"Free\", \"Free\", \"Free\", \"Free\", \"Free\", \"Free\", \"Free\", \"Free\", \"Free\", \"Free\", \"Free\", \"Free\", \"Free\", \"Free\", \"Free\", \"Free\", \"Free\", \"Free\", \"Free\", \"Free\", \"Free\", \"Free\", \"Free\", \"Free\", \"Free\", \"Free\", \"Free\", \"Free\", \"Free\", \"Free\", \"Free\", \"Free\", \"Free\", \"Free\", \"Free\", \"Free\", \"Free\", \"Free\", \"Free\", \"Free\", \"Free\", \"Free\", \"Free\", \"Free\", \"Free\", \"Free\", \"Free\", \"Free\", \"Free\", \"Free\", \"Free\", \"Free\", \"Free\", \"Free\", \"Free\", \"Free\", \"Free\", \"Free\", \"Free\", \"Free\", \"Free\", \"Free\", \"Free\", \"Free\", \"Free\", \"Free\", \"Free\", \"Free\", \"Free\", \"Free\", \"Free\", \"Free\", \"Free\", \"Free\", \"Free\", \"Free\", \"Free\", \"Free\", \"Free\", \"Free\", \"Free\", \"Free\", \"Free\", \"Free\", \"Free\", \"Free\", \"Free\", \"Free\", \"Free\", \"Free\", \"Free\", \"Free\", \"Free\", \"Free\", \"Free\", \"Free\", \"Free\", \"Free\", \"Free\", \"Free\", \"Free\", \"Free\", \"Free\", \"Free\", \"Free\", \"Free\", \"Free\", \"Free\", \"Free\", \"Free\", \"Free\", \"Free\", \"Free\", \"Free\", \"Free\", \"Free\", \"Free\", \"Free\", \"Free\", \"Free\", \"Free\", \"Free\", \"Free\", \"Free\", \"Free\", \"Free\", \"Free\", \"Free\", \"Free\", \"Free\", \"Free\", \"Free\", \"Free\", \"Free\", \"Free\", \"Free\", \"Free\", \"Free\", \"Free\", \"Free\", \"Free\", \"Free\", \"Free\", \"Free\", \"Free\", \"Free\", \"Free\", \"Free\", \"Free\", \"Free\", \"Free\", \"Free\", \"Free\", \"Free\", \"Free\", \"Free\", \"Free\", \"Free\", \"Free\", \"Free\", \"Free\", \"Free\", \"Free\", \"Free\", \"Free\", \"Free\", \"Free\", \"Free\", \"Free\", \"Free\", \"Free\", \"Free\", \"Free\", \"Free\", \"Free\", \"Free\", \"Free\", \"Free\", \"Free\", \"Free\", \"Free\", \"Free\", \"Free\", \"Free\", \"Free\", \"Free\", \"Free\", \"Free\", \"Free\", \"Free\", \"Free\", \"Free\", \"Free\", \"Free\", \"Free\", \"Free\", \"Free\", \"Free\", \"Free\", \"Free\", \"Free\", \"Free\", \"Free\", \"Free\", \"Free\", \"Free\", \"Free\", \"Free\", \"Free\", \"Free\", \"Free\", \"Free\", \"Free\", \"Free\", \"Free\", \"Free\", \"Free\", \"Free\", \"Free\", \"Free\", \"Free\", \"Free\", \"Free\", \"Free\", \"Free\", \"Free\", \"Free\", \"Free\", \"Free\", \"Free\", \"Free\", \"Free\", \"Free\", \"Free\", \"Free\", \"Free\", \"Free\", \"Free\", \"Free\", \"Free\", \"Free\", \"Free\", \"Free\", \"Free\", \"Free\", \"Free\", \"Free\", \"Free\", \"Free\", \"Free\", \"Free\", \"Free\", \"Free\", \"Free\", \"Free\", \"Free\", \"Free\", \"Free\", \"Free\", \"Free\", \"Free\", \"Free\", \"Free\", \"Free\", \"Free\", \"Free\", \"Free\", \"Free\", \"Free\", \"Free\", \"Free\", \"Free\", \"Free\", \"Free\", \"Free\", \"Free\", \"Free\", \"Free\", \"Free\", \"Free\", \"Free\", \"Free\", \"Free\", \"Free\", \"Free\", \"Free\", \"Free\", \"Free\", \"Free\", \"Free\", \"Free\", \"Free\", \"Free\", \"Free\", \"Free\", \"Free\", \"Free\", \"Free\", \"Free\", \"Free\", \"Free\", \"Free\", \"Free\", \"Free\", \"Free\", \"Free\", \"Free\", \"Free\", \"Free\", \"Free\", \"Free\", \"Free\", \"Free\", \"Free\", \"Free\", \"Free\", \"Free\", \"Free\", \"Free\", \"Free\", \"Free\", \"Free\", \"Free\", \"Free\", \"Free\", \"Free\", \"Free\", \"Free\", \"Free\", \"Free\", \"Free\", \"Free\", \"Free\", \"Free\", \"Free\", \"Free\", \"Free\", \"Free\", \"Free\", \"Free\", \"Free\", \"Free\", \"Free\", \"Free\", \"Free\", \"Free\", \"Free\", \"Free\", \"Free\", \"Free\", \"Free\", \"Free\", \"Free\", \"Free\", \"Free\", \"Free\", \"Free\", \"Free\", \"Free\", \"Free\", \"Free\", \"Free\", \"Free\", \"Free\", \"Free\", \"Free\", \"Free\", \"Free\", \"Free\", \"Free\", \"Free\", \"Free\", \"Free\", \"Free\", \"Free\", \"Free\", \"Free\", \"Free\", \"Free\", \"Free\", \"Free\", \"Free\", \"Free\", \"Free\", \"Free\", \"Free\", \"Free\", \"Free\", \"Free\", \"Free\", \"Free\", \"Free\", \"Free\", \"Free\", \"Free\", \"Free\", \"Free\", \"Free\", \"Free\", \"Free\", \"Free\", \"Free\", \"Free\", \"Free\", \"Free\", \"Free\", \"Free\", \"Free\", \"Free\", \"Free\", \"Free\", \"Free\", \"Free\", \"Free\", \"Free\", \"Free\", \"Free\", \"Free\", \"Free\", \"Free\", \"Free\", \"Free\", \"Free\", \"Free\", \"Free\", \"Free\", \"Free\", \"Free\", \"Free\", \"Free\", \"Free\", \"Free\", \"Free\", \"Free\", \"Free\", \"Free\", \"Free\", \"Free\", \"Free\", \"Free\", \"Free\", \"Free\", \"Free\", \"Free\", \"Free\", \"Free\", \"Free\", \"Free\", \"Free\", \"Free\", \"Free\", \"Free\", \"Free\", \"Free\", \"Free\", \"Free\", \"Free\", \"Free\", \"Free\", \"Free\", \"Free\", \"Free\", \"Free\", \"Free\", \"Free\", \"Free\", \"Free\", \"Free\", \"Free\", \"Free\", \"Free\", \"Free\", \"Free\", \"Free\", \"Free\", \"Free\", \"Free\", \"Free\", \"Free\", \"Free\", \"Free\", \"Free\", \"Free\", \"Free\", \"Free\", \"Free\", \"Free\", \"Free\", \"Free\", \"Free\", \"Free\", \"Free\", \"Free\", \"Free\", \"Free\", \"Free\", \"Free\", \"Free\", \"Free\", \"Free\", \"Free\", \"Free\", \"Free\", \"Free\", \"Free\", \"Free\", \"Free\", \"Free\", \"Free\", \"Free\", \"Free\", \"Free\", \"Free\", \"Free\", \"Free\", \"Free\", \"Free\", \"Free\", \"Free\", \"Free\", \"Free\", \"Free\", \"Free\", \"Free\", \"Free\", \"Free\", \"Free\", \"Free\", \"Free\", \"Free\", \"Free\", \"Free\", \"Free\", \"Free\", \"Free\", \"Free\", \"Free\", \"Free\", \"Free\", \"Free\", \"Free\", \"Free\", \"Free\", \"Free\", \"Free\", \"Free\", \"Free\", \"Free\", \"Free\", \"Free\", \"Free\", \"Free\", \"Free\", \"Free\", \"Free\", \"Free\", \"Free\", \"Free\", \"Free\", \"Free\", \"Free\", \"Free\", \"Free\", \"Free\", \"Free\", \"Free\", \"Free\", \"Free\", \"Free\", \"Free\", \"Free\", \"Free\", \"Free\", \"Free\", \"Free\", \"Free\", \"Free\", \"Free\", \"Free\", \"Free\", \"Free\", \"Free\", \"Free\", \"Free\", \"Free\", \"Free\", \"Free\", \"Free\", \"Free\", \"Free\", \"Free\", \"Free\", \"Free\", \"Free\", \"Free\", \"Free\", \"Free\", \"Free\", \"Free\", \"Free\", \"Free\", \"Free\", \"Free\", \"Free\", \"Free\", \"Free\", \"Free\", \"Free\", \"Free\", \"Free\", \"Free\", \"Free\", \"Free\", \"Free\", \"Free\", \"Free\", \"Free\", \"Free\", \"Free\", \"Free\", \"Free\", \"Free\", \"Free\", \"Free\", \"Free\", \"Free\", \"Free\", \"Free\", \"Free\", \"Free\", \"Free\", \"Free\", \"Free\", \"Free\", \"Free\", \"Free\", \"Free\", \"Free\", \"Free\", \"Free\", \"Free\", \"Free\", \"Free\", \"Free\", \"Free\", \"Free\", \"Free\", \"Free\", \"Free\", \"Free\", \"Free\", \"Free\", \"Free\", \"Free\", \"Free\", \"Free\", \"Free\", \"Free\", \"Free\", \"Free\", \"Free\", \"Free\", \"Free\", \"Free\", \"Free\", \"Free\", \"Free\", \"Free\", \"Free\", \"Free\", \"Free\", \"Free\", \"Free\", \"Free\", \"Free\", \"Free\", \"Free\", \"Free\", \"Free\", \"Free\", \"Free\", \"Free\", \"Free\", \"Free\", \"Free\", \"Free\", \"Free\", \"Free\", \"Free\", \"Free\", \"Free\", \"Free\", \"Free\", \"Free\", \"Free\", \"Free\", \"Free\", \"Free\", \"Free\", \"Free\", \"Free\", \"Free\", \"Free\", \"Free\", \"Free\", \"Free\", \"Free\", \"Free\", \"Free\", \"Free\", \"Free\", \"Free\", \"Free\", \"Free\", \"Free\", \"Free\", \"Free\", \"Free\", \"Free\", \"Free\", \"Free\", \"Free\", \"Free\", \"Free\", \"Free\", \"Free\", \"Free\", \"Free\", \"Free\", \"Free\", \"Free\", \"Free\", \"Free\", \"Free\", \"Free\", \"Free\", \"Free\", \"Free\", \"Free\", \"Free\", \"Free\", \"Free\", \"Free\", \"Free\", \"Free\", \"Free\", \"Free\", \"Free\", \"Free\", \"Free\", \"Free\", \"Free\", \"Free\", \"Free\", \"Free\", \"Free\", \"Free\", \"Free\", \"Free\", \"Free\", \"Free\", \"Free\", \"Free\", \"Free\", \"Free\", \"Free\", \"Free\", \"Free\", \"Free\", \"Free\", \"Free\", \"Free\", \"Free\", \"Free\", \"Free\", \"Free\", \"Free\", \"Free\", \"Free\", \"Free\", \"Free\", \"Free\", \"Free\", \"Free\", \"Free\", \"Free\", \"Free\", \"Free\", \"Free\", \"Free\", \"Free\", \"Free\", \"Free\", \"Free\", \"Free\", \"Free\", \"Free\", \"Free\", \"Free\", \"Free\", \"Free\", \"Free\", \"Free\", \"Free\", \"Free\", \"Free\", \"Free\", \"Free\", \"Free\", \"Free\", \"Free\", \"Free\", \"Free\", \"Free\", \"Free\", \"Free\", \"Free\", \"Free\", \"Free\", \"Free\", \"Free\", \"Free\", \"Free\", \"Free\", \"Free\", \"Free\", \"Free\", \"Free\", \"Free\", \"Free\", \"Free\", \"Free\", \"Free\", \"Free\", \"Free\", \"Free\", \"Free\", \"Free\", \"Free\", \"Free\", \"Free\", \"Free\", \"Free\", \"Free\", \"Free\", \"Free\", \"Free\", \"Free\", \"Free\", \"Free\", \"Free\", \"Free\", \"Free\", \"Free\", \"Free\", \"Free\", \"Free\", \"Free\", \"Free\", \"Free\", \"Free\", \"Free\", \"Free\", \"Free\", \"Free\", \"Free\", \"Free\", \"Free\", \"Free\", \"Free\", \"Free\", \"Free\", \"Free\", \"Free\", \"Free\", \"Free\", \"Free\", \"Free\", \"Free\", \"Free\", \"Free\", \"Free\", \"Free\", \"Free\", \"Free\", \"Free\", \"Free\", \"Free\", \"Free\", \"Free\", \"Free\", \"Free\", \"Free\", \"Free\", \"Free\", \"Free\", \"Free\", \"Free\", \"Free\", \"Free\", \"Free\", \"Free\", \"Free\", \"Free\", \"Free\", \"Free\", \"Free\", \"Free\", \"Free\", \"Free\", \"Free\", \"Free\", \"Free\", \"Free\", \"Free\", \"Free\", \"Free\", \"Free\", \"Free\", \"Free\", \"Free\", \"Free\", \"Free\", \"Free\", \"Free\", \"Free\", \"Free\", \"Free\", \"Free\", \"Free\", \"Free\", \"Free\", \"Free\", \"Free\", \"Free\", \"Free\", \"Free\", \"Free\", \"Free\", \"Free\", \"Free\", \"Free\", \"Free\", \"Free\", \"Free\", \"Free\", \"Free\", \"Free\", \"Free\", \"Free\", \"Free\", \"Free\", \"Free\", \"Free\", \"Free\", \"Free\", \"Free\", \"Free\", \"Free\", \"Free\", \"Free\", \"Free\", \"Free\", \"Free\", \"Free\", \"Free\", \"Free\", \"Free\", \"Free\", \"Free\", \"Free\", \"Free\", \"Free\", \"Free\", \"Free\", \"Free\", \"Free\", \"Free\", \"Free\", \"Free\", \"Free\", \"Free\", \"Free\", \"Free\", \"Free\", \"Free\", \"Free\", \"Free\", \"Free\", \"Free\", \"Free\", \"Free\", \"Free\", \"Free\", \"Free\", \"Free\", \"Free\", \"Free\", \"Free\", \"Free\", \"Free\", \"Free\", \"Free\", \"Free\", \"Free\", \"Free\", \"Free\", \"Free\", \"Free\", \"Free\", \"Free\", \"Free\", \"Free\", \"Free\", \"Free\", \"Free\", \"Free\", \"Free\", \"Free\", \"Free\", \"Free\", \"Free\", \"Free\", \"Free\", \"Free\", \"Free\", \"Free\", \"Free\", \"Free\", \"Free\", \"Free\", \"Free\", \"Free\", \"Free\", \"Free\", \"Free\", \"Free\", \"Free\", \"Free\", \"Free\", \"Free\", \"Free\", \"Free\", \"Free\", \"Free\", \"Free\"]}, {\"hoverlabel\": {\"namelength\": 0}, \"hovertemplate\": \"Type=%{z}<br>Size=%{x}<br>log2 installs=%{y}\", \"legendgroup\": \"Type=Paid\", \"marker\": {\"color\": \"#EF553B\", \"symbol\": \"circle\"}, \"mode\": \"markers\", \"name\": \"Type=Paid\", \"scene\": \"scene\", \"showlegend\": true, \"type\": \"scatter3d\", \"x\": [0.014, 0.017, 0.018, 0.024, 0.025, 0.026, 0.027, 0.029, 0.05, 0.051, 0.058, 0.081, 0.082, 0.089, 0.097, 0.141, 0.143, 0.144, 0.157, 0.16, 0.17, 0.172, 0.173, 0.196, 0.206, 0.237, 0.238, 0.266, 0.269, 0.27, 0.288, 0.293, 0.313, 0.319, 0.375, 0.376, 0.378, 0.383, 0.42, 0.421, 0.473, 0.5, 0.516, 0.549, 0.629, 0.655, 0.663, 0.688, 0.704, 0.754, 0.779, 0.78, 0.842, 0.857, 0.861, 0.862, 0.872, 0.899, 0.902, 0.94, 0.948, 0.951, 0.954, 0.957, 0.965, 1.0, 1.02, 1.1, 1.2, 1.3, 1.4, 1.5, 1.5666666666666667, 1.6, 1.7, 1.8, 1.9, 2.0, 2.1, 2.2, 2.3, 2.4, 2.5, 2.6, 2.7, 2.8, 2.9, 3.0, 3.1, 3.2, 3.3, 3.4, 3.5, 3.6, 3.7, 3.8, 3.9, 3.933333333333333, 4.0, 4.1, 4.1000000000000005, 4.2, 4.3, 4.4, 4.5, 4.6, 4.7, 4.8, 4.85, 4.9, 5.0, 5.0285, 5.1, 5.153, 5.2, 5.3, 5.4, 5.5, 5.7, 5.8, 5.9, 6.0, 6.1, 6.2, 6.3, 6.300000000000001, 6.4, 6.5, 6.6, 6.6499999999999995, 6.7, 6.8, 6.800000000000001, 6.9, 7.0, 7.2, 7.3, 7.3999999999999995, 7.4, 7.7, 7.8, 7.8999999999999995, 7.9, 7.95, 8.0, 8.1, 8.2, 8.3, 8.333333333333332, 8.4, 8.5, 8.6, 8.666666666666668, 8.7, 8.8, 8.85, 8.9, 9.0, 9.1, 9.3, 9.4, 9.5, 9.6, 9.7, 9.8, 9.9, 10.0, 10.733333333333333, 10.8, 11.0, 11.15, 11.350000000000001, 12.0, 12.42, 12.899999999999999, 13.0, 13.285714285714286, 13.366666666666667, 14.0, 14.333333333333334, 14.350000000000001, 14.4, 14.5, 14.899999999999999, 14.950000000000001, 15.0, 15.098, 15.5, 15.8, 16.0, 16.03333333333333, 17.0, 18.0, 18.1, 18.866666666666667, 19.0, 19.666666666666664, 20.0, 21.0, 21.55, 22.0, 22.5, 23.0, 24.0, 24.4, 25.0, 25.333333333333332, 26.0, 27.0, 27.099999999999998, 27.15, 28.0, 29.0, 29.599999999999998, 29.866666666666667, 30.0, 31.0, 32.0, 33.0, 33.666666666666664, 34.0, 35.0, 35.300000000000004, 35.93333333333333, 36.0, 37.0, 38.0, 39.0, 40.0, 40.5, 40.650000000000006, 41.0, 42.0, 43.0, 44.0, 45.0, 45.5, 46.0, 46.5, 47.0, 48.0, 49.0, 50.0, 51.0, 52.5, 53.0, 54.0, 55.0, 55.5, 56.0, 57.0, 58.0, 58.5, 59.0, 60.0, 62.0, 63.0, 64.0, 65.0, 66.0, 67.0, 68.0, 69.0, 70.0, 72.0, 73.0, 74.0, 76.0, 77.0, 78.0, 79.0, 81.0, 82.0, 83.0, 84.0, 85.0, 86.0, 87.0, 92.0, 93.0, 94.0, 95.0, 96.0, 99.0, 100.0], \"y\": [\"10.0\", \"16.6\", \"6.6\", \"10.0\", \"13.3\", \"12.6\", \"10.0\", \"10.0\", \"18.9\", \"9.0\", \"13.3\", \"6.6\", \"10.0\", \"5.6\", \"5.6\", \"12.6\", \"12.3\", \"12.3\", \"6.6\", \"12.3\", \"12.3\", \"2.3\", \"16.6\", \"12.3\", \"10.0\", \"3.3\", \"0.0\", \"10.0\", \"3.3\", \"10.0\", \"13.3\", \"6.6\", \"12.3\", \"3.3\", \"13.3\", \"9.0\", \"10.0\", \"13.3\", \"13.3\", \"5.6\", \"3.3\", \"6.6\", \"6.6\", \"0.0\", \"5.6\", \"3.3\", \"3.3\", \"2.3\", \"14.3\", \"9.0\", \"13.3\", \"6.6\", \"5.6\", \"9.0\", \"6.6\", \"12.3\", \"19.9\", \"13.3\", \"6.6\", \"3.3\", \"3.3\", \"10.0\", \"9.0\", \"13.3\", \"12.3\", \"12.7\", \"5.6\", \"17.4\", \"14.2\", \"16.6\", \"12.6\", \"11.1\", \"13.3\", \"14.4\", \"13.4\", \"16.9\", \"3.3\", \"16.5\", \"9.6\", \"9.0\", \"15.6\", \"14.6\", \"7.7\", \"14.9\", \"14.1\", \"19.0\", \"15.0\", \"10.0\", \"11.0\", \"-inf\", \"13.4\", \"11.4\", \"12.9\", \"7.7\", \"13.4\", \"13.1\", \"12.3\", \"13.3\", \"12.3\", \"14.4\", \"15.6\", \"16.6\", \"11.1\", \"13.7\", \"13.4\", \"16.6\", \"15.6\", \"11.3\", \"15.6\", \"14.4\", \"12.8\", \"16.6\", \"10.0\", \"15.6\", \"9.0\", \"6.1\", \"15.9\", \"16.8\", \"18.9\", \"15.6\", \"14.0\", \"12.8\", \"15.7\", \"15.6\", \"20.1\", \"13.3\", \"16.6\", \"7.6\", \"18.9\", \"16.6\", \"0.0\", \"17.6\", \"3.3\", \"16.8\", \"6.6\", \"5.6\", \"16.7\", \"10.0\", \"15.6\", \"13.3\", \"16.6\", \"13.3\", \"16.6\", \"13.3\", \"16.6\", \"16.6\", \"3.3\", \"16.9\", \"16.6\", \"14.3\", \"16.6\", \"13.4\", \"6.6\", \"16.7\", \"10.0\", \"13.3\", \"9.0\", \"10.0\", \"10.0\", \"17.6\", \"12.6\", \"17.5\", \"12.3\", \"13.3\", \"15.6\", \"12.3\", \"16.7\", \"19.9\", \"10.0\", \"17.0\", \"12.3\", \"10.0\", \"20.5\", \"9.0\", \"6.6\", \"16.8\", \"16.6\", \"16.6\", \"21.3\", \"10.0\", \"0.0\", \"5.6\", \"16.6\", \"12.3\", \"16.6\", \"18.4\", \"13.3\", \"10.0\", \"16.6\", \"18.1\", \"6.6\", \"16.8\", \"17.7\", \"16.6\", \"12.3\", \"14.2\", \"18.9\", \"17.3\", \"18.2\", \"10.0\", \"14.1\", \"13.3\", \"20.7\", \"20.1\", \"16.6\", \"19.0\", \"16.6\", \"21.6\", \"15.7\", \"15.6\", \"13.3\", \"14.4\", \"23.4\", \"15.6\", \"16.6\", \"16.8\", \"13.3\", \"12.3\", \"17.3\", \"23.3\", \"14.6\", \"17.8\", \"16.6\", \"12.3\", \"20.0\", \"18.3\", \"10.0\", \"23.3\", \"19.1\", \"16.6\", \"16.6\", \"16.8\", \"17.2\", \"20.5\", \"20.0\", \"17.2\", \"16.6\", \"16.9\", \"13.3\", \"14.7\", \"21.6\", \"14.3\", \"20.1\", \"10.0\", \"16.6\", \"16.6\", \"6.6\", \"13.3\", \"13.3\", \"-inf\", \"16.6\", \"16.6\", \"0.0\", \"10.0\", \"16.7\", \"15.6\", \"17.7\", \"10.0\", \"10.0\", \"10.0\", \"16.8\", \"11.6\", \"20.1\", \"15.6\", \"10.0\", \"19.9\", \"13.3\", \"5.6\", \"6.6\", \"10.0\", \"12.3\", \"16.6\", \"9.0\", \"14.3\", \"16.6\", \"5.6\", \"15.6\", \"3.3\", \"18.9\", \"15.6\", \"19.9\", \"10.0\", \"19.9\", \"20.1\", \"19.9\"], \"z\": [\"Paid\", \"Paid\", \"Paid\", \"Paid\", \"Paid\", \"Paid\", \"Paid\", \"Paid\", \"Paid\", \"Paid\", \"Paid\", \"Paid\", \"Paid\", \"Paid\", \"Paid\", \"Paid\", \"Paid\", \"Paid\", \"Paid\", \"Paid\", \"Paid\", \"Paid\", \"Paid\", \"Paid\", \"Paid\", \"Paid\", \"Paid\", \"Paid\", \"Paid\", \"Paid\", \"Paid\", \"Paid\", \"Paid\", \"Paid\", \"Paid\", \"Paid\", \"Paid\", \"Paid\", \"Paid\", \"Paid\", \"Paid\", \"Paid\", \"Paid\", \"Paid\", \"Paid\", \"Paid\", \"Paid\", \"Paid\", \"Paid\", \"Paid\", \"Paid\", \"Paid\", \"Paid\", \"Paid\", \"Paid\", \"Paid\", \"Paid\", \"Paid\", \"Paid\", \"Paid\", \"Paid\", \"Paid\", \"Paid\", \"Paid\", \"Paid\", \"Paid\", \"Paid\", \"Paid\", \"Paid\", \"Paid\", \"Paid\", \"Paid\", \"Paid\", \"Paid\", \"Paid\", \"Paid\", \"Paid\", \"Paid\", \"Paid\", \"Paid\", \"Paid\", \"Paid\", \"Paid\", \"Paid\", \"Paid\", \"Paid\", \"Paid\", \"Paid\", \"Paid\", \"Paid\", \"Paid\", \"Paid\", \"Paid\", \"Paid\", \"Paid\", \"Paid\", \"Paid\", \"Paid\", \"Paid\", \"Paid\", \"Paid\", \"Paid\", \"Paid\", \"Paid\", \"Paid\", \"Paid\", \"Paid\", \"Paid\", \"Paid\", \"Paid\", \"Paid\", \"Paid\", \"Paid\", \"Paid\", \"Paid\", \"Paid\", \"Paid\", \"Paid\", \"Paid\", \"Paid\", \"Paid\", \"Paid\", \"Paid\", \"Paid\", \"Paid\", \"Paid\", \"Paid\", \"Paid\", \"Paid\", \"Paid\", \"Paid\", \"Paid\", \"Paid\", \"Paid\", \"Paid\", \"Paid\", \"Paid\", \"Paid\", \"Paid\", \"Paid\", \"Paid\", \"Paid\", \"Paid\", \"Paid\", \"Paid\", \"Paid\", \"Paid\", \"Paid\", \"Paid\", \"Paid\", \"Paid\", \"Paid\", \"Paid\", \"Paid\", \"Paid\", \"Paid\", \"Paid\", \"Paid\", \"Paid\", \"Paid\", \"Paid\", \"Paid\", \"Paid\", \"Paid\", \"Paid\", \"Paid\", \"Paid\", \"Paid\", \"Paid\", \"Paid\", \"Paid\", \"Paid\", \"Paid\", \"Paid\", \"Paid\", \"Paid\", \"Paid\", \"Paid\", \"Paid\", \"Paid\", \"Paid\", \"Paid\", \"Paid\", \"Paid\", \"Paid\", \"Paid\", \"Paid\", \"Paid\", \"Paid\", \"Paid\", \"Paid\", \"Paid\", \"Paid\", \"Paid\", \"Paid\", \"Paid\", \"Paid\", \"Paid\", \"Paid\", \"Paid\", \"Paid\", \"Paid\", \"Paid\", \"Paid\", \"Paid\", \"Paid\", \"Paid\", \"Paid\", \"Paid\", \"Paid\", \"Paid\", \"Paid\", \"Paid\", \"Paid\", \"Paid\", \"Paid\", \"Paid\", \"Paid\", \"Paid\", \"Paid\", \"Paid\", \"Paid\", \"Paid\", \"Paid\", \"Paid\", \"Paid\", \"Paid\", \"Paid\", \"Paid\", \"Paid\", \"Paid\", \"Paid\", \"Paid\", \"Paid\", \"Paid\", \"Paid\", \"Paid\", \"Paid\", \"Paid\", \"Paid\", \"Paid\", \"Paid\", \"Paid\", \"Paid\", \"Paid\", \"Paid\", \"Paid\", \"Paid\", \"Paid\", \"Paid\", \"Paid\", \"Paid\", \"Paid\", \"Paid\", \"Paid\", \"Paid\", \"Paid\", \"Paid\", \"Paid\", \"Paid\", \"Paid\", \"Paid\", \"Paid\", \"Paid\", \"Paid\", \"Paid\", \"Paid\", \"Paid\", \"Paid\", \"Paid\", \"Paid\", \"Paid\", \"Paid\", \"Paid\", \"Paid\", \"Paid\", \"Paid\", \"Paid\", \"Paid\", \"Paid\", \"Paid\", \"Paid\", \"Paid\", \"Paid\", \"Paid\"]}],\n",
              "                        {\"legend\": {\"tracegroupgap\": 0}, \"margin\": {\"t\": 60}, \"scene\": {\"domain\": {\"x\": [0.0, 1.0], \"y\": [0.0, 1.0]}, \"xaxis\": {\"title\": {\"text\": \"Size\"}}, \"yaxis\": {\"title\": {\"text\": \"log2 installs\"}}, \"zaxis\": {\"categoryarray\": [\"Free\", \"Paid\"], \"categoryorder\": \"array\", \"title\": {\"text\": \"Type\"}}}, \"template\": {\"data\": {\"bar\": [{\"error_x\": {\"color\": \"#2a3f5f\"}, \"error_y\": {\"color\": \"#2a3f5f\"}, \"marker\": {\"line\": {\"color\": \"#E5ECF6\", \"width\": 0.5}}, \"type\": \"bar\"}], \"barpolar\": [{\"marker\": {\"line\": {\"color\": \"#E5ECF6\", \"width\": 0.5}}, \"type\": \"barpolar\"}], \"carpet\": [{\"aaxis\": {\"endlinecolor\": \"#2a3f5f\", \"gridcolor\": \"white\", \"linecolor\": \"white\", \"minorgridcolor\": \"white\", \"startlinecolor\": \"#2a3f5f\"}, \"baxis\": {\"endlinecolor\": \"#2a3f5f\", \"gridcolor\": \"white\", \"linecolor\": \"white\", \"minorgridcolor\": \"white\", \"startlinecolor\": \"#2a3f5f\"}, \"type\": \"carpet\"}], \"choropleth\": [{\"colorbar\": {\"outlinewidth\": 0, \"ticks\": \"\"}, \"type\": \"choropleth\"}], \"contour\": [{\"colorbar\": {\"outlinewidth\": 0, \"ticks\": \"\"}, \"colorscale\": [[0.0, \"#0d0887\"], [0.1111111111111111, \"#46039f\"], [0.2222222222222222, \"#7201a8\"], [0.3333333333333333, \"#9c179e\"], [0.4444444444444444, \"#bd3786\"], [0.5555555555555556, \"#d8576b\"], [0.6666666666666666, \"#ed7953\"], [0.7777777777777778, \"#fb9f3a\"], [0.8888888888888888, \"#fdca26\"], [1.0, \"#f0f921\"]], \"type\": \"contour\"}], \"contourcarpet\": [{\"colorbar\": {\"outlinewidth\": 0, \"ticks\": \"\"}, \"type\": \"contourcarpet\"}], \"heatmap\": [{\"colorbar\": {\"outlinewidth\": 0, \"ticks\": \"\"}, \"colorscale\": [[0.0, \"#0d0887\"], [0.1111111111111111, \"#46039f\"], [0.2222222222222222, \"#7201a8\"], [0.3333333333333333, \"#9c179e\"], [0.4444444444444444, \"#bd3786\"], [0.5555555555555556, \"#d8576b\"], [0.6666666666666666, \"#ed7953\"], [0.7777777777777778, \"#fb9f3a\"], [0.8888888888888888, \"#fdca26\"], [1.0, \"#f0f921\"]], \"type\": \"heatmap\"}], \"heatmapgl\": [{\"colorbar\": {\"outlinewidth\": 0, \"ticks\": \"\"}, \"colorscale\": [[0.0, \"#0d0887\"], [0.1111111111111111, \"#46039f\"], [0.2222222222222222, \"#7201a8\"], [0.3333333333333333, \"#9c179e\"], [0.4444444444444444, \"#bd3786\"], [0.5555555555555556, \"#d8576b\"], [0.6666666666666666, \"#ed7953\"], [0.7777777777777778, \"#fb9f3a\"], [0.8888888888888888, \"#fdca26\"], [1.0, \"#f0f921\"]], \"type\": \"heatmapgl\"}], \"histogram\": [{\"marker\": {\"colorbar\": {\"outlinewidth\": 0, \"ticks\": \"\"}}, \"type\": \"histogram\"}], \"histogram2d\": [{\"colorbar\": {\"outlinewidth\": 0, \"ticks\": \"\"}, \"colorscale\": [[0.0, \"#0d0887\"], [0.1111111111111111, \"#46039f\"], [0.2222222222222222, \"#7201a8\"], [0.3333333333333333, \"#9c179e\"], [0.4444444444444444, \"#bd3786\"], [0.5555555555555556, \"#d8576b\"], [0.6666666666666666, \"#ed7953\"], [0.7777777777777778, \"#fb9f3a\"], [0.8888888888888888, \"#fdca26\"], [1.0, \"#f0f921\"]], \"type\": \"histogram2d\"}], \"histogram2dcontour\": [{\"colorbar\": {\"outlinewidth\": 0, \"ticks\": \"\"}, \"colorscale\": [[0.0, \"#0d0887\"], [0.1111111111111111, \"#46039f\"], [0.2222222222222222, \"#7201a8\"], [0.3333333333333333, \"#9c179e\"], [0.4444444444444444, \"#bd3786\"], [0.5555555555555556, \"#d8576b\"], [0.6666666666666666, \"#ed7953\"], [0.7777777777777778, \"#fb9f3a\"], [0.8888888888888888, \"#fdca26\"], [1.0, \"#f0f921\"]], \"type\": \"histogram2dcontour\"}], \"mesh3d\": [{\"colorbar\": {\"outlinewidth\": 0, \"ticks\": \"\"}, \"type\": \"mesh3d\"}], \"parcoords\": [{\"line\": {\"colorbar\": {\"outlinewidth\": 0, \"ticks\": \"\"}}, \"type\": \"parcoords\"}], \"pie\": [{\"automargin\": true, \"type\": \"pie\"}], \"scatter\": [{\"marker\": {\"colorbar\": {\"outlinewidth\": 0, \"ticks\": \"\"}}, \"type\": \"scatter\"}], \"scatter3d\": [{\"line\": {\"colorbar\": {\"outlinewidth\": 0, \"ticks\": \"\"}}, \"marker\": {\"colorbar\": {\"outlinewidth\": 0, \"ticks\": \"\"}}, \"type\": \"scatter3d\"}], \"scattercarpet\": [{\"marker\": {\"colorbar\": {\"outlinewidth\": 0, \"ticks\": \"\"}}, \"type\": \"scattercarpet\"}], \"scattergeo\": [{\"marker\": {\"colorbar\": {\"outlinewidth\": 0, \"ticks\": \"\"}}, \"type\": \"scattergeo\"}], \"scattergl\": [{\"marker\": {\"colorbar\": {\"outlinewidth\": 0, \"ticks\": \"\"}}, \"type\": \"scattergl\"}], \"scattermapbox\": [{\"marker\": {\"colorbar\": {\"outlinewidth\": 0, \"ticks\": \"\"}}, \"type\": \"scattermapbox\"}], \"scatterpolar\": [{\"marker\": {\"colorbar\": {\"outlinewidth\": 0, \"ticks\": \"\"}}, \"type\": \"scatterpolar\"}], \"scatterpolargl\": [{\"marker\": {\"colorbar\": {\"outlinewidth\": 0, \"ticks\": \"\"}}, \"type\": \"scatterpolargl\"}], \"scatterternary\": [{\"marker\": {\"colorbar\": {\"outlinewidth\": 0, \"ticks\": \"\"}}, \"type\": \"scatterternary\"}], \"surface\": [{\"colorbar\": {\"outlinewidth\": 0, \"ticks\": \"\"}, \"colorscale\": [[0.0, \"#0d0887\"], [0.1111111111111111, \"#46039f\"], [0.2222222222222222, \"#7201a8\"], [0.3333333333333333, \"#9c179e\"], [0.4444444444444444, \"#bd3786\"], [0.5555555555555556, \"#d8576b\"], [0.6666666666666666, \"#ed7953\"], [0.7777777777777778, \"#fb9f3a\"], [0.8888888888888888, \"#fdca26\"], [1.0, \"#f0f921\"]], \"type\": \"surface\"}], \"table\": [{\"cells\": {\"fill\": {\"color\": \"#EBF0F8\"}, \"line\": {\"color\": \"white\"}}, \"header\": {\"fill\": {\"color\": \"#C8D4E3\"}, \"line\": {\"color\": \"white\"}}, \"type\": \"table\"}]}, \"layout\": {\"annotationdefaults\": {\"arrowcolor\": \"#2a3f5f\", \"arrowhead\": 0, \"arrowwidth\": 1}, \"coloraxis\": {\"colorbar\": {\"outlinewidth\": 0, \"ticks\": \"\"}}, \"colorscale\": {\"diverging\": [[0, \"#8e0152\"], [0.1, \"#c51b7d\"], [0.2, \"#de77ae\"], [0.3, \"#f1b6da\"], [0.4, \"#fde0ef\"], [0.5, \"#f7f7f7\"], [0.6, \"#e6f5d0\"], [0.7, \"#b8e186\"], [0.8, \"#7fbc41\"], [0.9, \"#4d9221\"], [1, \"#276419\"]], \"sequential\": [[0.0, \"#0d0887\"], [0.1111111111111111, \"#46039f\"], [0.2222222222222222, \"#7201a8\"], [0.3333333333333333, \"#9c179e\"], [0.4444444444444444, \"#bd3786\"], [0.5555555555555556, \"#d8576b\"], [0.6666666666666666, \"#ed7953\"], [0.7777777777777778, \"#fb9f3a\"], [0.8888888888888888, \"#fdca26\"], [1.0, \"#f0f921\"]], \"sequentialminus\": [[0.0, \"#0d0887\"], [0.1111111111111111, \"#46039f\"], [0.2222222222222222, \"#7201a8\"], [0.3333333333333333, \"#9c179e\"], [0.4444444444444444, \"#bd3786\"], [0.5555555555555556, \"#d8576b\"], [0.6666666666666666, \"#ed7953\"], [0.7777777777777778, \"#fb9f3a\"], [0.8888888888888888, \"#fdca26\"], [1.0, \"#f0f921\"]]}, \"colorway\": [\"#636efa\", \"#EF553B\", \"#00cc96\", \"#ab63fa\", \"#FFA15A\", \"#19d3f3\", \"#FF6692\", \"#B6E880\", \"#FF97FF\", \"#FECB52\"], \"font\": {\"color\": \"#2a3f5f\"}, \"geo\": {\"bgcolor\": \"white\", \"lakecolor\": \"white\", \"landcolor\": \"#E5ECF6\", \"showlakes\": true, \"showland\": true, \"subunitcolor\": \"white\"}, \"hoverlabel\": {\"align\": \"left\"}, \"hovermode\": \"closest\", \"mapbox\": {\"style\": \"light\"}, \"paper_bgcolor\": \"white\", \"plot_bgcolor\": \"#E5ECF6\", \"polar\": {\"angularaxis\": {\"gridcolor\": \"white\", \"linecolor\": \"white\", \"ticks\": \"\"}, \"bgcolor\": \"#E5ECF6\", \"radialaxis\": {\"gridcolor\": \"white\", \"linecolor\": \"white\", \"ticks\": \"\"}}, \"scene\": {\"xaxis\": {\"backgroundcolor\": \"#E5ECF6\", \"gridcolor\": \"white\", \"gridwidth\": 2, \"linecolor\": \"white\", \"showbackground\": true, \"ticks\": \"\", \"zerolinecolor\": \"white\"}, \"yaxis\": {\"backgroundcolor\": \"#E5ECF6\", \"gridcolor\": \"white\", \"gridwidth\": 2, \"linecolor\": \"white\", \"showbackground\": true, \"ticks\": \"\", \"zerolinecolor\": \"white\"}, \"zaxis\": {\"backgroundcolor\": \"#E5ECF6\", \"gridcolor\": \"white\", \"gridwidth\": 2, \"linecolor\": \"white\", \"showbackground\": true, \"ticks\": \"\", \"zerolinecolor\": \"white\"}}, \"shapedefaults\": {\"line\": {\"color\": \"#2a3f5f\"}}, \"ternary\": {\"aaxis\": {\"gridcolor\": \"white\", \"linecolor\": \"white\", \"ticks\": \"\"}, \"baxis\": {\"gridcolor\": \"white\", \"linecolor\": \"white\", \"ticks\": \"\"}, \"bgcolor\": \"#E5ECF6\", \"caxis\": {\"gridcolor\": \"white\", \"linecolor\": \"white\", \"ticks\": \"\"}}, \"title\": {\"x\": 0.05}, \"xaxis\": {\"automargin\": true, \"gridcolor\": \"white\", \"linecolor\": \"white\", \"ticks\": \"\", \"title\": {\"standoff\": 15}, \"zerolinecolor\": \"white\", \"zerolinewidth\": 2}, \"yaxis\": {\"automargin\": true, \"gridcolor\": \"white\", \"linecolor\": \"white\", \"ticks\": \"\", \"title\": {\"standoff\": 15}, \"zerolinecolor\": \"white\", \"zerolinewidth\": 2}}}},\n",
              "                        {\"responsive\": true}\n",
              "                    ).then(function(){\n",
              "                            \n",
              "var gd = document.getElementById('72ed9af1-8861-4e39-84e0-6fbfa689de2d');\n",
              "var x = new MutationObserver(function (mutations, observer) {{\n",
              "        var display = window.getComputedStyle(gd).display;\n",
              "        if (!display || display === 'none') {{\n",
              "            console.log([gd, 'removed!']);\n",
              "            Plotly.purge(gd);\n",
              "            observer.disconnect();\n",
              "        }}\n",
              "}});\n",
              "\n",
              "// Listen for the removal of the full notebook cells\n",
              "var notebookContainer = gd.closest('#notebook-container');\n",
              "if (notebookContainer) {{\n",
              "    x.observe(notebookContainer, {childList: true});\n",
              "}}\n",
              "\n",
              "// Listen for the clearing of the current output cell\n",
              "var outputEl = gd.closest('.output');\n",
              "if (outputEl) {{\n",
              "    x.observe(outputEl, {childList: true});\n",
              "}}\n",
              "\n",
              "                        })\n",
              "                };\n",
              "                \n",
              "            </script>\n",
              "        </div>\n",
              "</body>\n",
              "</html>"
            ]
          },
          "metadata": {}
        }
      ]
    },
    {
      "cell_type": "markdown",
      "metadata": {
        "id": "fwqt1OXiPcor"
      },
      "source": [
        "# From above plot, we can see that whether the application is free or paid the application preffered by user is of small size.From above it can also be seen that most preffered application size is of 0 to 20 MB."
      ]
    },
    {
      "cell_type": "markdown",
      "metadata": {
        "id": "2HCpOjkQQjuh"
      },
      "source": [
        "**13. Scatter plot 2D**"
      ]
    },
    {
      "cell_type": "code",
      "metadata": {
        "colab": {
          "base_uri": "https://localhost:8080/",
          "height": 542
        },
        "id": "xaiep-mUPQk-",
        "outputId": "404c7c8a-f7a6-4db5-e8dc-45d5f0ed7d90"
      },
      "source": [
        "#lets plot a 2D scatter graph\n",
        "px.scatter(data_frame=Category_size,x='Size',y='log2 installs',color='Type')"
      ],
      "execution_count": null,
      "outputs": [
        {
          "output_type": "display_data",
          "data": {
            "text/html": [
              "<html>\n",
              "<head><meta charset=\"utf-8\" /></head>\n",
              "<body>\n",
              "    <div>\n",
              "            <script src=\"https://cdnjs.cloudflare.com/ajax/libs/mathjax/2.7.5/MathJax.js?config=TeX-AMS-MML_SVG\"></script><script type=\"text/javascript\">if (window.MathJax) {MathJax.Hub.Config({SVG: {font: \"STIX-Web\"}});}</script>\n",
              "                <script type=\"text/javascript\">window.PlotlyConfig = {MathJaxConfig: 'local'};</script>\n",
              "        <script src=\"https://cdn.plot.ly/plotly-latest.min.js\"></script>    \n",
              "            <div id=\"15a4b4fb-31ea-4ce3-b0b9-7d90409539e3\" class=\"plotly-graph-div\" style=\"height:525px; width:100%;\"></div>\n",
              "            <script type=\"text/javascript\">\n",
              "                \n",
              "                    window.PLOTLYENV=window.PLOTLYENV || {};\n",
              "                    \n",
              "                if (document.getElementById(\"15a4b4fb-31ea-4ce3-b0b9-7d90409539e3\")) {\n",
              "                    Plotly.newPlot(\n",
              "                        '15a4b4fb-31ea-4ce3-b0b9-7d90409539e3',\n",
              "                        [{\"hoverlabel\": {\"namelength\": 0}, \"hovertemplate\": \"Type=Free<br>Size=%{x}<br>log2 installs=%{y}\", \"legendgroup\": \"Type=Free\", \"marker\": {\"color\": \"#636efa\", \"symbol\": \"circle\"}, \"mode\": \"markers\", \"name\": \"Type=Free\", \"showlegend\": true, \"type\": \"scattergl\", \"x\": [0.0085, 0.011, 0.018, 0.02, 0.023, 0.028, 0.029, 0.033, 0.034, 0.039, 0.041, 0.044, 0.045, 0.048, 0.051, 0.054, 0.055, 0.058, 0.061, 0.067, 0.07, 0.072, 0.073, 0.074, 0.078, 0.079, 0.091, 0.093, 0.103, 0.108, 0.116, 0.118, 0.121, 0.122, 0.153, 0.154, 0.161, 0.164, 0.169, 0.172, 0.175, 0.176, 0.186, 0.19, 0.191, 0.192, 0.193, 0.196, 0.2, 0.201, 0.203, 0.206, 0.208, 0.209, 0.21, 0.219, 0.22, 0.221, 0.222, 0.226, 0.228, 0.232, 0.234, 0.239, 0.24, 0.241, 0.243, 0.245, 0.246, 0.251, 0.253, 0.257, 0.259, 0.266, 0.28, 0.283, 0.292, 0.306, 0.308, 0.309, 0.314, 0.317, 0.318, 0.322, 0.323, 0.329, 0.334, 0.335, 0.35, 0.351, 0.353, 0.364, 0.371, 0.373, 0.375, 0.387, 0.4, 0.404, 0.411, 0.412, 0.414, 0.417, 0.429, 0.43, 0.437, 0.4385, 0.442, 0.444, 0.454, 0.458, 0.459, 0.46, 0.467, 0.47, 0.473, 0.475, 0.478, 0.485, 0.496, 0.498, 0.499, 0.506, 0.511, 0.514, 0.518, 0.523, 0.525, 0.526, 0.54, 0.544, 0.545, 0.551, 0.552, 0.554, 0.556, 0.562, 0.569, 0.582, 0.585, 0.592, 0.597, 0.598, 0.6, 0.601, 0.608, 0.609, 0.613, 0.619, 0.624, 0.626, 0.636, 0.642, 0.643, 0.647, 0.656, 0.658, 0.676, 0.683, 0.6885, 0.691, 0.695, 0.696, 0.705, 0.713, 0.714, 0.716, 0.717, 0.72, 0.721, 0.728, 0.73, 0.743, 0.746, 0.749, 0.756, 0.772, 0.775, 0.778, 0.782, 0.784, 0.785, 0.787, 0.801, 0.809, 0.811, 0.812, 0.816, 0.818, 0.837, 0.84, 0.842, 0.847, 0.853, 0.86, 0.8614999999999999, 0.865, 0.874, 0.879, 0.881, 0.885, 0.887, 0.892, 0.898, 0.903, 0.904, 0.913, 0.914, 0.916, 0.92, 0.921, 0.924, 0.93, 0.939, 0.942, 0.948, 0.953, 0.957, 0.961, 0.963, 0.97, 0.975, 0.976, 0.98, 0.981, 0.982, 0.986, 0.992, 0.994, 1.0, 1.0820000000000003, 1.1, 1.1360000000000001, 1.1475, 1.2, 1.236, 1.291, 1.3, 1.4, 1.421, 1.4505000000000001, 1.4666666666666668, 1.5, 1.5166666666666666, 1.6, 1.6333333333333333, 1.7, 1.7000000000000002, 1.7080000000000002, 1.7999999999999998, 1.8, 1.9, 1.95, 1.9666666666666666, 2.0, 2.05, 2.1, 2.1333333333333333, 2.141, 2.2, 2.219333333333333, 2.2255000000000003, 2.25, 2.3, 2.4, 2.45, 2.5, 2.5083333333333333, 2.5084999999999997, 2.521, 2.6, 2.6365, 2.6500000000000004, 2.7, 2.75, 2.8, 2.8333333333333335, 2.85, 2.9, 2.9000000000000004, 2.95, 2.9666666666666663, 3.0, 3.025, 3.05, 3.1, 3.1333333333333333, 3.15, 3.1666666666666665, 3.2, 3.25, 3.3, 3.333333333333334, 3.35, 3.366666666666667, 3.3999999999999995, 3.4, 3.409, 3.466666666666667, 3.475, 3.4960000000000004, 3.5, 3.55, 3.5629999999999997, 3.6, 3.6333333333333337, 3.65, 3.6596666666666664, 3.6605000000000003, 3.7, 3.733333333333333, 3.8, 3.8499999999999996, 3.85, 3.9, 3.9425, 3.9499999999999997, 3.95, 4.0, 4.022, 4.033333333333333, 4.05, 4.066666666666666, 4.1, 4.15, 4.166666666666666, 4.199999999999999, 4.2, 4.242, 4.25, 4.266666666666667, 4.3, 4.4, 4.5, 4.55, 4.554, 4.566666666666666, 4.6, 4.633333333333333, 4.65, 4.7, 4.75, 4.8, 4.85, 4.9, 4.933333333333334, 5.0, 5.014, 5.05, 5.066666666666666, 5.083333333333334, 5.1, 5.15, 5.175, 5.2, 5.25, 5.3, 5.35, 5.4, 5.449999999999999, 5.45, 5.466666666666667, 5.47, 5.5, 5.566666666666666, 5.6, 5.6000000000000005, 5.6205, 5.633333333333333, 5.633333333333335, 5.65, 5.699999999999999, 5.7, 5.745333333333333, 5.75, 5.8, 5.833333333333333, 5.85, 5.9, 5.95, 5.966666666666667, 6.0, 6.050000000000001, 6.1, 6.133333333333334, 6.15, 6.2, 6.249, 6.25, 6.3, 6.333333333333333, 6.333333333333334, 6.3999999999999995, 6.4, 6.433333333333334, 6.45, 6.5, 6.55, 6.6, 6.65, 6.659, 6.666666666666667, 6.675000000000001, 6.7, 6.75, 6.760833333333334, 6.8, 6.800000000000001, 6.85, 6.9, 6.933333333333334, 6.949999999999999, 7.0, 7.033333333333333, 7.0365, 7.1, 7.133333333333334, 7.15, 7.199999999999999, 7.2, 7.25, 7.3, 7.314285714285715, 7.348, 7.35, 7.375, 7.4, 7.5, 7.55, 7.6, 7.65, 7.68, 7.7, 7.700000000000001, 7.733333333333333, 7.75, 7.766666666666667, 7.8, 7.85, 7.866666666666666, 7.875, 7.88, 7.9, 7.933333333333334, 7.949999999999999, 7.95, 8.0, 8.05, 8.059, 8.066666666666666, 8.098, 8.1, 8.125, 8.133333333333333, 8.149999999999999, 8.15, 8.2, 8.24, 8.25, 8.266666666666666, 8.28, 8.3, 8.32, 8.36, 8.386000000000001, 8.4, 8.428571428571429, 8.45, 8.466666666666665, 8.475, 8.5, 8.509, 8.55, 8.566666666666666, 8.6, 8.616666666666667, 8.649999999999999, 8.7, 8.733333333333334, 8.75, 8.8, 8.899999999999999, 8.9, 8.95, 8.96, 8.966666666666667, 9.0, 9.05, 9.066666666666666, 9.1, 9.133333333333333, 9.15, 9.2, 9.25, 9.26, 9.266666666666666, 9.3, 9.35, 9.350000000000001, 9.375, 9.399999999999999, 9.4, 9.45, 9.466666666666667, 9.485714285714286, 9.5, 9.533333333333333, 9.542857142857143, 9.55, 9.6, 9.65, 9.66, 9.666666666666666, 9.7, 9.733333333333333, 9.733333333333334, 9.75, 9.799999999999999, 9.8, 9.9, 9.933333333333332, 9.95, 10.0, 10.066666666666666, 10.1, 10.15, 10.166666666666668, 10.25, 10.3, 10.35, 10.399999999999999, 10.45, 10.5, 10.55, 10.571428571428573, 10.575, 10.6, 10.625, 10.633333333333333, 10.649999999999999, 10.65, 10.657142857142858, 10.674, 10.7, 10.75, 10.8, 10.825, 10.84, 10.866666666666667, 10.9, 10.95, 11.0, 11.08, 11.087499999999999, 11.1, 11.100000000000001, 11.125, 11.15, 11.2, 11.233333333333333, 11.25, 11.3, 11.333333333333334, 11.35, 11.366666666666667, 11.372666666666667, 11.4, 11.400000000000002, 11.425, 11.44, 11.45, 11.5, 11.533333333333335, 11.55, 11.566666666666666, 11.571428571428571, 11.6, 11.657142857142858, 11.7, 11.725, 11.75, 11.771428571428572, 11.8, 11.85, 11.850000000000001, 11.866666666666667, 11.95, 12.0, 12.05, 12.066666666666666, 12.142857142857142, 12.25, 12.3, 12.333333333333334, 12.35, 12.4, 12.400000000000002, 12.433333333333334, 12.45, 12.450000000000001, 12.5, 12.575000000000003, 12.6, 12.649999999999999, 12.65, 12.714285714285715, 12.742857142857144, 12.75, 12.799999999999999, 12.808666666666667, 12.885714285714286, 12.9, 12.95, 13.0, 13.033333333333333, 13.049999999999999, 13.066666666666666, 13.200000000000001, 13.22, 13.3, 13.333333333333334, 13.35, 13.399999999999999, 13.4, 13.466666666666667, 13.5, 13.549999999999999, 13.55, 13.6, 13.633000000000001, 13.65, 13.666666666666666, 13.75, 13.82857142857143, 13.85, 13.850000000000001, 13.857142857142858, 13.9, 13.95, 14.0, 14.05, 14.100000000000001, 14.15, 14.2, 14.225, 14.25, 14.266666666666667, 14.333333333333332, 14.366666666666667, 14.399999999999999, 14.4, 14.428571428571429, 14.450000000000001, 14.5, 14.55, 14.600000000000001, 14.65, 14.666666666666666, 14.8, 14.914285714285715, 14.950000000000001, 15.0, 15.049999999999999, 15.05, 15.200000000000001, 15.219999999999999, 15.25, 15.299999999999999, 15.3, 15.333333333333334, 15.35, 15.350000000000001, 15.399999999999999, 15.428571428571429, 15.45, 15.466666666666665, 15.5, 15.513, 15.533333333333335, 15.55, 15.633333333333333, 15.649999999999999, 15.666666666666666, 15.7, 15.75, 15.799999999999999, 15.8, 15.850000000000001, 15.866666666666667, 15.9, 16.0, 16.05, 16.1, 16.159333333333333, 16.2, 16.200000000000003, 16.25, 16.3, 16.333333333333332, 16.35, 16.433333333333334, 16.5, 16.533333333333335, 16.6, 16.64, 16.693, 16.733333333333334, 16.8, 16.857142857142858, 16.9, 16.900000000000002, 16.95, 17.0, 17.1, 17.133333333333333, 17.166666666666668, 17.233333333333334, 17.25, 17.266666666666666, 17.3, 17.333333333333332, 17.333333333333336, 17.4, 17.450000000000003, 17.466666666666665, 17.5, 17.6, 17.6465, 17.666666666666668, 17.700000000000003, 17.8, 17.85, 17.9, 18.0, 18.075, 18.2, 18.200000000000003, 18.285714285714285, 18.299999999999997, 18.3, 18.4, 18.5, 18.6, 18.650000000000002, 18.666666666666668, 18.7, 18.85, 18.8565, 18.95, 19.0, 19.05, 19.333333333333332, 19.35, 19.4, 19.5, 19.525, 19.6, 19.666666666666668, 19.7, 19.714285714285715, 19.75, 20.0, 20.099999999999998, 20.14285714285714, 20.2, 20.25, 20.28, 20.3, 20.333333333333332, 20.5, 20.560000000000002, 20.6, 20.666666666666664, 20.700000000000003, 20.733333333333334, 20.75, 21.0, 21.142857142857142, 21.2, 21.3, 21.333333333333332, 21.333333333333336, 21.35, 21.4, 21.400000000000002, 21.48, 21.5, 21.6, 21.7, 21.75, 21.766666666666666, 21.8, 21.9, 22.0, 22.15, 22.2, 22.333333333333332, 22.35, 22.4, 22.45, 22.5, 22.57142857142857, 22.65, 22.666666666666668, 22.7, 22.75, 22.799999999999997, 22.8, 22.9, 22.95, 23.0, 23.133333333333333, 23.2, 23.333333333333336, 23.35, 23.4, 23.400000000000002, 23.5, 23.666666666666664, 23.666666666666668, 23.7, 23.75, 23.849999999999998, 24.0, 24.25, 24.266666666666666, 24.3, 24.333333333333332, 24.35, 24.4, 24.5, 24.549999999999997, 24.55, 24.6, 24.666666666666668, 24.733333333333334, 24.799999999999997, 24.85714285714286, 24.904333333333334, 25.0, 25.0625, 25.2, 25.25, 25.333333333333332, 25.5, 25.525, 25.650000000000002, 25.666666666666668, 25.7, 26.0, 26.1, 26.2, 26.3, 26.333333333333332, 26.433333333333334, 26.45, 26.475, 26.5, 26.6, 26.666666666666668, 26.7, 26.75, 26.8, 26.85, 27.0, 27.049999999999997, 27.2, 27.25, 27.285714285714285, 27.333333333333332, 27.366666666666667, 27.4, 27.5, 27.6, 27.666666666666668, 27.740000000000002, 27.75, 27.8, 27.9, 27.95, 28.0, 28.1, 28.2, 28.25, 28.333333333333336, 28.5, 28.7, 28.75, 28.8, 28.933333333333337, 29.0, 29.25, 29.26666666666667, 29.333333333333332, 29.333333333333336, 29.5, 29.512, 29.549999999999997, 29.666666666666668, 29.75, 29.980000000000004, 30.0, 30.040000000000003, 30.049999999999997, 30.2, 30.333333333333332, 30.333333333333336, 30.349999999999998, 30.4, 30.5, 30.6, 30.666666666666664, 30.666666666666668, 30.714285714285715, 30.75, 30.952166666666667, 31.0, 31.099999999999998, 31.25, 31.300000000000004, 31.333333333333332, 31.333333333333336, 31.4, 31.5, 31.6, 31.666666666666664, 31.75, 31.9, 32.0, 32.05, 32.07966666666667, 32.3, 32.33333333333333, 32.333333333333336, 32.45, 32.5, 32.6, 32.8, 32.95, 33.0, 33.05, 33.15, 33.16666666666667, 33.333333333333336, 33.4, 33.5, 33.55, 33.6, 33.666666666666664, 33.66666666666667, 33.7, 33.75, 33.86666666666667, 34.0, 34.2, 34.25, 34.42857142857143, 34.5, 34.6, 34.666666666666664, 34.75, 34.8, 34.849999999999994, 35.0, 35.33333333333333, 35.333333333333336, 35.35, 35.45, 35.5, 35.666666666666664, 35.9, 36.0, 36.166666666666664, 36.25, 36.33333333333333, 36.333333333333336, 36.46, 36.5, 36.57142857142857, 36.75, 36.85, 37.0, 37.06666666666666, 37.2, 37.25, 37.333333333333336, 37.5, 37.55, 37.666666666666664, 38.0, 38.4, 38.5, 39.0, 39.0375, 39.333333333333336, 39.5, 39.52, 39.6, 39.66666666666667, 39.699999999999996, 40.0, 40.13333333333333, 40.333333333333336, 40.5, 40.666666666666664, 41.0, 41.2, 41.4, 41.5, 41.57142857142857, 41.599999999999994, 41.86666666666667, 42.0, 42.333333333333336, 42.42857142857143, 42.5, 42.650000000000006, 43.0, 43.08, 43.25, 43.32, 43.4, 43.5, 43.85, 43.949999999999996, 44.0, 44.2, 44.333333333333336, 44.5, 44.666666666666664, 44.8, 45.0, 45.333333333333336, 45.5, 45.666666666666664, 45.75, 45.9, 46.0, 46.025, 46.5, 46.66666666666667, 47.0, 47.33333333333333, 47.4, 47.5, 47.560500000000005, 47.666666666666664, 47.66666666666667, 47.75, 47.9, 48.0, 48.2, 48.285714285714285, 48.5, 48.6, 48.66666666666667, 48.714285714285715, 49.0, 49.1, 49.25, 49.5, 49.66666666666667, 49.8, 50.0, 50.05, 50.666666666666664, 50.66666666666667, 51.0, 51.45, 51.5, 52.0, 52.4, 52.5, 52.64, 52.666666666666664, 52.949999999999996, 52.96666666666667, 53.0, 53.0125, 53.25, 53.5, 53.666666666666664, 53.849999999999994, 54.0, 54.142857142857146, 54.33333333333333, 54.5, 55.0, 55.333333333333336, 55.5, 55.666666666666664, 55.857142857142854, 56.0, 56.333333333333336, 56.66, 56.666666666666664, 56.8, 57.0, 57.333333333333336, 57.8, 58.0, 58.5, 59.0, 59.10000000000001, 59.5, 60.0, 60.5, 61.0, 61.333333333333336, 61.5, 61.666666666666664, 62.0, 62.199999999999996, 62.5, 63.0, 63.33333333333333, 63.5, 64.0, 64.5, 64.66666666666667, 64.8, 65.0, 66.0, 66.2, 66.5, 66.6, 67.0, 67.33333333333333, 67.66666666666666, 68.0, 68.5, 68.82, 69.0, 69.4, 69.66666666666667, 70.0, 71.0, 71.2, 71.4, 71.66666666666667, 71.75, 72.0, 72.5, 72.66666666666667, 73.0, 73.5, 73.66666666666667, 74.0, 75.0, 75.5, 75.6, 75.8, 76.0, 76.5, 77.0, 77.5, 78.0, 79.0, 79.6, 79.75, 80.0, 80.4, 81.0, 82.0, 83.0, 84.0, 84.33333333333333, 85.0, 86.0, 86.5, 87.0, 88.0, 89.0, 89.5, 90.0, 90.5, 91.0, 91.5, 92.0, 93.0, 94.0, 94.5, 95.0, 95.5, 96.0, 97.0, 97.5, 98.0, 98.5, 99.0, 100.0], \"xaxis\": \"x\", \"y\": [\"15.6\", \"19.9\", \"12.3\", \"16.6\", \"16.6\", \"10.0\", \"15.6\", \"16.6\", \"10.0\", \"10.0\", \"22.3\", \"10.0\", \"13.3\", \"15.6\", \"13.3\", \"12.3\", \"6.6\", \"12.3\", \"16.6\", \"10.0\", \"16.7\", \"18.9\", \"16.6\", \"15.6\", \"13.3\", \"24.3\", \"16.6\", \"19.9\", \"16.6\", \"10.0\", \"15.6\", \"20.9\", \"10.0\", \"13.3\", \"13.3\", \"5.6\", \"15.6\", \"12.3\", \"3.3\", \"6.6\", \"15.6\", \"23.3\", \"13.3\", \"16.6\", \"3.3\", \"16.6\", \"13.3\", \"16.6\", \"12.3\", \"20.1\", \"13.3\", \"10.0\", \"22.3\", \"16.6\", \"13.3\", \"15.6\", \"12.3\", \"15.6\", \"6.6\", \"13.3\", \"13.3\", \"22.3\", \"6.6\", \"12.3\", \"12.3\", \"15.6\", \"3.3\", \"13.3\", \"10.0\", \"12.3\", \"19.9\", \"13.3\", \"10.0\", \"19.0\", \"10.0\", \"12.3\", \"19.9\", \"15.6\", \"12.3\", \"15.6\", \"15.6\", \"10.0\", \"18.9\", \"13.3\", \"16.7\", \"13.3\", \"13.4\", \"13.9\", \"16.6\", \"19.9\", \"13.3\", \"20.1\", \"13.3\", \"22.3\", \"14.3\", \"16.6\", \"13.3\", \"16.6\", \"16.6\", \"13.3\", \"13.3\", \"12.6\", \"13.3\", \"12.3\", \"12.3\", \"15.6\", \"13.3\", \"15.6\", \"13.3\", \"6.6\", \"13.3\", \"10.0\", \"16.6\", \"12.3\", \"12.3\", \"6.6\", \"10.0\", \"15.6\", \"10.0\", \"10.0\", \"12.3\", \"12.3\", \"5.6\", \"3.3\", \"3.3\", \"10.0\", \"23.3\", \"13.3\", \"19.9\", \"19.9\", \"12.3\", \"23.3\", \"15.6\", \"12.3\", \"13.3\", \"15.6\", \"6.6\", \"16.6\", \"18.9\", \"18.9\", \"16.6\", \"15.6\", \"12.3\", \"10.0\", \"10.0\", \"16.6\", \"10.0\", \"10.0\", \"23.3\", \"13.3\", \"9.0\", \"6.6\", \"16.6\", \"15.6\", \"18.9\", \"10.0\", \"13.3\", \"5.6\", \"18.9\", \"10.0\", \"23.3\", \"19.9\", \"6.6\", \"19.9\", \"13.3\", \"19.9\", \"12.3\", \"16.6\", \"12.3\", \"13.3\", \"15.6\", \"10.0\", \"16.6\", \"10.0\", \"15.6\", \"12.3\", \"6.6\", \"16.6\", \"13.3\", \"13.3\", \"16.6\", \"13.3\", \"12.3\", \"16.6\", \"13.3\", \"13.3\", \"13.3\", \"16.6\", \"15.6\", \"6.6\", \"12.3\", \"19.9\", \"23.3\", \"19.9\", \"25.6\", \"19.9\", \"6.6\", \"12.3\", \"10.0\", \"0.0\", \"9.0\", \"6.6\", \"0.0\", \"16.6\", \"3.3\", \"5.6\", \"16.6\", \"10.0\", \"18.9\", \"6.6\", \"13.3\", \"13.3\", \"13.3\", \"10.0\", \"16.6\", \"16.6\", \"6.6\", \"6.6\", \"10.0\", \"6.6\", \"12.3\", \"13.3\", \"13.3\", \"6.6\", \"19.9\", \"13.3\", \"9.0\", \"10.0\", \"17.2\", \"22.3\", \"21.1\", \"16.6\", \"25.6\", \"23.7\", \"12.3\", \"12.3\", \"24.5\", \"23.6\", \"18.9\", \"13.3\", \"26.6\", \"26.2\", \"23.3\", \"24.8\", \"25.6\", \"23.4\", \"16.6\", \"23.3\", \"26.6\", \"24.9\", \"24.6\", \"22.3\", \"23.3\", \"25.0\", \"19.9\", \"25.0\", \"26.6\", \"22.3\", \"24.4\", \"23.3\", \"28.9\", \"19.9\", \"25.4\", \"24.8\", \"16.6\", \"26.9\", \"26.6\", \"22.3\", \"19.9\", \"29.0\", \"26.6\", \"25.6\", \"26.2\", \"26.6\", \"26.4\", \"23.3\", \"16.6\", \"24.5\", \"13.3\", \"22.3\", \"26.6\", \"25.2\", \"29.9\", \"22.3\", \"27.5\", \"25.6\", \"26.6\", \"25.6\", \"25.2\", \"23.4\", \"29.7\", \"26.6\", \"21.3\", \"19.9\", \"10.0\", \"24.0\", \"3.3\", \"19.9\", \"26.6\", \"15.6\", \"24.5\", \"19.9\", \"16.6\", \"24.0\", \"23.3\", \"19.9\", \"22.3\", \"5.6\", \"25.5\", \"22.3\", \"27.3\", \"23.4\", \"26.6\", \"28.2\", \"16.6\", \"13.3\", \"23.3\", \"27.3\", \"19.9\", \"19.9\", \"22.3\", \"25.6\", \"27.0\", \"25.8\", \"22.3\", \"23.3\", \"26.1\", \"2.3\", \"13.3\", \"19.9\", \"26.8\", \"25.5\", \"24.3\", \"10.0\", \"16.6\", \"26.6\", \"29.0\", \"25.6\", \"27.4\", \"27.2\", \"24.8\", \"24.8\", \"23.3\", \"29.3\", \"19.9\", \"25.4\", \"13.3\", \"15.6\", \"25.6\", \"23.3\", \"27.5\", \"25.8\", \"22.3\", \"23.4\", \"22.3\", \"27.0\", \"29.9\", \"30.0\", \"29.9\", \"29.9\", \"27.3\", \"13.3\", \"24.8\", \"22.3\", \"26.0\", \"25.6\", \"28.9\", \"23.3\", \"16.6\", \"28.9\", \"25.6\", \"25.2\", \"26.6\", \"26.6\", \"25.1\", \"26.6\", \"26.6\", \"25.3\", \"9.0\", \"25.8\", \"24.5\", \"16.6\", \"27.9\", \"23.3\", \"22.3\", \"24.5\", \"16.6\", \"28.9\", \"24.9\", \"29.9\", \"28.9\", \"19.9\", \"27.2\", \"23.3\", \"23.3\", \"26.3\", \"23.3\", \"27.4\", \"23.3\", \"23.3\", \"26.6\", \"23.3\", \"26.1\", \"28.9\", \"22.3\", \"24.1\", \"16.6\", \"23.3\", \"25.2\", \"26.6\", \"3.3\", \"25.4\", \"26.6\", \"13.3\", \"27.2\", \"23.3\", \"26.6\", \"23.3\", \"24.7\", \"26.8\", \"25.3\", \"23.3\", \"22.3\", \"23.3\", \"25.6\", \"27.5\", \"23.9\", \"29.9\", \"27.5\", \"23.3\", \"23.3\", \"23.2\", \"19.9\", \"26.6\", \"23.4\", \"22.3\", \"26.1\", \"22.3\", \"26.6\", \"29.9\", \"26.6\", \"26.9\", \"24.3\", \"26.6\", \"19.9\", \"30.0\", \"25.6\", \"29.9\", \"28.9\", \"16.6\", \"25.5\", \"22.3\", \"23.3\", \"13.3\", \"19.2\", \"26.2\", \"23.3\", \"24.3\", \"23.3\", \"23.3\", \"25.1\", \"28.9\", \"23.3\", \"28.9\", \"24.4\", \"19.9\", \"20.9\", \"26.6\", \"19.9\", \"25.9\", \"23.3\", \"24.3\", \"26.6\", \"26.0\", \"23.3\", \"24.3\", \"26.5\", \"19.9\", \"16.6\", \"25.3\", \"19.9\", \"25.3\", \"22.5\", \"26.6\", \"26.6\", \"26.9\", \"23.3\", \"15.6\", \"26.5\", \"26.6\", \"18.9\", \"26.7\", \"26.8\", \"19.9\", \"19.9\", \"20.7\", \"26.6\", \"26.6\", \"19.9\", \"16.6\", \"25.9\", \"26.6\", \"18.9\", \"23.3\", \"29.0\", \"23.3\", \"23.3\", \"26.6\", \"23.8\", \"26.6\", \"28.9\", \"25.6\", \"26.4\", \"22.5\", \"25.6\", \"23.4\", \"22.3\", \"24.9\", \"27.8\", \"26.7\", \"26.6\", \"27.7\", \"19.9\", \"23.3\", \"23.3\", \"28.9\", \"23.3\", \"26.6\", \"22.3\", \"25.6\", \"26.7\", \"23.5\", \"26.7\", \"23.3\", \"28.9\", \"23.4\", \"22.3\", \"19.9\", \"25.6\", \"16.6\", \"22.3\", \"23.3\", \"23.3\", \"23.3\", \"25.7\", \"23.3\", \"16.6\", \"16.6\", \"28.9\", \"25.6\", \"31.5\", \"23.3\", \"28.9\", \"22.3\", \"28.9\", \"23.3\", \"24.3\", \"26.6\", \"28.9\", \"24.3\", \"29.9\", \"13.3\", \"26.6\", \"22.3\", \"19.9\", \"23.3\", \"22.3\", \"23.3\", \"23.3\", \"23.3\", \"27.7\", \"29.9\", \"26.7\", \"10.0\", \"26.6\", \"26.6\", \"26.6\", \"18.9\", \"23.3\", \"23.4\", \"22.3\", \"23.4\", \"18.9\", \"23.3\", \"26.6\", \"19.9\", \"30.4\", \"25.8\", \"25.8\", \"22.3\", \"24.3\", \"23.3\", \"26.6\", \"13.3\", \"26.7\", \"29.9\", \"23.3\", \"22.3\", \"23.3\", \"30.0\", \"26.6\", \"26.6\", \"22.5\", \"26.6\", \"29.9\", \"23.3\", \"23.4\", \"26.6\", \"26.6\", \"22.3\", \"29.9\", \"0.0\", \"32.4\", \"24.3\", \"19.9\", \"22.3\", \"19.9\", \"23.3\", \"27.2\", \"26.6\", \"23.3\", \"22.5\", \"25.6\", \"23.3\", \"29.0\", \"23.3\", \"19.9\", \"23.3\", \"15.6\", \"27.6\", \"19.9\", \"22.5\", \"26.6\", \"19.9\", \"10.0\", \"23.3\", \"23.3\", \"21.5\", \"29.8\", \"29.9\", \"23.3\", \"25.6\", \"26.6\", \"23.3\", \"26.6\", \"26.6\", \"22.3\", \"19.9\", \"26.6\", \"29.9\", \"28.9\", \"22.5\", \"27.4\", \"22.3\", \"26.6\", \"25.6\", \"18.9\", \"28.9\", \"19.9\", \"23.3\", \"31.1\", \"23.3\", \"3.3\", \"22.3\", \"23.3\", \"24.3\", \"26.6\", \"22.3\", \"23.3\", \"23.3\", \"26.6\", \"23.3\", \"25.6\", \"22.3\", \"22.3\", \"24.9\", \"16.6\", \"19.9\", \"12.3\", \"29.9\", \"23.4\", \"23.3\", \"18.9\", \"23.4\", \"25.6\", \"28.9\", \"23.3\", \"19.9\", \"16.7\", \"29.8\", \"22.3\", \"28.9\", \"23.3\", \"29.9\", \"19.9\", \"24.3\", \"22.3\", \"19.9\", \"25.6\", \"22.3\", \"26.7\", \"23.3\", \"26.7\", \"22.3\", \"29.9\", \"23.4\", \"23.3\", \"26.6\", \"23.3\", \"2.3\", \"29.9\", \"30.7\", \"23.3\", \"12.3\", \"22.3\", \"19.9\", \"22.3\", \"26.6\", \"10.0\", \"23.3\", \"24.3\", \"16.6\", \"25.6\", \"25.6\", \"27.1\", \"19.9\", \"22.3\", \"25.6\", \"6.6\", \"26.9\", \"23.3\", \"19.9\", \"28.6\", \"29.9\", \"29.9\", \"26.6\", \"29.9\", \"21.5\", \"19.9\", \"23.8\", \"29.4\", \"19.9\", \"26.6\", \"16.6\", \"29.9\", \"23.8\", \"26.6\", \"22.3\", \"28.0\", \"29.9\", \"28.9\", \"19.9\", \"24.3\", \"21.6\", \"26.6\", \"23.3\", \"19.9\", \"15.6\", \"26.6\", \"25.6\", \"28.6\", \"22.3\", \"25.6\", \"27.3\", \"25.8\", \"28.9\", \"22.3\", \"23.4\", \"30.1\", \"28.9\", \"26.6\", \"22.3\", \"25.7\", \"13.3\", \"23.3\", \"28.8\", \"26.6\", \"26.6\", \"25.6\", \"26.6\", \"19.9\", \"23.3\", \"26.8\", \"23.3\", \"22.3\", \"23.5\", \"20.9\", \"22.3\", \"26.6\", \"19.9\", \"26.7\", \"29.9\", \"30.4\", \"16.6\", \"22.3\", \"26.0\", \"19.9\", \"23.8\", \"29.9\", \"27.3\", \"23.3\", \"3.3\", \"26.8\", \"23.3\", \"23.9\", \"16.6\", \"16.6\", \"16.6\", \"23.3\", \"31.0\", \"23.3\", \"23.3\", \"20.1\", \"16.6\", \"19.9\", \"26.6\", \"27.7\", \"23.3\", \"24.3\", \"16.6\", \"26.6\", \"16.6\", \"31.4\", \"25.6\", \"23.3\", \"26.6\", \"26.6\", \"24.3\", \"23.3\", \"27.7\", \"23.3\", \"6.6\", \"24.6\", \"22.3\", \"23.3\", \"23.3\", \"23.3\", \"28.9\", \"29.9\", \"26.6\", \"23.3\", \"26.6\", \"19.9\", \"27.4\", \"23.3\", \"23.3\", \"26.6\", \"22.3\", \"29.3\", \"23.3\", \"22.3\", \"25.6\", \"25.6\", \"26.6\", \"26.6\", \"22.3\", \"27.0\", \"22.3\", \"23.3\", \"19.9\", \"23.3\", \"19.9\", \"23.3\", \"30.8\", \"23.3\", \"22.3\", \"19.9\", \"25.6\", \"22.3\", \"19.9\", \"23.8\", \"26.7\", \"10.0\", \"23.3\", \"23.3\", \"19.9\", \"25.6\", \"26.6\", \"25.6\", \"30.3\", \"26.6\", \"26.6\", \"23.3\", \"22.3\", \"23.5\", \"19.9\", \"23.3\", \"23.4\", \"25.6\", \"30.6\", \"23.3\", \"19.9\", \"23.3\", \"30.0\", \"28.2\", \"19.9\", \"19.9\", \"23.3\", \"24.3\", \"22.3\", \"28.1\", \"26.6\", \"2.3\", \"25.6\", \"27.2\", \"18.9\", \"6.6\", \"23.3\", \"30.1\", \"29.9\", \"15.6\", \"27.2\", \"23.3\", \"19.9\", \"26.6\", \"27.7\", \"18.9\", \"30.0\", \"16.6\", \"26.6\", \"26.6\", \"10.0\", \"25.8\", \"23.3\", \"26.7\", \"19.9\", \"16.6\", \"29.3\", \"23.4\", \"19.9\", \"22.3\", \"26.6\", \"22.3\", \"19.9\", \"27.8\", \"19.9\", \"19.9\", \"29.4\", \"29.7\", \"22.5\", \"23.8\", \"26.6\", \"26.7\", \"23.3\", \"26.3\", \"23.3\", \"26.6\", \"26.6\", \"20.9\", \"19.9\", \"26.6\", \"16.6\", \"30.5\", \"19.9\", \"16.6\", \"26.6\", \"25.9\", \"23.3\", \"24.3\", \"23.3\", \"26.6\", \"28.9\", \"29.1\", \"22.3\", \"23.8\", \"26.6\", \"16.6\", \"23.4\", \"22.3\", \"22.3\", \"28.5\", \"22.3\", \"19.9\", \"22.3\", \"26.6\", \"29.9\", \"25.1\", \"23.3\", \"22.3\", \"22.3\", \"29.6\", \"25.6\", \"26.6\", \"26.6\", \"23.3\", \"27.7\", \"26.6\", \"23.3\", \"28.2\", \"19.9\", \"24.6\", \"28.7\", \"26.6\", \"19.9\", \"25.6\", \"23.3\", \"19.9\", \"18.9\", \"19.9\", \"30.9\", \"23.3\", \"24.3\", \"26.8\", \"26.6\", \"28.8\", \"23.3\", \"19.9\", \"18.9\", \"19.9\", \"26.6\", \"23.3\", \"30.5\", \"26.6\", \"23.3\", \"27.2\", \"23.3\", \"27.4\", \"16.6\", \"23.3\", \"26.6\", \"19.9\", \"25.6\", \"23.3\", \"23.3\", \"28.1\", \"23.8\", \"15.6\", \"25.6\", \"23.3\", \"22.3\", \"28.6\", \"19.9\", \"29.0\", \"27.6\", \"26.6\", \"18.9\", \"29.0\", \"26.6\", \"26.1\", \"15.6\", \"28.7\", \"23.3\", \"23.3\", \"26.7\", \"22.3\", \"23.3\", \"29.9\", \"23.3\", \"16.6\", \"28.3\", \"23.3\", \"23.3\", \"26.7\", \"16.6\", \"23.3\", \"22.3\", \"29.0\", \"19.9\", \"25.6\", \"25.6\", \"25.6\", \"23.3\", \"29.1\", \"23.3\", \"22.3\", \"23.3\", \"29.2\", \"25.6\", \"22.5\", \"30.1\", \"25.6\", \"23.3\", \"19.9\", \"19.9\", \"19.9\", \"25.6\", \"30.2\", \"26.6\", \"19.9\", \"20.9\", \"23.3\", \"23.3\", \"26.8\", \"25.6\", \"23.3\", \"30.0\", \"28.0\", \"25.6\", \"26.7\", \"24.3\", \"22.3\", \"27.9\", \"23.3\", \"22.3\", \"19.9\", \"23.3\", \"29.8\", \"23.3\", \"26.6\", \"28.4\", \"25.6\", \"29.0\", \"19.9\", \"24.6\", \"28.1\", \"26.6\", \"31.0\", \"25.6\", \"26.6\", \"23.3\", \"31.5\", \"23.3\", \"27.6\", \"29.4\", \"23.3\", \"22.5\", \"25.5\", \"25.8\", \"23.3\", \"25.6\", \"30.1\", \"26.8\", \"26.6\", \"19.9\", \"25.6\", \"30.3\", \"26.6\", \"22.3\", \"29.7\", \"23.3\", \"18.9\", \"29.0\", \"23.3\", \"23.3\", \"30.1\", \"27.9\", \"25.6\", \"28.9\", \"26.6\", \"28.9\", \"27.2\", \"27.9\", \"25.6\", \"27.5\", \"26.6\", \"23.3\", \"31.8\", \"28.3\", \"13.3\", \"22.3\", \"25.6\", \"32.6\", \"25.6\", \"26.7\", \"19.9\", \"29.3\", \"27.0\", \"23.3\", \"23.3\", \"26.6\", \"26.6\", \"23.9\", \"28.2\", \"26.1\", \"27.0\", \"28.9\", \"27.9\", \"23.9\", \"23.8\", \"26.4\", \"27.8\", \"27.0\", \"26.6\", \"24.8\", \"26.6\", \"26.5\", \"23.3\", \"30.2\", \"26.2\", \"27.6\", \"25.6\", \"27.6\", \"25.8\", \"29.0\", \"30.1\", \"23.3\", \"28.7\", \"23.3\", \"29.6\", \"28.6\"], \"yaxis\": \"y\"}, {\"hoverlabel\": {\"namelength\": 0}, \"hovertemplate\": \"Type=Paid<br>Size=%{x}<br>log2 installs=%{y}\", \"legendgroup\": \"Type=Paid\", \"marker\": {\"color\": \"#EF553B\", \"symbol\": \"circle\"}, \"mode\": \"markers\", \"name\": \"Type=Paid\", \"showlegend\": true, \"type\": \"scattergl\", \"x\": [0.014, 0.017, 0.018, 0.024, 0.025, 0.026, 0.027, 0.029, 0.05, 0.051, 0.058, 0.081, 0.082, 0.089, 0.097, 0.141, 0.143, 0.144, 0.157, 0.16, 0.17, 0.172, 0.173, 0.196, 0.206, 0.237, 0.238, 0.266, 0.269, 0.27, 0.288, 0.293, 0.313, 0.319, 0.375, 0.376, 0.378, 0.383, 0.42, 0.421, 0.473, 0.5, 0.516, 0.549, 0.629, 0.655, 0.663, 0.688, 0.704, 0.754, 0.779, 0.78, 0.842, 0.857, 0.861, 0.862, 0.872, 0.899, 0.902, 0.94, 0.948, 0.951, 0.954, 0.957, 0.965, 1.0, 1.02, 1.1, 1.2, 1.3, 1.4, 1.5, 1.5666666666666667, 1.6, 1.7, 1.8, 1.9, 2.0, 2.1, 2.2, 2.3, 2.4, 2.5, 2.6, 2.7, 2.8, 2.9, 3.0, 3.1, 3.2, 3.3, 3.4, 3.5, 3.6, 3.7, 3.8, 3.9, 3.933333333333333, 4.0, 4.1, 4.1000000000000005, 4.2, 4.3, 4.4, 4.5, 4.6, 4.7, 4.8, 4.85, 4.9, 5.0, 5.0285, 5.1, 5.153, 5.2, 5.3, 5.4, 5.5, 5.7, 5.8, 5.9, 6.0, 6.1, 6.2, 6.3, 6.300000000000001, 6.4, 6.5, 6.6, 6.6499999999999995, 6.7, 6.8, 6.800000000000001, 6.9, 7.0, 7.2, 7.3, 7.3999999999999995, 7.4, 7.7, 7.8, 7.8999999999999995, 7.9, 7.95, 8.0, 8.1, 8.2, 8.3, 8.333333333333332, 8.4, 8.5, 8.6, 8.666666666666668, 8.7, 8.8, 8.85, 8.9, 9.0, 9.1, 9.3, 9.4, 9.5, 9.6, 9.7, 9.8, 9.9, 10.0, 10.733333333333333, 10.8, 11.0, 11.15, 11.350000000000001, 12.0, 12.42, 12.899999999999999, 13.0, 13.285714285714286, 13.366666666666667, 14.0, 14.333333333333334, 14.350000000000001, 14.4, 14.5, 14.899999999999999, 14.950000000000001, 15.0, 15.098, 15.5, 15.8, 16.0, 16.03333333333333, 17.0, 18.0, 18.1, 18.866666666666667, 19.0, 19.666666666666664, 20.0, 21.0, 21.55, 22.0, 22.5, 23.0, 24.0, 24.4, 25.0, 25.333333333333332, 26.0, 27.0, 27.099999999999998, 27.15, 28.0, 29.0, 29.599999999999998, 29.866666666666667, 30.0, 31.0, 32.0, 33.0, 33.666666666666664, 34.0, 35.0, 35.300000000000004, 35.93333333333333, 36.0, 37.0, 38.0, 39.0, 40.0, 40.5, 40.650000000000006, 41.0, 42.0, 43.0, 44.0, 45.0, 45.5, 46.0, 46.5, 47.0, 48.0, 49.0, 50.0, 51.0, 52.5, 53.0, 54.0, 55.0, 55.5, 56.0, 57.0, 58.0, 58.5, 59.0, 60.0, 62.0, 63.0, 64.0, 65.0, 66.0, 67.0, 68.0, 69.0, 70.0, 72.0, 73.0, 74.0, 76.0, 77.0, 78.0, 79.0, 81.0, 82.0, 83.0, 84.0, 85.0, 86.0, 87.0, 92.0, 93.0, 94.0, 95.0, 96.0, 99.0, 100.0], \"xaxis\": \"x\", \"y\": [\"10.0\", \"16.6\", \"6.6\", \"10.0\", \"13.3\", \"12.6\", \"10.0\", \"10.0\", \"18.9\", \"9.0\", \"13.3\", \"6.6\", \"10.0\", \"5.6\", \"5.6\", \"12.6\", \"12.3\", \"12.3\", \"6.6\", \"12.3\", \"12.3\", \"2.3\", \"16.6\", \"12.3\", \"10.0\", \"3.3\", \"0.0\", \"10.0\", \"3.3\", \"10.0\", \"13.3\", \"6.6\", \"12.3\", \"3.3\", \"13.3\", \"9.0\", \"10.0\", \"13.3\", \"13.3\", \"5.6\", \"3.3\", \"6.6\", \"6.6\", \"0.0\", \"5.6\", \"3.3\", \"3.3\", \"2.3\", \"14.3\", \"9.0\", \"13.3\", \"6.6\", \"5.6\", \"9.0\", \"6.6\", \"12.3\", \"19.9\", \"13.3\", \"6.6\", \"3.3\", \"3.3\", \"10.0\", \"9.0\", \"13.3\", \"12.3\", \"12.7\", \"5.6\", \"17.4\", \"14.2\", \"16.6\", \"12.6\", \"11.1\", \"13.3\", \"14.4\", \"13.4\", \"16.9\", \"3.3\", \"16.5\", \"9.6\", \"9.0\", \"15.6\", \"14.6\", \"7.7\", \"14.9\", \"14.1\", \"19.0\", \"15.0\", \"10.0\", \"11.0\", \"-inf\", \"13.4\", \"11.4\", \"12.9\", \"7.7\", \"13.4\", \"13.1\", \"12.3\", \"13.3\", \"12.3\", \"14.4\", \"15.6\", \"16.6\", \"11.1\", \"13.7\", \"13.4\", \"16.6\", \"15.6\", \"11.3\", \"15.6\", \"14.4\", \"12.8\", \"16.6\", \"10.0\", \"15.6\", \"9.0\", \"6.1\", \"15.9\", \"16.8\", \"18.9\", \"15.6\", \"14.0\", \"12.8\", \"15.7\", \"15.6\", \"20.1\", \"13.3\", \"16.6\", \"7.6\", \"18.9\", \"16.6\", \"0.0\", \"17.6\", \"3.3\", \"16.8\", \"6.6\", \"5.6\", \"16.7\", \"10.0\", \"15.6\", \"13.3\", \"16.6\", \"13.3\", \"16.6\", \"13.3\", \"16.6\", \"16.6\", \"3.3\", \"16.9\", \"16.6\", \"14.3\", \"16.6\", \"13.4\", \"6.6\", \"16.7\", \"10.0\", \"13.3\", \"9.0\", \"10.0\", \"10.0\", \"17.6\", \"12.6\", \"17.5\", \"12.3\", \"13.3\", \"15.6\", \"12.3\", \"16.7\", \"19.9\", \"10.0\", \"17.0\", \"12.3\", \"10.0\", \"20.5\", \"9.0\", \"6.6\", \"16.8\", \"16.6\", \"16.6\", \"21.3\", \"10.0\", \"0.0\", \"5.6\", \"16.6\", \"12.3\", \"16.6\", \"18.4\", \"13.3\", \"10.0\", \"16.6\", \"18.1\", \"6.6\", \"16.8\", \"17.7\", \"16.6\", \"12.3\", \"14.2\", \"18.9\", \"17.3\", \"18.2\", \"10.0\", \"14.1\", \"13.3\", \"20.7\", \"20.1\", \"16.6\", \"19.0\", \"16.6\", \"21.6\", \"15.7\", \"15.6\", \"13.3\", \"14.4\", \"23.4\", \"15.6\", \"16.6\", \"16.8\", \"13.3\", \"12.3\", \"17.3\", \"23.3\", \"14.6\", \"17.8\", \"16.6\", \"12.3\", \"20.0\", \"18.3\", \"10.0\", \"23.3\", \"19.1\", \"16.6\", \"16.6\", \"16.8\", \"17.2\", \"20.5\", \"20.0\", \"17.2\", \"16.6\", \"16.9\", \"13.3\", \"14.7\", \"21.6\", \"14.3\", \"20.1\", \"10.0\", \"16.6\", \"16.6\", \"6.6\", \"13.3\", \"13.3\", \"-inf\", \"16.6\", \"16.6\", \"0.0\", \"10.0\", \"16.7\", \"15.6\", \"17.7\", \"10.0\", \"10.0\", \"10.0\", \"16.8\", \"11.6\", \"20.1\", \"15.6\", \"10.0\", \"19.9\", \"13.3\", \"5.6\", \"6.6\", \"10.0\", \"12.3\", \"16.6\", \"9.0\", \"14.3\", \"16.6\", \"5.6\", \"15.6\", \"3.3\", \"18.9\", \"15.6\", \"19.9\", \"10.0\", \"19.9\", \"20.1\", \"19.9\"], \"yaxis\": \"y\"}],\n",
              "                        {\"legend\": {\"tracegroupgap\": 0}, \"margin\": {\"t\": 60}, \"template\": {\"data\": {\"bar\": [{\"error_x\": {\"color\": \"#2a3f5f\"}, \"error_y\": {\"color\": \"#2a3f5f\"}, \"marker\": {\"line\": {\"color\": \"#E5ECF6\", \"width\": 0.5}}, \"type\": \"bar\"}], \"barpolar\": [{\"marker\": {\"line\": {\"color\": \"#E5ECF6\", \"width\": 0.5}}, \"type\": \"barpolar\"}], \"carpet\": [{\"aaxis\": {\"endlinecolor\": \"#2a3f5f\", \"gridcolor\": \"white\", \"linecolor\": \"white\", \"minorgridcolor\": \"white\", \"startlinecolor\": \"#2a3f5f\"}, \"baxis\": {\"endlinecolor\": \"#2a3f5f\", \"gridcolor\": \"white\", \"linecolor\": \"white\", \"minorgridcolor\": \"white\", \"startlinecolor\": \"#2a3f5f\"}, \"type\": \"carpet\"}], \"choropleth\": [{\"colorbar\": {\"outlinewidth\": 0, \"ticks\": \"\"}, \"type\": \"choropleth\"}], \"contour\": [{\"colorbar\": {\"outlinewidth\": 0, \"ticks\": \"\"}, \"colorscale\": [[0.0, \"#0d0887\"], [0.1111111111111111, \"#46039f\"], [0.2222222222222222, \"#7201a8\"], [0.3333333333333333, \"#9c179e\"], [0.4444444444444444, \"#bd3786\"], [0.5555555555555556, \"#d8576b\"], [0.6666666666666666, \"#ed7953\"], [0.7777777777777778, \"#fb9f3a\"], [0.8888888888888888, \"#fdca26\"], [1.0, \"#f0f921\"]], \"type\": \"contour\"}], \"contourcarpet\": [{\"colorbar\": {\"outlinewidth\": 0, \"ticks\": \"\"}, \"type\": \"contourcarpet\"}], \"heatmap\": [{\"colorbar\": {\"outlinewidth\": 0, \"ticks\": \"\"}, \"colorscale\": [[0.0, \"#0d0887\"], [0.1111111111111111, \"#46039f\"], [0.2222222222222222, \"#7201a8\"], [0.3333333333333333, \"#9c179e\"], [0.4444444444444444, \"#bd3786\"], [0.5555555555555556, \"#d8576b\"], [0.6666666666666666, \"#ed7953\"], [0.7777777777777778, \"#fb9f3a\"], [0.8888888888888888, \"#fdca26\"], [1.0, \"#f0f921\"]], \"type\": \"heatmap\"}], \"heatmapgl\": [{\"colorbar\": {\"outlinewidth\": 0, \"ticks\": \"\"}, \"colorscale\": [[0.0, \"#0d0887\"], [0.1111111111111111, \"#46039f\"], [0.2222222222222222, \"#7201a8\"], [0.3333333333333333, \"#9c179e\"], [0.4444444444444444, \"#bd3786\"], [0.5555555555555556, \"#d8576b\"], [0.6666666666666666, \"#ed7953\"], [0.7777777777777778, \"#fb9f3a\"], [0.8888888888888888, \"#fdca26\"], [1.0, \"#f0f921\"]], \"type\": \"heatmapgl\"}], \"histogram\": [{\"marker\": {\"colorbar\": {\"outlinewidth\": 0, \"ticks\": \"\"}}, \"type\": \"histogram\"}], \"histogram2d\": [{\"colorbar\": {\"outlinewidth\": 0, \"ticks\": \"\"}, \"colorscale\": [[0.0, \"#0d0887\"], [0.1111111111111111, \"#46039f\"], [0.2222222222222222, \"#7201a8\"], [0.3333333333333333, \"#9c179e\"], [0.4444444444444444, \"#bd3786\"], [0.5555555555555556, \"#d8576b\"], [0.6666666666666666, \"#ed7953\"], [0.7777777777777778, \"#fb9f3a\"], [0.8888888888888888, \"#fdca26\"], [1.0, \"#f0f921\"]], \"type\": \"histogram2d\"}], \"histogram2dcontour\": [{\"colorbar\": {\"outlinewidth\": 0, \"ticks\": \"\"}, \"colorscale\": [[0.0, \"#0d0887\"], [0.1111111111111111, \"#46039f\"], [0.2222222222222222, \"#7201a8\"], [0.3333333333333333, \"#9c179e\"], [0.4444444444444444, \"#bd3786\"], [0.5555555555555556, \"#d8576b\"], [0.6666666666666666, \"#ed7953\"], [0.7777777777777778, \"#fb9f3a\"], [0.8888888888888888, \"#fdca26\"], [1.0, \"#f0f921\"]], \"type\": \"histogram2dcontour\"}], \"mesh3d\": [{\"colorbar\": {\"outlinewidth\": 0, \"ticks\": \"\"}, \"type\": \"mesh3d\"}], \"parcoords\": [{\"line\": {\"colorbar\": {\"outlinewidth\": 0, \"ticks\": \"\"}}, \"type\": \"parcoords\"}], \"pie\": [{\"automargin\": true, \"type\": \"pie\"}], \"scatter\": [{\"marker\": {\"colorbar\": {\"outlinewidth\": 0, \"ticks\": \"\"}}, \"type\": \"scatter\"}], \"scatter3d\": [{\"line\": {\"colorbar\": {\"outlinewidth\": 0, \"ticks\": \"\"}}, \"marker\": {\"colorbar\": {\"outlinewidth\": 0, \"ticks\": \"\"}}, \"type\": \"scatter3d\"}], \"scattercarpet\": [{\"marker\": {\"colorbar\": {\"outlinewidth\": 0, \"ticks\": \"\"}}, \"type\": \"scattercarpet\"}], \"scattergeo\": [{\"marker\": {\"colorbar\": {\"outlinewidth\": 0, \"ticks\": \"\"}}, \"type\": \"scattergeo\"}], \"scattergl\": [{\"marker\": {\"colorbar\": {\"outlinewidth\": 0, \"ticks\": \"\"}}, \"type\": \"scattergl\"}], \"scattermapbox\": [{\"marker\": {\"colorbar\": {\"outlinewidth\": 0, \"ticks\": \"\"}}, \"type\": \"scattermapbox\"}], \"scatterpolar\": [{\"marker\": {\"colorbar\": {\"outlinewidth\": 0, \"ticks\": \"\"}}, \"type\": \"scatterpolar\"}], \"scatterpolargl\": [{\"marker\": {\"colorbar\": {\"outlinewidth\": 0, \"ticks\": \"\"}}, \"type\": \"scatterpolargl\"}], \"scatterternary\": [{\"marker\": {\"colorbar\": {\"outlinewidth\": 0, \"ticks\": \"\"}}, \"type\": \"scatterternary\"}], \"surface\": [{\"colorbar\": {\"outlinewidth\": 0, \"ticks\": \"\"}, \"colorscale\": [[0.0, \"#0d0887\"], [0.1111111111111111, \"#46039f\"], [0.2222222222222222, \"#7201a8\"], [0.3333333333333333, \"#9c179e\"], [0.4444444444444444, \"#bd3786\"], [0.5555555555555556, \"#d8576b\"], [0.6666666666666666, \"#ed7953\"], [0.7777777777777778, \"#fb9f3a\"], [0.8888888888888888, \"#fdca26\"], [1.0, \"#f0f921\"]], \"type\": \"surface\"}], \"table\": [{\"cells\": {\"fill\": {\"color\": \"#EBF0F8\"}, \"line\": {\"color\": \"white\"}}, \"header\": {\"fill\": {\"color\": \"#C8D4E3\"}, \"line\": {\"color\": \"white\"}}, \"type\": \"table\"}]}, \"layout\": {\"annotationdefaults\": {\"arrowcolor\": \"#2a3f5f\", \"arrowhead\": 0, \"arrowwidth\": 1}, \"coloraxis\": {\"colorbar\": {\"outlinewidth\": 0, \"ticks\": \"\"}}, \"colorscale\": {\"diverging\": [[0, \"#8e0152\"], [0.1, \"#c51b7d\"], [0.2, \"#de77ae\"], [0.3, \"#f1b6da\"], [0.4, \"#fde0ef\"], [0.5, \"#f7f7f7\"], [0.6, \"#e6f5d0\"], [0.7, \"#b8e186\"], [0.8, \"#7fbc41\"], [0.9, \"#4d9221\"], [1, \"#276419\"]], \"sequential\": [[0.0, \"#0d0887\"], [0.1111111111111111, \"#46039f\"], [0.2222222222222222, \"#7201a8\"], [0.3333333333333333, \"#9c179e\"], [0.4444444444444444, \"#bd3786\"], [0.5555555555555556, \"#d8576b\"], [0.6666666666666666, \"#ed7953\"], [0.7777777777777778, \"#fb9f3a\"], [0.8888888888888888, \"#fdca26\"], [1.0, \"#f0f921\"]], \"sequentialminus\": [[0.0, \"#0d0887\"], [0.1111111111111111, \"#46039f\"], [0.2222222222222222, \"#7201a8\"], [0.3333333333333333, \"#9c179e\"], [0.4444444444444444, \"#bd3786\"], [0.5555555555555556, \"#d8576b\"], [0.6666666666666666, \"#ed7953\"], [0.7777777777777778, \"#fb9f3a\"], [0.8888888888888888, \"#fdca26\"], [1.0, \"#f0f921\"]]}, \"colorway\": [\"#636efa\", \"#EF553B\", \"#00cc96\", \"#ab63fa\", \"#FFA15A\", \"#19d3f3\", \"#FF6692\", \"#B6E880\", \"#FF97FF\", \"#FECB52\"], \"font\": {\"color\": \"#2a3f5f\"}, \"geo\": {\"bgcolor\": \"white\", \"lakecolor\": \"white\", \"landcolor\": \"#E5ECF6\", \"showlakes\": true, \"showland\": true, \"subunitcolor\": \"white\"}, \"hoverlabel\": {\"align\": \"left\"}, \"hovermode\": \"closest\", \"mapbox\": {\"style\": \"light\"}, \"paper_bgcolor\": \"white\", \"plot_bgcolor\": \"#E5ECF6\", \"polar\": {\"angularaxis\": {\"gridcolor\": \"white\", \"linecolor\": \"white\", \"ticks\": \"\"}, \"bgcolor\": \"#E5ECF6\", \"radialaxis\": {\"gridcolor\": \"white\", \"linecolor\": \"white\", \"ticks\": \"\"}}, \"scene\": {\"xaxis\": {\"backgroundcolor\": \"#E5ECF6\", \"gridcolor\": \"white\", \"gridwidth\": 2, \"linecolor\": \"white\", \"showbackground\": true, \"ticks\": \"\", \"zerolinecolor\": \"white\"}, \"yaxis\": {\"backgroundcolor\": \"#E5ECF6\", \"gridcolor\": \"white\", \"gridwidth\": 2, \"linecolor\": \"white\", \"showbackground\": true, \"ticks\": \"\", \"zerolinecolor\": \"white\"}, \"zaxis\": {\"backgroundcolor\": \"#E5ECF6\", \"gridcolor\": \"white\", \"gridwidth\": 2, \"linecolor\": \"white\", \"showbackground\": true, \"ticks\": \"\", \"zerolinecolor\": \"white\"}}, \"shapedefaults\": {\"line\": {\"color\": \"#2a3f5f\"}}, \"ternary\": {\"aaxis\": {\"gridcolor\": \"white\", \"linecolor\": \"white\", \"ticks\": \"\"}, \"baxis\": {\"gridcolor\": \"white\", \"linecolor\": \"white\", \"ticks\": \"\"}, \"bgcolor\": \"#E5ECF6\", \"caxis\": {\"gridcolor\": \"white\", \"linecolor\": \"white\", \"ticks\": \"\"}}, \"title\": {\"x\": 0.05}, \"xaxis\": {\"automargin\": true, \"gridcolor\": \"white\", \"linecolor\": \"white\", \"ticks\": \"\", \"title\": {\"standoff\": 15}, \"zerolinecolor\": \"white\", \"zerolinewidth\": 2}, \"yaxis\": {\"automargin\": true, \"gridcolor\": \"white\", \"linecolor\": \"white\", \"ticks\": \"\", \"title\": {\"standoff\": 15}, \"zerolinecolor\": \"white\", \"zerolinewidth\": 2}}}, \"xaxis\": {\"anchor\": \"y\", \"domain\": [0.0, 1.0], \"title\": {\"text\": \"Size\"}}, \"yaxis\": {\"anchor\": \"x\", \"domain\": [0.0, 1.0], \"title\": {\"text\": \"log2 installs\"}}},\n",
              "                        {\"responsive\": true}\n",
              "                    ).then(function(){\n",
              "                            \n",
              "var gd = document.getElementById('15a4b4fb-31ea-4ce3-b0b9-7d90409539e3');\n",
              "var x = new MutationObserver(function (mutations, observer) {{\n",
              "        var display = window.getComputedStyle(gd).display;\n",
              "        if (!display || display === 'none') {{\n",
              "            console.log([gd, 'removed!']);\n",
              "            Plotly.purge(gd);\n",
              "            observer.disconnect();\n",
              "        }}\n",
              "}});\n",
              "\n",
              "// Listen for the removal of the full notebook cells\n",
              "var notebookContainer = gd.closest('#notebook-container');\n",
              "if (notebookContainer) {{\n",
              "    x.observe(notebookContainer, {childList: true});\n",
              "}}\n",
              "\n",
              "// Listen for the clearing of the current output cell\n",
              "var outputEl = gd.closest('.output');\n",
              "if (outputEl) {{\n",
              "    x.observe(outputEl, {childList: true});\n",
              "}}\n",
              "\n",
              "                        })\n",
              "                };\n",
              "                \n",
              "            </script>\n",
              "        </div>\n",
              "</body>\n",
              "</html>"
            ]
          },
          "metadata": {}
        }
      ]
    },
    {
      "cell_type": "markdown",
      "metadata": {
        "id": "X593nagrYmt0"
      },
      "source": [
        "# From above plot,we can see installed apps by moving cursor over plot.It shows that the paid and free application are preffered more by users only in the range 0 to 20 MB"
      ]
    },
    {
      "cell_type": "markdown",
      "metadata": {
        "id": "xlA7I2r1jpnG"
      },
      "source": [
        "# Part 2--(Play Store Data of Reviews)"
      ]
    },
    {
      "cell_type": "markdown",
      "metadata": {
        "id": "KP__nomJkHm6"
      },
      "source": [
        "Now in second part, we have data of users reviews.We will try in this section as well to draw some insight from this data.Lets start without any further discussion----\n",
        "\n",
        "Discussion of this data will involve the same process which we have done in first dataset----\n",
        "1. Loading the data into the data frame\n",
        "2. Cleaning the data\n",
        "3. Exploratory analysis and visualizations"
      ]
    },
    {
      "cell_type": "markdown",
      "metadata": {
        "id": "ti_bbNYPllrw"
      },
      "source": [
        "# Step 1. Loading Data into the dataframe"
      ]
    },
    {
      "cell_type": "code",
      "metadata": {
        "colab": {
          "base_uri": "https://localhost:8080/"
        },
        "id": "TnNs5fX5mSyY",
        "outputId": "8430fbc2-5217-42fc-a7dd-87973182296b"
      },
      "source": [
        "from google.colab import drive\n",
        "drive.mount('/content/drive')"
      ],
      "execution_count": null,
      "outputs": [
        {
          "output_type": "stream",
          "name": "stdout",
          "text": [
            "Mounted at /content/drive\n"
          ]
        }
      ]
    },
    {
      "cell_type": "code",
      "metadata": {
        "id": "LE4LkrUolldX"
      },
      "source": [
        "# uploading user review data\n",
        "user_review_df=pd.read_csv('/content/drive/MyDrive/User Reviews.csv')"
      ],
      "execution_count": null,
      "outputs": []
    },
    {
      "cell_type": "code",
      "metadata": {
        "id": "EJaVsTdWYVdX",
        "colab": {
          "base_uri": "https://localhost:8080/",
          "height": 203
        },
        "outputId": "76faa8e6-5595-4a50-f830-8ea36f3659c9"
      },
      "source": [
        "#lets check our user review data from top\n",
        "user_review_df.head()"
      ],
      "execution_count": null,
      "outputs": [
        {
          "output_type": "execute_result",
          "data": {
            "text/html": [
              "<div>\n",
              "<style scoped>\n",
              "    .dataframe tbody tr th:only-of-type {\n",
              "        vertical-align: middle;\n",
              "    }\n",
              "\n",
              "    .dataframe tbody tr th {\n",
              "        vertical-align: top;\n",
              "    }\n",
              "\n",
              "    .dataframe thead th {\n",
              "        text-align: right;\n",
              "    }\n",
              "</style>\n",
              "<table border=\"1\" class=\"dataframe\">\n",
              "  <thead>\n",
              "    <tr style=\"text-align: right;\">\n",
              "      <th></th>\n",
              "      <th>App</th>\n",
              "      <th>Translated_Review</th>\n",
              "      <th>Sentiment</th>\n",
              "      <th>Sentiment_Polarity</th>\n",
              "      <th>Sentiment_Subjectivity</th>\n",
              "    </tr>\n",
              "  </thead>\n",
              "  <tbody>\n",
              "    <tr>\n",
              "      <th>0</th>\n",
              "      <td>10 Best Foods for You</td>\n",
              "      <td>I like eat delicious food. That's I'm cooking ...</td>\n",
              "      <td>Positive</td>\n",
              "      <td>1.00</td>\n",
              "      <td>0.533333</td>\n",
              "    </tr>\n",
              "    <tr>\n",
              "      <th>1</th>\n",
              "      <td>10 Best Foods for You</td>\n",
              "      <td>This help eating healthy exercise regular basis</td>\n",
              "      <td>Positive</td>\n",
              "      <td>0.25</td>\n",
              "      <td>0.288462</td>\n",
              "    </tr>\n",
              "    <tr>\n",
              "      <th>2</th>\n",
              "      <td>10 Best Foods for You</td>\n",
              "      <td>NaN</td>\n",
              "      <td>NaN</td>\n",
              "      <td>NaN</td>\n",
              "      <td>NaN</td>\n",
              "    </tr>\n",
              "    <tr>\n",
              "      <th>3</th>\n",
              "      <td>10 Best Foods for You</td>\n",
              "      <td>Works great especially going grocery store</td>\n",
              "      <td>Positive</td>\n",
              "      <td>0.40</td>\n",
              "      <td>0.875000</td>\n",
              "    </tr>\n",
              "    <tr>\n",
              "      <th>4</th>\n",
              "      <td>10 Best Foods for You</td>\n",
              "      <td>Best idea us</td>\n",
              "      <td>Positive</td>\n",
              "      <td>1.00</td>\n",
              "      <td>0.300000</td>\n",
              "    </tr>\n",
              "  </tbody>\n",
              "</table>\n",
              "</div>"
            ],
            "text/plain": [
              "                     App  ... Sentiment_Subjectivity\n",
              "0  10 Best Foods for You  ...               0.533333\n",
              "1  10 Best Foods for You  ...               0.288462\n",
              "2  10 Best Foods for You  ...                    NaN\n",
              "3  10 Best Foods for You  ...               0.875000\n",
              "4  10 Best Foods for You  ...               0.300000\n",
              "\n",
              "[5 rows x 5 columns]"
            ]
          },
          "metadata": {},
          "execution_count": 12
        }
      ]
    },
    {
      "cell_type": "code",
      "metadata": {
        "colab": {
          "base_uri": "https://localhost:8080/",
          "height": 203
        },
        "id": "GhwgElQkoh14",
        "outputId": "2e8d0f50-2832-4bb0-890c-f1747188d052"
      },
      "source": [
        "#lets check our user review data from bottom\n",
        "user_review_df.tail()"
      ],
      "execution_count": null,
      "outputs": [
        {
          "output_type": "execute_result",
          "data": {
            "text/html": [
              "<div>\n",
              "<style scoped>\n",
              "    .dataframe tbody tr th:only-of-type {\n",
              "        vertical-align: middle;\n",
              "    }\n",
              "\n",
              "    .dataframe tbody tr th {\n",
              "        vertical-align: top;\n",
              "    }\n",
              "\n",
              "    .dataframe thead th {\n",
              "        text-align: right;\n",
              "    }\n",
              "</style>\n",
              "<table border=\"1\" class=\"dataframe\">\n",
              "  <thead>\n",
              "    <tr style=\"text-align: right;\">\n",
              "      <th></th>\n",
              "      <th>App</th>\n",
              "      <th>Translated_Review</th>\n",
              "      <th>Sentiment</th>\n",
              "      <th>Sentiment_Polarity</th>\n",
              "      <th>Sentiment_Subjectivity</th>\n",
              "    </tr>\n",
              "  </thead>\n",
              "  <tbody>\n",
              "    <tr>\n",
              "      <th>64290</th>\n",
              "      <td>Houzz Interior Design Ideas</td>\n",
              "      <td>NaN</td>\n",
              "      <td>NaN</td>\n",
              "      <td>NaN</td>\n",
              "      <td>NaN</td>\n",
              "    </tr>\n",
              "    <tr>\n",
              "      <th>64291</th>\n",
              "      <td>Houzz Interior Design Ideas</td>\n",
              "      <td>NaN</td>\n",
              "      <td>NaN</td>\n",
              "      <td>NaN</td>\n",
              "      <td>NaN</td>\n",
              "    </tr>\n",
              "    <tr>\n",
              "      <th>64292</th>\n",
              "      <td>Houzz Interior Design Ideas</td>\n",
              "      <td>NaN</td>\n",
              "      <td>NaN</td>\n",
              "      <td>NaN</td>\n",
              "      <td>NaN</td>\n",
              "    </tr>\n",
              "    <tr>\n",
              "      <th>64293</th>\n",
              "      <td>Houzz Interior Design Ideas</td>\n",
              "      <td>NaN</td>\n",
              "      <td>NaN</td>\n",
              "      <td>NaN</td>\n",
              "      <td>NaN</td>\n",
              "    </tr>\n",
              "    <tr>\n",
              "      <th>64294</th>\n",
              "      <td>Houzz Interior Design Ideas</td>\n",
              "      <td>NaN</td>\n",
              "      <td>NaN</td>\n",
              "      <td>NaN</td>\n",
              "      <td>NaN</td>\n",
              "    </tr>\n",
              "  </tbody>\n",
              "</table>\n",
              "</div>"
            ],
            "text/plain": [
              "                               App  ... Sentiment_Subjectivity\n",
              "64290  Houzz Interior Design Ideas  ...                    NaN\n",
              "64291  Houzz Interior Design Ideas  ...                    NaN\n",
              "64292  Houzz Interior Design Ideas  ...                    NaN\n",
              "64293  Houzz Interior Design Ideas  ...                    NaN\n",
              "64294  Houzz Interior Design Ideas  ...                    NaN\n",
              "\n",
              "[5 rows x 5 columns]"
            ]
          },
          "metadata": {},
          "execution_count": 13
        }
      ]
    },
    {
      "cell_type": "code",
      "metadata": {
        "id": "gR6Zzrv2YmKO"
      },
      "source": [
        "# lets merge both play store data and userreview data\n",
        "Merged_df=df.merge(user_review_df,on='App')"
      ],
      "execution_count": null,
      "outputs": []
    },
    {
      "cell_type": "code",
      "metadata": {
        "colab": {
          "base_uri": "https://localhost:8080/",
          "height": 408
        },
        "id": "2A7qvRX9os9p",
        "outputId": "26ef4404-ccfb-480f-afb3-56525bbe5434"
      },
      "source": [
        "#lets see our merged data from top\n",
        "Merged_df.head()"
      ],
      "execution_count": null,
      "outputs": [
        {
          "output_type": "execute_result",
          "data": {
            "text/html": [
              "<div>\n",
              "<style scoped>\n",
              "    .dataframe tbody tr th:only-of-type {\n",
              "        vertical-align: middle;\n",
              "    }\n",
              "\n",
              "    .dataframe tbody tr th {\n",
              "        vertical-align: top;\n",
              "    }\n",
              "\n",
              "    .dataframe thead th {\n",
              "        text-align: right;\n",
              "    }\n",
              "</style>\n",
              "<table border=\"1\" class=\"dataframe\">\n",
              "  <thead>\n",
              "    <tr style=\"text-align: right;\">\n",
              "      <th></th>\n",
              "      <th>App</th>\n",
              "      <th>Category</th>\n",
              "      <th>Rating</th>\n",
              "      <th>Reviews</th>\n",
              "      <th>Size</th>\n",
              "      <th>Installs</th>\n",
              "      <th>Type</th>\n",
              "      <th>Price</th>\n",
              "      <th>Content Rating</th>\n",
              "      <th>Genres</th>\n",
              "      <th>Last Updated</th>\n",
              "      <th>Current Ver</th>\n",
              "      <th>Android Ver</th>\n",
              "      <th>Translated_Review</th>\n",
              "      <th>Sentiment</th>\n",
              "      <th>Sentiment_Polarity</th>\n",
              "      <th>Sentiment_Subjectivity</th>\n",
              "    </tr>\n",
              "  </thead>\n",
              "  <tbody>\n",
              "    <tr>\n",
              "      <th>0</th>\n",
              "      <td>Coloring book moana</td>\n",
              "      <td>ART_AND_DESIGN</td>\n",
              "      <td>3.9</td>\n",
              "      <td>967</td>\n",
              "      <td>14M</td>\n",
              "      <td>500,000+</td>\n",
              "      <td>Free</td>\n",
              "      <td>0</td>\n",
              "      <td>Everyone</td>\n",
              "      <td>Art &amp; Design;Pretend Play</td>\n",
              "      <td>January 15, 2018</td>\n",
              "      <td>2.0.0</td>\n",
              "      <td>4.0.3 and up</td>\n",
              "      <td>A kid's excessive ads. The types ads allowed a...</td>\n",
              "      <td>Negative</td>\n",
              "      <td>-0.250</td>\n",
              "      <td>1.000000</td>\n",
              "    </tr>\n",
              "    <tr>\n",
              "      <th>1</th>\n",
              "      <td>Coloring book moana</td>\n",
              "      <td>ART_AND_DESIGN</td>\n",
              "      <td>3.9</td>\n",
              "      <td>967</td>\n",
              "      <td>14M</td>\n",
              "      <td>500,000+</td>\n",
              "      <td>Free</td>\n",
              "      <td>0</td>\n",
              "      <td>Everyone</td>\n",
              "      <td>Art &amp; Design;Pretend Play</td>\n",
              "      <td>January 15, 2018</td>\n",
              "      <td>2.0.0</td>\n",
              "      <td>4.0.3 and up</td>\n",
              "      <td>It bad &gt;:(</td>\n",
              "      <td>Negative</td>\n",
              "      <td>-0.725</td>\n",
              "      <td>0.833333</td>\n",
              "    </tr>\n",
              "    <tr>\n",
              "      <th>2</th>\n",
              "      <td>Coloring book moana</td>\n",
              "      <td>ART_AND_DESIGN</td>\n",
              "      <td>3.9</td>\n",
              "      <td>967</td>\n",
              "      <td>14M</td>\n",
              "      <td>500,000+</td>\n",
              "      <td>Free</td>\n",
              "      <td>0</td>\n",
              "      <td>Everyone</td>\n",
              "      <td>Art &amp; Design;Pretend Play</td>\n",
              "      <td>January 15, 2018</td>\n",
              "      <td>2.0.0</td>\n",
              "      <td>4.0.3 and up</td>\n",
              "      <td>like</td>\n",
              "      <td>Neutral</td>\n",
              "      <td>0.000</td>\n",
              "      <td>0.000000</td>\n",
              "    </tr>\n",
              "    <tr>\n",
              "      <th>3</th>\n",
              "      <td>Coloring book moana</td>\n",
              "      <td>ART_AND_DESIGN</td>\n",
              "      <td>3.9</td>\n",
              "      <td>967</td>\n",
              "      <td>14M</td>\n",
              "      <td>500,000+</td>\n",
              "      <td>Free</td>\n",
              "      <td>0</td>\n",
              "      <td>Everyone</td>\n",
              "      <td>Art &amp; Design;Pretend Play</td>\n",
              "      <td>January 15, 2018</td>\n",
              "      <td>2.0.0</td>\n",
              "      <td>4.0.3 and up</td>\n",
              "      <td>NaN</td>\n",
              "      <td>NaN</td>\n",
              "      <td>NaN</td>\n",
              "      <td>NaN</td>\n",
              "    </tr>\n",
              "    <tr>\n",
              "      <th>4</th>\n",
              "      <td>Coloring book moana</td>\n",
              "      <td>ART_AND_DESIGN</td>\n",
              "      <td>3.9</td>\n",
              "      <td>967</td>\n",
              "      <td>14M</td>\n",
              "      <td>500,000+</td>\n",
              "      <td>Free</td>\n",
              "      <td>0</td>\n",
              "      <td>Everyone</td>\n",
              "      <td>Art &amp; Design;Pretend Play</td>\n",
              "      <td>January 15, 2018</td>\n",
              "      <td>2.0.0</td>\n",
              "      <td>4.0.3 and up</td>\n",
              "      <td>I love colors inspyering</td>\n",
              "      <td>Positive</td>\n",
              "      <td>0.500</td>\n",
              "      <td>0.600000</td>\n",
              "    </tr>\n",
              "  </tbody>\n",
              "</table>\n",
              "</div>"
            ],
            "text/plain": [
              "                   App  ... Sentiment_Subjectivity\n",
              "0  Coloring book moana  ...               1.000000\n",
              "1  Coloring book moana  ...               0.833333\n",
              "2  Coloring book moana  ...               0.000000\n",
              "3  Coloring book moana  ...                    NaN\n",
              "4  Coloring book moana  ...               0.600000\n",
              "\n",
              "[5 rows x 17 columns]"
            ]
          },
          "metadata": {},
          "execution_count": 14
        }
      ]
    },
    {
      "cell_type": "code",
      "metadata": {
        "colab": {
          "base_uri": "https://localhost:8080/",
          "height": 660
        },
        "id": "8xby1aI9pBq0",
        "outputId": "72d4cb62-642a-416a-a809-54da6c8b3d0d"
      },
      "source": [
        "#lets see our merged data from bottom \n",
        "Merged_df.tail()"
      ],
      "execution_count": null,
      "outputs": [
        {
          "output_type": "execute_result",
          "data": {
            "text/html": [
              "<div>\n",
              "<style scoped>\n",
              "    .dataframe tbody tr th:only-of-type {\n",
              "        vertical-align: middle;\n",
              "    }\n",
              "\n",
              "    .dataframe tbody tr th {\n",
              "        vertical-align: top;\n",
              "    }\n",
              "\n",
              "    .dataframe thead th {\n",
              "        text-align: right;\n",
              "    }\n",
              "</style>\n",
              "<table border=\"1\" class=\"dataframe\">\n",
              "  <thead>\n",
              "    <tr style=\"text-align: right;\">\n",
              "      <th></th>\n",
              "      <th>App</th>\n",
              "      <th>Category</th>\n",
              "      <th>Rating</th>\n",
              "      <th>Reviews</th>\n",
              "      <th>Size</th>\n",
              "      <th>Installs</th>\n",
              "      <th>Type</th>\n",
              "      <th>Price</th>\n",
              "      <th>Content Rating</th>\n",
              "      <th>Genres</th>\n",
              "      <th>Last Updated</th>\n",
              "      <th>Current Ver</th>\n",
              "      <th>Android Ver</th>\n",
              "      <th>Translated_Review</th>\n",
              "      <th>Sentiment</th>\n",
              "      <th>Sentiment_Polarity</th>\n",
              "      <th>Sentiment_Subjectivity</th>\n",
              "    </tr>\n",
              "  </thead>\n",
              "  <tbody>\n",
              "    <tr>\n",
              "      <th>122657</th>\n",
              "      <td>A+ Gallery - Photos &amp; Videos</td>\n",
              "      <td>PHOTOGRAPHY</td>\n",
              "      <td>4.5</td>\n",
              "      <td>223941</td>\n",
              "      <td>Varies with device</td>\n",
              "      <td>10,000,000+</td>\n",
              "      <td>Free</td>\n",
              "      <td>0</td>\n",
              "      <td>Everyone</td>\n",
              "      <td>Photography</td>\n",
              "      <td>August 6, 2018</td>\n",
              "      <td>Varies with device</td>\n",
              "      <td>Varies with device</td>\n",
              "      <td>NaN</td>\n",
              "      <td>NaN</td>\n",
              "      <td>NaN</td>\n",
              "      <td>NaN</td>\n",
              "    </tr>\n",
              "    <tr>\n",
              "      <th>122658</th>\n",
              "      <td>A+ Gallery - Photos &amp; Videos</td>\n",
              "      <td>PHOTOGRAPHY</td>\n",
              "      <td>4.5</td>\n",
              "      <td>223941</td>\n",
              "      <td>Varies with device</td>\n",
              "      <td>10,000,000+</td>\n",
              "      <td>Free</td>\n",
              "      <td>0</td>\n",
              "      <td>Everyone</td>\n",
              "      <td>Photography</td>\n",
              "      <td>August 6, 2018</td>\n",
              "      <td>Varies with device</td>\n",
              "      <td>Varies with device</td>\n",
              "      <td>NaN</td>\n",
              "      <td>NaN</td>\n",
              "      <td>NaN</td>\n",
              "      <td>NaN</td>\n",
              "    </tr>\n",
              "    <tr>\n",
              "      <th>122659</th>\n",
              "      <td>A+ Gallery - Photos &amp; Videos</td>\n",
              "      <td>PHOTOGRAPHY</td>\n",
              "      <td>4.5</td>\n",
              "      <td>223941</td>\n",
              "      <td>Varies with device</td>\n",
              "      <td>10,000,000+</td>\n",
              "      <td>Free</td>\n",
              "      <td>0</td>\n",
              "      <td>Everyone</td>\n",
              "      <td>Photography</td>\n",
              "      <td>August 6, 2018</td>\n",
              "      <td>Varies with device</td>\n",
              "      <td>Varies with device</td>\n",
              "      <td>Too much ads</td>\n",
              "      <td>Positive</td>\n",
              "      <td>0.20</td>\n",
              "      <td>0.20</td>\n",
              "    </tr>\n",
              "    <tr>\n",
              "      <th>122660</th>\n",
              "      <td>A+ Gallery - Photos &amp; Videos</td>\n",
              "      <td>PHOTOGRAPHY</td>\n",
              "      <td>4.5</td>\n",
              "      <td>223941</td>\n",
              "      <td>Varies with device</td>\n",
              "      <td>10,000,000+</td>\n",
              "      <td>Free</td>\n",
              "      <td>0</td>\n",
              "      <td>Everyone</td>\n",
              "      <td>Photography</td>\n",
              "      <td>August 6, 2018</td>\n",
              "      <td>Varies with device</td>\n",
              "      <td>Varies with device</td>\n",
              "      <td>Just allow time ...</td>\n",
              "      <td>Neutral</td>\n",
              "      <td>0.00</td>\n",
              "      <td>0.00</td>\n",
              "    </tr>\n",
              "    <tr>\n",
              "      <th>122661</th>\n",
              "      <td>A+ Gallery - Photos &amp; Videos</td>\n",
              "      <td>PHOTOGRAPHY</td>\n",
              "      <td>4.5</td>\n",
              "      <td>223941</td>\n",
              "      <td>Varies with device</td>\n",
              "      <td>10,000,000+</td>\n",
              "      <td>Free</td>\n",
              "      <td>0</td>\n",
              "      <td>Everyone</td>\n",
              "      <td>Photography</td>\n",
              "      <td>August 6, 2018</td>\n",
              "      <td>Varies with device</td>\n",
              "      <td>Varies with device</td>\n",
              "      <td>It's good best gallery phone</td>\n",
              "      <td>Positive</td>\n",
              "      <td>0.85</td>\n",
              "      <td>0.45</td>\n",
              "    </tr>\n",
              "  </tbody>\n",
              "</table>\n",
              "</div>"
            ],
            "text/plain": [
              "                                 App  ... Sentiment_Subjectivity\n",
              "122657  A+ Gallery - Photos & Videos  ...                    NaN\n",
              "122658  A+ Gallery - Photos & Videos  ...                    NaN\n",
              "122659  A+ Gallery - Photos & Videos  ...                   0.20\n",
              "122660  A+ Gallery - Photos & Videos  ...                   0.00\n",
              "122661  A+ Gallery - Photos & Videos  ...                   0.45\n",
              "\n",
              "[5 rows x 17 columns]"
            ]
          },
          "metadata": {},
          "execution_count": 15
        }
      ]
    },
    {
      "cell_type": "code",
      "metadata": {
        "colab": {
          "base_uri": "https://localhost:8080/"
        },
        "id": "DMcUfqmhpNqE",
        "outputId": "f50ade18-280a-4d59-ac2d-e2ec12ff31ad"
      },
      "source": [
        "# lets print shape of our data\n",
        "Merged_df.shape"
      ],
      "execution_count": null,
      "outputs": [
        {
          "output_type": "execute_result",
          "data": {
            "text/plain": [
              "(122662, 17)"
            ]
          },
          "metadata": {},
          "execution_count": 17
        }
      ]
    },
    {
      "cell_type": "markdown",
      "metadata": {
        "id": "PK70Qo9wpt6C"
      },
      "source": [
        "So,there are 122662 rows and 17 columns i.e., features in our data."
      ]
    },
    {
      "cell_type": "markdown",
      "metadata": {
        "id": "TTytyE-mqYZc"
      },
      "source": [
        "# Now we have the merged data of both datasets i.e., play store data and user review data.Therefore, in the above dataset,we have four more columns.they are--\n",
        "1. Translated Review\n",
        "2. Sentiment\n",
        "3. Sentiment Polarity\n",
        "4. Sentiment Subjectivity\n"
      ]
    },
    {
      "cell_type": "markdown",
      "metadata": {
        "id": "TGOkLQCmun6o"
      },
      "source": [
        "**Translated Review--**\n",
        "                     Translated review is the text review given by user.\n"
      ]
    },
    {
      "cell_type": "markdown",
      "metadata": {
        "id": "kPySVktMvpc6"
      },
      "source": [
        "**Sentiment--**\n",
        "            It is An attitude or opinion that is often caused or influenced by emotion by user.It can be Negative,Positive or Neutral"
      ]
    },
    {
      "cell_type": "markdown",
      "metadata": {
        "id": "9kH8se9ZvpSV"
      },
      "source": [
        "**Sentiment Polarity--**\n",
        "                       It is the orientation of the expressed sentiment, i.e., it determines if the text expresses the positive, negative or neutral sentiment of the user about the entity in consideration.It is a range of values from -1 to +1.Where -1 means negative statement and +1 means positive statement. "
      ]
    },
    {
      "cell_type": "markdown",
      "metadata": {
        "id": "YDq9muPMxn1h"
      },
      "source": [
        "**Sentiment Subjectivity--**\n",
        "                          Sentiment Subjectivity expresses some personal feelings, views, or beliefs.It is a range of values from 0 to 1.Where 0 means most objective sentiment which is given without any experience and 1 means most subjective sentiment which is given by experience,"
      ]
    },
    {
      "cell_type": "code",
      "metadata": {
        "colab": {
          "base_uri": "https://localhost:8080/"
        },
        "id": "-Kk7UU_Rxnne",
        "outputId": "d204c1f5-a5cc-4399-ed00-f26b13f902ca"
      },
      "source": [
        "# lets check the information of our merged data\n",
        "Merged_df.info()"
      ],
      "execution_count": null,
      "outputs": [
        {
          "output_type": "stream",
          "name": "stdout",
          "text": [
            "<class 'pandas.core.frame.DataFrame'>\n",
            "Int64Index: 122662 entries, 0 to 122661\n",
            "Data columns (total 17 columns):\n",
            " #   Column                  Non-Null Count   Dtype  \n",
            "---  ------                  --------------   -----  \n",
            " 0   App                     122662 non-null  object \n",
            " 1   Category                122662 non-null  object \n",
            " 2   Rating                  122622 non-null  float64\n",
            " 3   Reviews                 122662 non-null  object \n",
            " 4   Size                    122662 non-null  object \n",
            " 5   Installs                122662 non-null  object \n",
            " 6   Type                    122662 non-null  object \n",
            " 7   Price                   122662 non-null  object \n",
            " 8   Content Rating          122662 non-null  object \n",
            " 9   Genres                  122662 non-null  object \n",
            " 10  Last Updated            122662 non-null  object \n",
            " 11  Current Ver             122662 non-null  object \n",
            " 12  Android Ver             122662 non-null  object \n",
            " 13  Translated_Review       72605 non-null   object \n",
            " 14  Sentiment               72615 non-null   object \n",
            " 15  Sentiment_Polarity      72615 non-null   float64\n",
            " 16  Sentiment_Subjectivity  72615 non-null   float64\n",
            "dtypes: float64(3), object(14)\n",
            "memory usage: 16.8+ MB\n"
          ]
        }
      ]
    },
    {
      "cell_type": "markdown",
      "metadata": {
        "id": "fnt-jyHA6JHs"
      },
      "source": [
        "# Step 2. Cleaning of Data"
      ]
    },
    {
      "cell_type": "code",
      "metadata": {
        "colab": {
          "base_uri": "https://localhost:8080/"
        },
        "id": "6ICvoAhRpg-c",
        "outputId": "980e6635-484a-47d8-c82d-999a676f9ec9"
      },
      "source": [
        "# lets check is there any null value\n",
        "Merged_df.isnull().sum()"
      ],
      "execution_count": null,
      "outputs": [
        {
          "output_type": "execute_result",
          "data": {
            "text/plain": [
              "App                           0\n",
              "Category                      0\n",
              "Rating                       40\n",
              "Reviews                       0\n",
              "Size                          0\n",
              "Installs                      0\n",
              "Type                          0\n",
              "Price                         0\n",
              "Content Rating                0\n",
              "Genres                        0\n",
              "Last Updated                  0\n",
              "Current Ver                   0\n",
              "Android Ver                   0\n",
              "Translated_Review         50057\n",
              "Sentiment                 50047\n",
              "Sentiment_Polarity        50047\n",
              "Sentiment_Subjectivity    50047\n",
              "dtype: int64"
            ]
          },
          "metadata": {},
          "execution_count": 36
        }
      ]
    },
    {
      "cell_type": "code",
      "metadata": {
        "id": "1RCXK9UBzSxW"
      },
      "source": [
        "# lets drop the null values\n",
        "Merged_df.dropna(axis=0,inplace=True)"
      ],
      "execution_count": 140,
      "outputs": []
    },
    {
      "cell_type": "code",
      "metadata": {
        "colab": {
          "base_uri": "https://localhost:8080/",
          "height": 408
        },
        "id": "M2T3gma-4-8Q",
        "outputId": "a860e67f-7d04-4d3b-e653-596e9cb5337a"
      },
      "source": [
        "#lets now check data from top\n",
        "Merged_df.head()"
      ],
      "execution_count": 141,
      "outputs": [
        {
          "output_type": "execute_result",
          "data": {
            "text/html": [
              "<div>\n",
              "<style scoped>\n",
              "    .dataframe tbody tr th:only-of-type {\n",
              "        vertical-align: middle;\n",
              "    }\n",
              "\n",
              "    .dataframe tbody tr th {\n",
              "        vertical-align: top;\n",
              "    }\n",
              "\n",
              "    .dataframe thead th {\n",
              "        text-align: right;\n",
              "    }\n",
              "</style>\n",
              "<table border=\"1\" class=\"dataframe\">\n",
              "  <thead>\n",
              "    <tr style=\"text-align: right;\">\n",
              "      <th></th>\n",
              "      <th>App</th>\n",
              "      <th>Category</th>\n",
              "      <th>Rating</th>\n",
              "      <th>Reviews</th>\n",
              "      <th>Size</th>\n",
              "      <th>Installs</th>\n",
              "      <th>Type</th>\n",
              "      <th>Price</th>\n",
              "      <th>Content Rating</th>\n",
              "      <th>Genres</th>\n",
              "      <th>Last Updated</th>\n",
              "      <th>Current Ver</th>\n",
              "      <th>Android Ver</th>\n",
              "      <th>Translated_Review</th>\n",
              "      <th>Sentiment</th>\n",
              "      <th>Sentiment_Polarity</th>\n",
              "      <th>Sentiment_Subjectivity</th>\n",
              "    </tr>\n",
              "  </thead>\n",
              "  <tbody>\n",
              "    <tr>\n",
              "      <th>0</th>\n",
              "      <td>Coloring book moana</td>\n",
              "      <td>ART_AND_DESIGN</td>\n",
              "      <td>3.9</td>\n",
              "      <td>967</td>\n",
              "      <td>14M</td>\n",
              "      <td>500,000+</td>\n",
              "      <td>Free</td>\n",
              "      <td>0</td>\n",
              "      <td>Everyone</td>\n",
              "      <td>Art &amp; Design;Pretend Play</td>\n",
              "      <td>January 15, 2018</td>\n",
              "      <td>2.0.0</td>\n",
              "      <td>4.0.3 and up</td>\n",
              "      <td>A kid's excessive ads. The types ads allowed a...</td>\n",
              "      <td>Negative</td>\n",
              "      <td>-0.250</td>\n",
              "      <td>1.000000</td>\n",
              "    </tr>\n",
              "    <tr>\n",
              "      <th>1</th>\n",
              "      <td>Coloring book moana</td>\n",
              "      <td>ART_AND_DESIGN</td>\n",
              "      <td>3.9</td>\n",
              "      <td>967</td>\n",
              "      <td>14M</td>\n",
              "      <td>500,000+</td>\n",
              "      <td>Free</td>\n",
              "      <td>0</td>\n",
              "      <td>Everyone</td>\n",
              "      <td>Art &amp; Design;Pretend Play</td>\n",
              "      <td>January 15, 2018</td>\n",
              "      <td>2.0.0</td>\n",
              "      <td>4.0.3 and up</td>\n",
              "      <td>It bad &gt;:(</td>\n",
              "      <td>Negative</td>\n",
              "      <td>-0.725</td>\n",
              "      <td>0.833333</td>\n",
              "    </tr>\n",
              "    <tr>\n",
              "      <th>2</th>\n",
              "      <td>Coloring book moana</td>\n",
              "      <td>ART_AND_DESIGN</td>\n",
              "      <td>3.9</td>\n",
              "      <td>967</td>\n",
              "      <td>14M</td>\n",
              "      <td>500,000+</td>\n",
              "      <td>Free</td>\n",
              "      <td>0</td>\n",
              "      <td>Everyone</td>\n",
              "      <td>Art &amp; Design;Pretend Play</td>\n",
              "      <td>January 15, 2018</td>\n",
              "      <td>2.0.0</td>\n",
              "      <td>4.0.3 and up</td>\n",
              "      <td>like</td>\n",
              "      <td>Neutral</td>\n",
              "      <td>0.000</td>\n",
              "      <td>0.000000</td>\n",
              "    </tr>\n",
              "    <tr>\n",
              "      <th>4</th>\n",
              "      <td>Coloring book moana</td>\n",
              "      <td>ART_AND_DESIGN</td>\n",
              "      <td>3.9</td>\n",
              "      <td>967</td>\n",
              "      <td>14M</td>\n",
              "      <td>500,000+</td>\n",
              "      <td>Free</td>\n",
              "      <td>0</td>\n",
              "      <td>Everyone</td>\n",
              "      <td>Art &amp; Design;Pretend Play</td>\n",
              "      <td>January 15, 2018</td>\n",
              "      <td>2.0.0</td>\n",
              "      <td>4.0.3 and up</td>\n",
              "      <td>I love colors inspyering</td>\n",
              "      <td>Positive</td>\n",
              "      <td>0.500</td>\n",
              "      <td>0.600000</td>\n",
              "    </tr>\n",
              "    <tr>\n",
              "      <th>5</th>\n",
              "      <td>Coloring book moana</td>\n",
              "      <td>ART_AND_DESIGN</td>\n",
              "      <td>3.9</td>\n",
              "      <td>967</td>\n",
              "      <td>14M</td>\n",
              "      <td>500,000+</td>\n",
              "      <td>Free</td>\n",
              "      <td>0</td>\n",
              "      <td>Everyone</td>\n",
              "      <td>Art &amp; Design;Pretend Play</td>\n",
              "      <td>January 15, 2018</td>\n",
              "      <td>2.0.0</td>\n",
              "      <td>4.0.3 and up</td>\n",
              "      <td>I hate</td>\n",
              "      <td>Negative</td>\n",
              "      <td>-0.800</td>\n",
              "      <td>0.900000</td>\n",
              "    </tr>\n",
              "  </tbody>\n",
              "</table>\n",
              "</div>"
            ],
            "text/plain": [
              "                   App  ... Sentiment_Subjectivity\n",
              "0  Coloring book moana  ...               1.000000\n",
              "1  Coloring book moana  ...               0.833333\n",
              "2  Coloring book moana  ...               0.000000\n",
              "4  Coloring book moana  ...               0.600000\n",
              "5  Coloring book moana  ...               0.900000\n",
              "\n",
              "[5 rows x 17 columns]"
            ]
          },
          "metadata": {},
          "execution_count": 141
        }
      ]
    },
    {
      "cell_type": "code",
      "metadata": {
        "colab": {
          "base_uri": "https://localhost:8080/",
          "height": 660
        },
        "id": "OSygq7lR5Luc",
        "outputId": "41277e8b-ef25-427e-896d-93e4be961020"
      },
      "source": [
        "# lets check it from bottom\n",
        "Merged_df.tail()"
      ],
      "execution_count": 142,
      "outputs": [
        {
          "output_type": "execute_result",
          "data": {
            "text/html": [
              "<div>\n",
              "<style scoped>\n",
              "    .dataframe tbody tr th:only-of-type {\n",
              "        vertical-align: middle;\n",
              "    }\n",
              "\n",
              "    .dataframe tbody tr th {\n",
              "        vertical-align: top;\n",
              "    }\n",
              "\n",
              "    .dataframe thead th {\n",
              "        text-align: right;\n",
              "    }\n",
              "</style>\n",
              "<table border=\"1\" class=\"dataframe\">\n",
              "  <thead>\n",
              "    <tr style=\"text-align: right;\">\n",
              "      <th></th>\n",
              "      <th>App</th>\n",
              "      <th>Category</th>\n",
              "      <th>Rating</th>\n",
              "      <th>Reviews</th>\n",
              "      <th>Size</th>\n",
              "      <th>Installs</th>\n",
              "      <th>Type</th>\n",
              "      <th>Price</th>\n",
              "      <th>Content Rating</th>\n",
              "      <th>Genres</th>\n",
              "      <th>Last Updated</th>\n",
              "      <th>Current Ver</th>\n",
              "      <th>Android Ver</th>\n",
              "      <th>Translated_Review</th>\n",
              "      <th>Sentiment</th>\n",
              "      <th>Sentiment_Polarity</th>\n",
              "      <th>Sentiment_Subjectivity</th>\n",
              "    </tr>\n",
              "  </thead>\n",
              "  <tbody>\n",
              "    <tr>\n",
              "      <th>122646</th>\n",
              "      <td>A+ Gallery - Photos &amp; Videos</td>\n",
              "      <td>PHOTOGRAPHY</td>\n",
              "      <td>4.5</td>\n",
              "      <td>223941</td>\n",
              "      <td>Varies with device</td>\n",
              "      <td>10,000,000+</td>\n",
              "      <td>Free</td>\n",
              "      <td>0</td>\n",
              "      <td>Everyone</td>\n",
              "      <td>Photography</td>\n",
              "      <td>August 6, 2018</td>\n",
              "      <td>Varies with device</td>\n",
              "      <td>Varies with device</td>\n",
              "      <td>Overall great app. Best gallery seen far</td>\n",
              "      <td>Positive</td>\n",
              "      <td>0.475000</td>\n",
              "      <td>0.512500</td>\n",
              "    </tr>\n",
              "    <tr>\n",
              "      <th>122652</th>\n",
              "      <td>A+ Gallery - Photos &amp; Videos</td>\n",
              "      <td>PHOTOGRAPHY</td>\n",
              "      <td>4.5</td>\n",
              "      <td>223941</td>\n",
              "      <td>Varies with device</td>\n",
              "      <td>10,000,000+</td>\n",
              "      <td>Free</td>\n",
              "      <td>0</td>\n",
              "      <td>Everyone</td>\n",
              "      <td>Photography</td>\n",
              "      <td>August 6, 2018</td>\n",
              "      <td>Varies with device</td>\n",
              "      <td>Varies with device</td>\n",
              "      <td>Recommended, 100% love it, keep good work dev ...</td>\n",
              "      <td>Positive</td>\n",
              "      <td>0.566667</td>\n",
              "      <td>0.733333</td>\n",
              "    </tr>\n",
              "    <tr>\n",
              "      <th>122659</th>\n",
              "      <td>A+ Gallery - Photos &amp; Videos</td>\n",
              "      <td>PHOTOGRAPHY</td>\n",
              "      <td>4.5</td>\n",
              "      <td>223941</td>\n",
              "      <td>Varies with device</td>\n",
              "      <td>10,000,000+</td>\n",
              "      <td>Free</td>\n",
              "      <td>0</td>\n",
              "      <td>Everyone</td>\n",
              "      <td>Photography</td>\n",
              "      <td>August 6, 2018</td>\n",
              "      <td>Varies with device</td>\n",
              "      <td>Varies with device</td>\n",
              "      <td>Too much ads</td>\n",
              "      <td>Positive</td>\n",
              "      <td>0.200000</td>\n",
              "      <td>0.200000</td>\n",
              "    </tr>\n",
              "    <tr>\n",
              "      <th>122660</th>\n",
              "      <td>A+ Gallery - Photos &amp; Videos</td>\n",
              "      <td>PHOTOGRAPHY</td>\n",
              "      <td>4.5</td>\n",
              "      <td>223941</td>\n",
              "      <td>Varies with device</td>\n",
              "      <td>10,000,000+</td>\n",
              "      <td>Free</td>\n",
              "      <td>0</td>\n",
              "      <td>Everyone</td>\n",
              "      <td>Photography</td>\n",
              "      <td>August 6, 2018</td>\n",
              "      <td>Varies with device</td>\n",
              "      <td>Varies with device</td>\n",
              "      <td>Just allow time ...</td>\n",
              "      <td>Neutral</td>\n",
              "      <td>0.000000</td>\n",
              "      <td>0.000000</td>\n",
              "    </tr>\n",
              "    <tr>\n",
              "      <th>122661</th>\n",
              "      <td>A+ Gallery - Photos &amp; Videos</td>\n",
              "      <td>PHOTOGRAPHY</td>\n",
              "      <td>4.5</td>\n",
              "      <td>223941</td>\n",
              "      <td>Varies with device</td>\n",
              "      <td>10,000,000+</td>\n",
              "      <td>Free</td>\n",
              "      <td>0</td>\n",
              "      <td>Everyone</td>\n",
              "      <td>Photography</td>\n",
              "      <td>August 6, 2018</td>\n",
              "      <td>Varies with device</td>\n",
              "      <td>Varies with device</td>\n",
              "      <td>It's good best gallery phone</td>\n",
              "      <td>Positive</td>\n",
              "      <td>0.850000</td>\n",
              "      <td>0.450000</td>\n",
              "    </tr>\n",
              "  </tbody>\n",
              "</table>\n",
              "</div>"
            ],
            "text/plain": [
              "                                 App  ... Sentiment_Subjectivity\n",
              "122646  A+ Gallery - Photos & Videos  ...               0.512500\n",
              "122652  A+ Gallery - Photos & Videos  ...               0.733333\n",
              "122659  A+ Gallery - Photos & Videos  ...               0.200000\n",
              "122660  A+ Gallery - Photos & Videos  ...               0.000000\n",
              "122661  A+ Gallery - Photos & Videos  ...               0.450000\n",
              "\n",
              "[5 rows x 17 columns]"
            ]
          },
          "metadata": {},
          "execution_count": 142
        }
      ]
    },
    {
      "cell_type": "markdown",
      "metadata": {
        "id": "UURcq-9N5fir"
      },
      "source": [
        "From both top and bottom view of data we can see that there is no. null values now in our data."
      ]
    },
    {
      "cell_type": "code",
      "metadata": {
        "colab": {
          "base_uri": "https://localhost:8080/",
          "height": 365
        },
        "id": "JCtx4xcn5cuJ",
        "outputId": "65066376-b635-4532-b762-dd29bef59ef0"
      },
      "source": [
        "#lets visualize it by plotting a histogram\n",
        "Merged_df.hist()"
      ],
      "execution_count": 143,
      "outputs": [
        {
          "output_type": "execute_result",
          "data": {
            "text/plain": [
              "array([[<matplotlib.axes._subplots.AxesSubplot object at 0x7f6320ee6090>,\n",
              "        <matplotlib.axes._subplots.AxesSubplot object at 0x7f6318004f10>],\n",
              "       [<matplotlib.axes._subplots.AxesSubplot object at 0x7f6317c19b90>,\n",
              "        <matplotlib.axes._subplots.AxesSubplot object at 0x7f631832b990>]],\n",
              "      dtype=object)"
            ]
          },
          "metadata": {},
          "execution_count": 143
        },
        {
          "output_type": "display_data",
          "data": {
            "image/png": "[encoded data removed]",
            "text/plain": [
              "<Figure size 432x288 with 4 Axes>"
            ]
          },
          "metadata": {
            "needs_background": "light"
          }
        }
      ]
    },
    {
      "cell_type": "markdown",
      "metadata": {
        "id": "4MAlqlBz6b8k"
      },
      "source": [
        "# Step 3. Exploratory Data Analysis(EDA) on combined data"
      ]
    },
    {
      "cell_type": "markdown",
      "metadata": {
        "id": "uWdLHTJ88dLU"
      },
      "source": [
        "**1. Sentiment Polarity Distribution**"
      ]
    },
    {
      "cell_type": "code",
      "metadata": {
        "colab": {
          "base_uri": "https://localhost:8080/",
          "height": 295
        },
        "id": "gmqkIwr0506n",
        "outputId": "5600d44d-a4c0-4f0a-aa9c-615874437bb7"
      },
      "source": [
        "#lets plot a  histogram on sentiment Polarity to analyzise data\n",
        "plt.hist(Merged_df[~Merged_df['Sentiment_Polarity'].isna()]['Sentiment_Polarity'])\n",
        "plt.title(\"Sentiment Polarity Distribution\")\n",
        "plt.xlabel(\"Sentiment Polarity Range\")\n",
        "plt.show()\n"
      ],
      "execution_count": 144,
      "outputs": [
        {
          "output_type": "display_data",
          "data": {
            "image/png": "[encoded data removed]",
            "text/plain": [
              "<Figure size 432x288 with 1 Axes>"
            ]
          },
          "metadata": {
            "needs_background": "light"
          }
        }
      ]
    },
    {
      "cell_type": "markdown",
      "metadata": {
        "id": "wX0FF21G71wR"
      },
      "source": [
        "# From above sentiment polarity histogram,we can see that the sentiment polarity range is between 0 to 1.Therefore,the reviews on play store data is mostly positive\n"
      ]
    },
    {
      "cell_type": "markdown",
      "metadata": {
        "id": "ZiiCEX_d8o-G"
      },
      "source": [
        "**2. Reviews sentiment in percent**"
      ]
    },
    {
      "cell_type": "code",
      "metadata": {
        "colab": {
          "base_uri": "https://localhost:8080/",
          "height": 268
        },
        "id": "quWgfxct70Ld",
        "outputId": "a64be418-3e52-4280-c38c-f8a03436fe43"
      },
      "source": [
        "#lets see review sentiment in percent\n",
        "Sentiment_count=Merged_df['Sentiment'].value_counts().to_list()\n",
        "labels=['Positive Reviews','Negative Reviews',\"Netural Reviews\"]\n",
        "plt.pie(x=Sentiment_count,labels=labels,autopct=\"%.2f%%\",radius=1.1,shadow=True,explode=[0,0.03,0.001])\n",
        "plt.title(\"Percentage Distribution Of Review Sentiments\")\n",
        "plt.legend(bbox_to_anchor=(1.05, 1), loc='upper left', borderaxespad=0)\n",
        "plt.show()"
      ],
      "execution_count": 146,
      "outputs": [
        {
          "output_type": "display_data",
          "data": {
            "image/png": "[encoded data removed]",
            "text/plain": [
              "<Figure size 432x288 with 1 Axes>"
            ]
          },
          "metadata": {}
        }
      ]
    },
    {
      "cell_type": "markdown",
      "metadata": {
        "id": "4E08lFUI9a85"
      },
      "source": [
        "# From above pie plot, we can see that most of the reviews given on play store data is positive(63.62%).And 24.98% given reviews are negative and 11.40% reviews are Neutral Reviews."
      ]
    },
    {
      "cell_type": "markdown",
      "metadata": {
        "id": "myHLha-o-cHe"
      },
      "source": [
        "**3. Sentiment Subjectivity Distribution**"
      ]
    },
    {
      "cell_type": "code",
      "metadata": {
        "colab": {
          "base_uri": "https://localhost:8080/",
          "height": 295
        },
        "id": "1y2WZ5_N-GKJ",
        "outputId": "ed6ff502-de63-4096-8e8b-09e7d0d1dcb8"
      },
      "source": [
        "# lets plot a sentiment subjectivity distribution histigram\n",
        "plt.hist(Merged_df[~Merged_df['Sentiment_Subjectivity'].isna()]['Sentiment_Subjectivity'])\n",
        "plt.title(\"Sentiment Subjectivity Distribution\")\n",
        "plt.xlabel(\"Sentiment Subjectivity Range\")\n",
        "plt.show()"
      ],
      "execution_count": 147,
      "outputs": [
        {
          "output_type": "display_data",
          "data": {
            "image/png": "[encoded data removed]",
            "text/plain": [
              "<Figure size 432x288 with 1 Axes>"
            ]
          },
          "metadata": {
            "needs_background": "light"
          }
        }
      ]
    },
    {
      "cell_type": "markdown",
      "metadata": {
        "id": "T_McqPUz_MW4"
      },
      "source": [
        "# From above sentiment subjectivity distribution histogram, we can see that most sentiment subjectivity range is from 0.4 to 0.6.Therefore,we can say that mostly user give review on the basis of their experiences."
      ]
    },
    {
      "cell_type": "markdown",
      "metadata": {
        "id": "oCuWo32EA0d1"
      },
      "source": [
        "# With this Note,We reached to the end of our exploration.Now,we are going for some question that can asked from our data and we will do conclusion of this amazing analysis."
      ]
    },
    {
      "cell_type": "markdown",
      "metadata": {
        "id": "Q5XM8OKeBqIF"
      },
      "source": [
        "**Questions and their answers from data** "
      ]
    },
    {
      "cell_type": "markdown",
      "metadata": {
        "id": "sC1zU66YCKYH"
      },
      "source": [
        "# QUS 1. Which are top ten most expensive apps?"
      ]
    },
    {
      "cell_type": "code",
      "metadata": {
        "id": "_Sm5c3aNA0Tx"
      },
      "source": [
        "#lets define a veriable for it\n",
        "Ten_most_expensive_apps= df[df['Type'] == 'Paid'].sort_values(by='Price', ascending=False).head(11)\n"
      ],
      "execution_count": 156,
      "outputs": []
    },
    {
      "cell_type": "code",
      "metadata": {
        "id": "1VSN1jR6_Lw6"
      },
      "source": [
        "#lets calculate it\n",
        "Ten_most_expensive_apps_df=Ten_most_expensive_apps[['App', 'Installs']].drop(9934)"
      ],
      "execution_count": 159,
      "outputs": []
    },
    {
      "cell_type": "code",
      "metadata": {
        "colab": {
          "base_uri": "https://localhost:8080/",
          "height": 704
        },
        "id": "DS5O35L_DNaB",
        "outputId": "67e20e2a-9617-428d-9a59-1be363a18b26"
      },
      "source": [
        "# lets plot it\n",
        "plt.figure(figsize=(15,12));\n",
        "plt.pie(Ten_most_expensive_apps_df.Installs, explode=None, labels=Ten_most_expensive_apps_df.App, autopct='%1.1f%%', startangle=0);\n",
        "plt.title('Top Expensive Apps Distribution',size = 20);\n",
        "plt.legend(Ten_most_expensive_apps_df.App, \n",
        "           loc=\"lower right\",\n",
        "           title=\"Apps\",\n",
        "           fontsize = \"xx-small\"\n",
        "          );"
      ],
      "execution_count": 162,
      "outputs": [
        {
          "output_type": "display_data",
          "data": {
            "image/png": "[encoded data removed]",
            "text/plain": [
              "<Figure size 1080x864 with 1 Axes>"
            ]
          },
          "metadata": {}
        }
      ]
    },
    {
      "cell_type": "markdown",
      "metadata": {
        "id": "63IgZ4GeEoeI"
      },
      "source": [
        "From above pie plot, we conclude that \"I am rich\" is the most expensive app in  google play store.And the second most expensive app in google play store is \"I am Rich plus\"."
      ]
    },
    {
      "cell_type": "markdown",
      "metadata": {
        "id": "hUlBPHH4FcbO"
      },
      "source": [
        "# QUS 2.Which are the Apps with highest number of reviews?"
      ]
    },
    {
      "cell_type": "code",
      "metadata": {
        "id": "Bx4CUCS0FqWO"
      },
      "source": [
        "Apps_with_Highest_rev = df.sort_values(by='Reviews', ascending=False).head(20)"
      ],
      "execution_count": 163,
      "outputs": []
    },
    {
      "cell_type": "code",
      "metadata": {
        "colab": {
          "base_uri": "https://localhost:8080/",
          "height": 665
        },
        "id": "L6b4tUJTENAQ",
        "outputId": "365624eb-3f39-48fd-a751-910a6574ec25"
      },
      "source": [
        "Apps_with_Highest_rev"
      ],
      "execution_count": 164,
      "outputs": [
        {
          "output_type": "execute_result",
          "data": {
            "text/html": [
              "<div>\n",
              "<style scoped>\n",
              "    .dataframe tbody tr th:only-of-type {\n",
              "        vertical-align: middle;\n",
              "    }\n",
              "\n",
              "    .dataframe tbody tr th {\n",
              "        vertical-align: top;\n",
              "    }\n",
              "\n",
              "    .dataframe thead th {\n",
              "        text-align: right;\n",
              "    }\n",
              "</style>\n",
              "<table border=\"1\" class=\"dataframe\">\n",
              "  <thead>\n",
              "    <tr style=\"text-align: right;\">\n",
              "      <th></th>\n",
              "      <th>App</th>\n",
              "      <th>Category</th>\n",
              "      <th>Rating</th>\n",
              "      <th>Reviews</th>\n",
              "      <th>Size</th>\n",
              "      <th>Installs</th>\n",
              "      <th>Type</th>\n",
              "      <th>Price</th>\n",
              "      <th>Content Rating</th>\n",
              "      <th>Genres</th>\n",
              "      <th>Last Updated</th>\n",
              "    </tr>\n",
              "  </thead>\n",
              "  <tbody>\n",
              "    <tr>\n",
              "      <th>2544</th>\n",
              "      <td>Facebook</td>\n",
              "      <td>SOCIAL</td>\n",
              "      <td>4.1</td>\n",
              "      <td>78158306</td>\n",
              "      <td>20.500000</td>\n",
              "      <td>1000000000</td>\n",
              "      <td>Free</td>\n",
              "      <td>0.0</td>\n",
              "      <td>Teen</td>\n",
              "      <td>Social</td>\n",
              "      <td>2018-08-03</td>\n",
              "    </tr>\n",
              "    <tr>\n",
              "      <th>3943</th>\n",
              "      <td>Facebook</td>\n",
              "      <td>SOCIAL</td>\n",
              "      <td>4.1</td>\n",
              "      <td>78128208</td>\n",
              "      <td>42.000000</td>\n",
              "      <td>1000000000</td>\n",
              "      <td>Free</td>\n",
              "      <td>0.0</td>\n",
              "      <td>Teen</td>\n",
              "      <td>Social</td>\n",
              "      <td>2018-08-03</td>\n",
              "    </tr>\n",
              "    <tr>\n",
              "      <th>381</th>\n",
              "      <td>WhatsApp Messenger</td>\n",
              "      <td>COMMUNICATION</td>\n",
              "      <td>4.4</td>\n",
              "      <td>69119316</td>\n",
              "      <td>47.666667</td>\n",
              "      <td>1000000000</td>\n",
              "      <td>Free</td>\n",
              "      <td>0.0</td>\n",
              "      <td>Everyone</td>\n",
              "      <td>Communication</td>\n",
              "      <td>2018-08-03</td>\n",
              "    </tr>\n",
              "    <tr>\n",
              "      <th>336</th>\n",
              "      <td>WhatsApp Messenger</td>\n",
              "      <td>COMMUNICATION</td>\n",
              "      <td>4.4</td>\n",
              "      <td>69119316</td>\n",
              "      <td>23.000000</td>\n",
              "      <td>1000000000</td>\n",
              "      <td>Free</td>\n",
              "      <td>0.0</td>\n",
              "      <td>Everyone</td>\n",
              "      <td>Communication</td>\n",
              "      <td>2018-08-03</td>\n",
              "    </tr>\n",
              "    <tr>\n",
              "      <th>3904</th>\n",
              "      <td>WhatsApp Messenger</td>\n",
              "      <td>COMMUNICATION</td>\n",
              "      <td>4.4</td>\n",
              "      <td>69109672</td>\n",
              "      <td>30.600000</td>\n",
              "      <td>1000000000</td>\n",
              "      <td>Free</td>\n",
              "      <td>0.0</td>\n",
              "      <td>Everyone</td>\n",
              "      <td>Communication</td>\n",
              "      <td>2018-08-03</td>\n",
              "    </tr>\n",
              "    <tr>\n",
              "      <th>2604</th>\n",
              "      <td>Instagram</td>\n",
              "      <td>SOCIAL</td>\n",
              "      <td>4.5</td>\n",
              "      <td>66577446</td>\n",
              "      <td>36.460000</td>\n",
              "      <td>1000000000</td>\n",
              "      <td>Free</td>\n",
              "      <td>0.0</td>\n",
              "      <td>Teen</td>\n",
              "      <td>Social</td>\n",
              "      <td>2018-07-31</td>\n",
              "    </tr>\n",
              "    <tr>\n",
              "      <th>2611</th>\n",
              "      <td>Instagram</td>\n",
              "      <td>SOCIAL</td>\n",
              "      <td>4.5</td>\n",
              "      <td>66577313</td>\n",
              "      <td>54.500000</td>\n",
              "      <td>1000000000</td>\n",
              "      <td>Free</td>\n",
              "      <td>0.0</td>\n",
              "      <td>Teen</td>\n",
              "      <td>Social</td>\n",
              "      <td>2018-07-31</td>\n",
              "    </tr>\n",
              "    <tr>\n",
              "      <th>2545</th>\n",
              "      <td>Instagram</td>\n",
              "      <td>SOCIAL</td>\n",
              "      <td>4.5</td>\n",
              "      <td>66577313</td>\n",
              "      <td>15.000000</td>\n",
              "      <td>1000000000</td>\n",
              "      <td>Free</td>\n",
              "      <td>0.0</td>\n",
              "      <td>Teen</td>\n",
              "      <td>Social</td>\n",
              "      <td>2018-07-31</td>\n",
              "    </tr>\n",
              "    <tr>\n",
              "      <th>3909</th>\n",
              "      <td>Instagram</td>\n",
              "      <td>SOCIAL</td>\n",
              "      <td>4.5</td>\n",
              "      <td>66509917</td>\n",
              "      <td>92.000000</td>\n",
              "      <td>1000000000</td>\n",
              "      <td>Free</td>\n",
              "      <td>0.0</td>\n",
              "      <td>Teen</td>\n",
              "      <td>Social</td>\n",
              "      <td>2018-07-31</td>\n",
              "    </tr>\n",
              "    <tr>\n",
              "      <th>382</th>\n",
              "      <td>Messenger – Text and Video Chat for Free</td>\n",
              "      <td>COMMUNICATION</td>\n",
              "      <td>4.0</td>\n",
              "      <td>56646578</td>\n",
              "      <td>29.333333</td>\n",
              "      <td>1000000000</td>\n",
              "      <td>Free</td>\n",
              "      <td>0.0</td>\n",
              "      <td>Everyone</td>\n",
              "      <td>Communication</td>\n",
              "      <td>2018-08-01</td>\n",
              "    </tr>\n",
              "    <tr>\n",
              "      <th>4104</th>\n",
              "      <td>Messenger – Text and Video Chat for Free</td>\n",
              "      <td>COMMUNICATION</td>\n",
              "      <td>4.0</td>\n",
              "      <td>56642847</td>\n",
              "      <td>5.350000</td>\n",
              "      <td>1000000000</td>\n",
              "      <td>Free</td>\n",
              "      <td>0.0</td>\n",
              "      <td>Everyone</td>\n",
              "      <td>Communication</td>\n",
              "      <td>2018-08-01</td>\n",
              "    </tr>\n",
              "    <tr>\n",
              "      <th>335</th>\n",
              "      <td>Messenger – Text and Video Chat for Free</td>\n",
              "      <td>COMMUNICATION</td>\n",
              "      <td>4.0</td>\n",
              "      <td>56642847</td>\n",
              "      <td>29.000000</td>\n",
              "      <td>1000000000</td>\n",
              "      <td>Free</td>\n",
              "      <td>0.0</td>\n",
              "      <td>Everyone</td>\n",
              "      <td>Communication</td>\n",
              "      <td>2018-08-01</td>\n",
              "    </tr>\n",
              "    <tr>\n",
              "      <th>1879</th>\n",
              "      <td>Clash of Clans</td>\n",
              "      <td>GAME</td>\n",
              "      <td>4.6</td>\n",
              "      <td>44893888</td>\n",
              "      <td>98.000000</td>\n",
              "      <td>100000000</td>\n",
              "      <td>Free</td>\n",
              "      <td>0.0</td>\n",
              "      <td>Everyone 10+</td>\n",
              "      <td>Strategy</td>\n",
              "      <td>2018-07-15</td>\n",
              "    </tr>\n",
              "    <tr>\n",
              "      <th>1704</th>\n",
              "      <td>Clash of Clans</td>\n",
              "      <td>GAME</td>\n",
              "      <td>4.6</td>\n",
              "      <td>44891723</td>\n",
              "      <td>98.000000</td>\n",
              "      <td>100000000</td>\n",
              "      <td>Free</td>\n",
              "      <td>0.0</td>\n",
              "      <td>Everyone 10+</td>\n",
              "      <td>Strategy</td>\n",
              "      <td>2018-07-15</td>\n",
              "    </tr>\n",
              "    <tr>\n",
              "      <th>1670</th>\n",
              "      <td>Clash of Clans</td>\n",
              "      <td>GAME</td>\n",
              "      <td>4.6</td>\n",
              "      <td>44891723</td>\n",
              "      <td>98.000000</td>\n",
              "      <td>100000000</td>\n",
              "      <td>Free</td>\n",
              "      <td>0.0</td>\n",
              "      <td>Everyone 10+</td>\n",
              "      <td>Strategy</td>\n",
              "      <td>2018-07-15</td>\n",
              "    </tr>\n",
              "    <tr>\n",
              "      <th>3986</th>\n",
              "      <td>Clash of Clans</td>\n",
              "      <td>FAMILY</td>\n",
              "      <td>4.6</td>\n",
              "      <td>44881447</td>\n",
              "      <td>98.000000</td>\n",
              "      <td>100000000</td>\n",
              "      <td>Free</td>\n",
              "      <td>0.0</td>\n",
              "      <td>Everyone 10+</td>\n",
              "      <td>Strategy</td>\n",
              "      <td>2018-07-15</td>\n",
              "    </tr>\n",
              "    <tr>\n",
              "      <th>4005</th>\n",
              "      <td>Clean Master- Space Cleaner &amp; Antivirus</td>\n",
              "      <td>TOOLS</td>\n",
              "      <td>4.7</td>\n",
              "      <td>42916526</td>\n",
              "      <td>6.750000</td>\n",
              "      <td>500000000</td>\n",
              "      <td>Free</td>\n",
              "      <td>0.0</td>\n",
              "      <td>Everyone</td>\n",
              "      <td>Tools</td>\n",
              "      <td>2018-08-03</td>\n",
              "    </tr>\n",
              "    <tr>\n",
              "      <th>1917</th>\n",
              "      <td>Subway Surfers</td>\n",
              "      <td>GAME</td>\n",
              "      <td>4.5</td>\n",
              "      <td>27725352</td>\n",
              "      <td>76.000000</td>\n",
              "      <td>1000000000</td>\n",
              "      <td>Free</td>\n",
              "      <td>0.0</td>\n",
              "      <td>Everyone 10+</td>\n",
              "      <td>Arcade</td>\n",
              "      <td>2018-07-12</td>\n",
              "    </tr>\n",
              "    <tr>\n",
              "      <th>1872</th>\n",
              "      <td>Subway Surfers</td>\n",
              "      <td>GAME</td>\n",
              "      <td>4.5</td>\n",
              "      <td>27725352</td>\n",
              "      <td>76.000000</td>\n",
              "      <td>1000000000</td>\n",
              "      <td>Free</td>\n",
              "      <td>0.0</td>\n",
              "      <td>Everyone 10+</td>\n",
              "      <td>Arcade</td>\n",
              "      <td>2018-07-12</td>\n",
              "    </tr>\n",
              "    <tr>\n",
              "      <th>1750</th>\n",
              "      <td>Subway Surfers</td>\n",
              "      <td>GAME</td>\n",
              "      <td>4.5</td>\n",
              "      <td>27724094</td>\n",
              "      <td>76.000000</td>\n",
              "      <td>1000000000</td>\n",
              "      <td>Free</td>\n",
              "      <td>0.0</td>\n",
              "      <td>Everyone 10+</td>\n",
              "      <td>Arcade</td>\n",
              "      <td>2018-07-12</td>\n",
              "    </tr>\n",
              "  </tbody>\n",
              "</table>\n",
              "</div>"
            ],
            "text/plain": [
              "                                           App  ... Last Updated\n",
              "2544                                  Facebook  ...   2018-08-03\n",
              "3943                                  Facebook  ...   2018-08-03\n",
              "381                         WhatsApp Messenger  ...   2018-08-03\n",
              "336                         WhatsApp Messenger  ...   2018-08-03\n",
              "3904                        WhatsApp Messenger  ...   2018-08-03\n",
              "2604                                 Instagram  ...   2018-07-31\n",
              "2611                                 Instagram  ...   2018-07-31\n",
              "2545                                 Instagram  ...   2018-07-31\n",
              "3909                                 Instagram  ...   2018-07-31\n",
              "382   Messenger – Text and Video Chat for Free  ...   2018-08-01\n",
              "4104  Messenger – Text and Video Chat for Free  ...   2018-08-01\n",
              "335   Messenger – Text and Video Chat for Free  ...   2018-08-01\n",
              "1879                            Clash of Clans  ...   2018-07-15\n",
              "1704                            Clash of Clans  ...   2018-07-15\n",
              "1670                            Clash of Clans  ...   2018-07-15\n",
              "3986                            Clash of Clans  ...   2018-07-15\n",
              "4005   Clean Master- Space Cleaner & Antivirus  ...   2018-08-03\n",
              "1917                            Subway Surfers  ...   2018-07-12\n",
              "1872                            Subway Surfers  ...   2018-07-12\n",
              "1750                            Subway Surfers  ...   2018-07-12\n",
              "\n",
              "[20 rows x 11 columns]"
            ]
          },
          "metadata": {},
          "execution_count": 164
        }
      ]
    },
    {
      "cell_type": "markdown",
      "metadata": {
        "id": "jMlDO06bEnUK"
      },
      "source": [
        "From above data,We conclude that Facebook,Whatsapp Messenger,Instagram etc.are the most reviewed applications on playstore."
      ]
    },
    {
      "cell_type": "markdown",
      "metadata": {
        "id": "rsWWY5bhHdvB"
      },
      "source": [
        "# Conclusions:---"
      ]
    },
    {
      "cell_type": "markdown",
      "metadata": {
        "id": "RhjDrrLjHlrK"
      },
      "source": [
        "# After analyzing this data,I came to know some very serious conclusions which i am mentioning below:---"
      ]
    },
    {
      "cell_type": "code",
      "metadata": {
        "id": "3sT5b3_lGwRN"
      },
      "source": [
        ""
      ],
      "execution_count": null,
      "outputs": []
    }
  ]
}